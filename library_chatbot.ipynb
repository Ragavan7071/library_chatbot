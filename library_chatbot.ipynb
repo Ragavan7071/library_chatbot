{
  "nbformat": 4,
  "nbformat_minor": 0,
  "metadata": {
    "accelerator": "GPU",
    "colab": {
      "name": "library chatbot.ipynb",
      "provenance": [],
      "collapsed_sections": [],
      "mount_file_id": "15_tHDUD2QfezxCGvhKQhXpk9vh3bnv3x",
      "authorship_tag": "ABX9TyPOuw4oYMOpBfSgKZ4itrTl",
      "include_colab_link": true
    },
    "kernelspec": {
      "display_name": "Python 3",
      "name": "python3"
    },
    "language_info": {
      "name": "python"
    }
  },
  "cells": [
    {
      "cell_type": "markdown",
      "metadata": {
        "id": "view-in-github",
        "colab_type": "text"
      },
      "source": [
        "<a href=\"https://colab.research.google.com/github/Ragavan7071/library_chatbot/blob/main/library_chatbot.ipynb\" target=\"_parent\"><img src=\"https://colab.research.google.com/assets/colab-badge.svg\" alt=\"Open In Colab\"/></a>"
      ]
    },
    {
      "cell_type": "markdown",
      "metadata": {
        "id": "ZIFDGR3TlHbz"
      },
      "source": [
        "Welcome to library chatbot"
      ]
    },
    {
      "cell_type": "markdown",
      "metadata": {
        "id": "j4fiH-jjlQSz"
      },
      "source": [
        "First we cloning our repo for neccessary dataset"
      ]
    },
    {
      "cell_type": "code",
      "metadata": {
        "id": "iS0uqBbbsnS3",
        "colab": {
          "base_uri": "https://localhost:8080/"
        },
        "outputId": "0baf394a-670e-4ab3-d6da-b70a5fc8f774"
      },
      "source": [
        "!git clone \"https://github.com/Ragavan7071/library_chatbot.git\""
      ],
      "execution_count": null,
      "outputs": [
        {
          "output_type": "stream",
          "text": [
            "Cloning into 'library_chatbot'...\n",
            "remote: Enumerating objects: 74, done.\u001b[K\n",
            "remote: Counting objects: 100% (74/74), done.\u001b[K\n",
            "remote: Compressing objects: 100% (71/71), done.\u001b[K\n",
            "remote: Total 74 (delta 28), reused 0 (delta 0), pack-reused 0\u001b[K\n",
            "Unpacking objects: 100% (74/74), done.\n"
          ],
          "name": "stdout"
        }
      ]
    },
    {
      "cell_type": "markdown",
      "metadata": {
        "id": "BFlGebuCle0N"
      },
      "source": [
        "installing and importing mandatory files"
      ]
    },
    {
      "cell_type": "code",
      "metadata": {
        "id": "fDcmq-rSkkd5",
        "colab": {
          "base_uri": "https://localhost:8080/"
        },
        "outputId": "39d95d15-80dc-413e-de21-74827dc2595b"
      },
      "source": [
        "!pip install flask_ngrok"
      ],
      "execution_count": null,
      "outputs": [
        {
          "output_type": "stream",
          "text": [
            "Collecting flask_ngrok\n",
            "  Downloading https://files.pythonhosted.org/packages/af/6c/f54cb686ad1129e27d125d182f90f52b32f284e6c8df58c1bae54fa1adbc/flask_ngrok-0.0.25-py3-none-any.whl\n",
            "Requirement already satisfied: requests in /usr/local/lib/python3.7/dist-packages (from flask_ngrok) (2.23.0)\n",
            "Requirement already satisfied: Flask>=0.8 in /usr/local/lib/python3.7/dist-packages (from flask_ngrok) (1.1.2)\n",
            "Requirement already satisfied: certifi>=2017.4.17 in /usr/local/lib/python3.7/dist-packages (from requests->flask_ngrok) (2020.12.5)\n",
            "Requirement already satisfied: idna<3,>=2.5 in /usr/local/lib/python3.7/dist-packages (from requests->flask_ngrok) (2.10)\n",
            "Requirement already satisfied: chardet<4,>=3.0.2 in /usr/local/lib/python3.7/dist-packages (from requests->flask_ngrok) (3.0.4)\n",
            "Requirement already satisfied: urllib3!=1.25.0,!=1.25.1,<1.26,>=1.21.1 in /usr/local/lib/python3.7/dist-packages (from requests->flask_ngrok) (1.24.3)\n",
            "Requirement already satisfied: click>=5.1 in /usr/local/lib/python3.7/dist-packages (from Flask>=0.8->flask_ngrok) (7.1.2)\n",
            "Requirement already satisfied: Werkzeug>=0.15 in /usr/local/lib/python3.7/dist-packages (from Flask>=0.8->flask_ngrok) (1.0.1)\n",
            "Requirement already satisfied: itsdangerous>=0.24 in /usr/local/lib/python3.7/dist-packages (from Flask>=0.8->flask_ngrok) (1.1.0)\n",
            "Requirement already satisfied: Jinja2>=2.10.1 in /usr/local/lib/python3.7/dist-packages (from Flask>=0.8->flask_ngrok) (2.11.3)\n",
            "Requirement already satisfied: MarkupSafe>=0.23 in /usr/local/lib/python3.7/dist-packages (from Jinja2>=2.10.1->Flask>=0.8->flask_ngrok) (1.1.1)\n",
            "Installing collected packages: flask-ngrok\n",
            "Successfully installed flask-ngrok-0.0.25\n"
          ],
          "name": "stdout"
        }
      ]
    },
    {
      "cell_type": "code",
      "metadata": {
        "id": "Rh6uT7LI6g7J",
        "colab": {
          "base_uri": "https://localhost:8080/"
        },
        "outputId": "088636dc-e6fa-4248-c02f-8817838f2a47"
      },
      "source": [
        "!pip install ChatterBot"
      ],
      "execution_count": null,
      "outputs": [
        {
          "output_type": "stream",
          "text": [
            "Collecting ChatterBot\n",
            "\u001b[?25l  Downloading https://files.pythonhosted.org/packages/7c/21/85c2b114bd9dfabdd46ba58fc4519acdaed45d8c70898d40079e37a45e67/ChatterBot-1.0.8-py2.py3-none-any.whl (63kB)\n",
            "\u001b[K     |████████████████████████████████| 71kB 5.8MB/s \n",
            "\u001b[?25hRequirement already satisfied: python-dateutil<2.9,>=2.8 in /usr/local/lib/python3.7/dist-packages (from ChatterBot) (2.8.1)\n",
            "Collecting sqlalchemy<1.4,>=1.3\n",
            "\u001b[?25l  Downloading https://files.pythonhosted.org/packages/31/44/a86070dda790ce94cd7d9fb9281cd614c7d30850ed774ace9a84d0d5d491/SQLAlchemy-1.3.24-cp37-cp37m-manylinux2010_x86_64.whl (1.3MB)\n",
            "\u001b[K     |████████████████████████████████| 1.3MB 11.2MB/s \n",
            "\u001b[?25hRequirement already satisfied: pytz in /usr/local/lib/python3.7/dist-packages (from ChatterBot) (2018.9)\n",
            "Collecting mathparse<0.2,>=0.1\n",
            "  Downloading https://files.pythonhosted.org/packages/c3/e5/4910fb85950cb960fcf3f5aabe1c8e55f5c9201788a1c1302b570a7e1f84/mathparse-0.1.2-py3-none-any.whl\n",
            "Requirement already satisfied: six>=1.5 in /usr/local/lib/python3.7/dist-packages (from python-dateutil<2.9,>=2.8->ChatterBot) (1.15.0)\n",
            "Installing collected packages: sqlalchemy, mathparse, ChatterBot\n",
            "  Found existing installation: SQLAlchemy 1.4.7\n",
            "    Uninstalling SQLAlchemy-1.4.7:\n",
            "      Successfully uninstalled SQLAlchemy-1.4.7\n",
            "Successfully installed ChatterBot-1.0.8 mathparse-0.1.2 sqlalchemy-1.3.24\n"
          ],
          "name": "stdout"
        }
      ]
    },
    {
      "cell_type": "code",
      "metadata": {
        "id": "HLgHD_oHc3Ka"
      },
      "source": [
        "import numpy as np\n",
        "import pandas as pd\n",
        "import matplotlib.pyplot as plt\n",
        "import seaborn as sns\n",
        "from sklearn.preprocessing import MinMaxScaler\n",
        "from sklearn import neighbors\n",
        "import random\n",
        "import math\n",
        "from chatterbot.trainers import ChatterBotCorpusTrainer\n",
        "from chatterbot import ChatBot\n",
        "from chatterbot.trainers import UbuntuCorpusTrainer \n",
        "import requests\n",
        "import json\n",
        "import configparser as cfg"
      ],
      "execution_count": null,
      "outputs": []
    },
    {
      "cell_type": "markdown",
      "metadata": {
        "id": "17lL5n4Zlqjj"
      },
      "source": [
        "Reading the file"
      ]
    },
    {
      "cell_type": "code",
      "metadata": {
        "id": "0E6uVzz6dC5i"
      },
      "source": [
        "data = pd.read_csv(\"/content/library_chatbot/books.csv\", error_bad_lines = False)\n",
        "data.head()"
      ],
      "execution_count": null,
      "outputs": []
    },
    {
      "cell_type": "markdown",
      "metadata": {
        "id": "hgTCe9Gcl2Rv"
      },
      "source": [
        "sorting our data according to rating"
      ]
    },
    {
      "cell_type": "code",
      "metadata": {
        "id": "4oo_E9UmeD9C"
      },
      "source": [
        "top_books = data[data['ratings_count'] > 1000000]\n",
        "top_books = top_books.sort_values(by='average_rating', ascending=False).head(20)"
      ],
      "execution_count": null,
      "outputs": []
    },
    {
      "cell_type": "markdown",
      "metadata": {
        "id": "F_6oNSiAmF5n"
      },
      "source": [
        "sorting the books according to vote"
      ]
    },
    {
      "cell_type": "code",
      "metadata": {
        "id": "xGSzrQ-jeMMP"
      },
      "source": [
        "top_vote = data.sort_values(by='ratings_count', ascending=False).head(20)"
      ],
      "execution_count": null,
      "outputs": []
    },
    {
      "cell_type": "code",
      "metadata": {
        "colab": {
          "base_uri": "https://localhost:8080/"
        },
        "id": "13AjX1vseQPQ",
        "outputId": "68d20bcf-c9dd-466f-e517-8b3f34ccc995"
      },
      "source": [
        "list(set(top_books['title'].values) - set(top_vote['title'].values))"
      ],
      "execution_count": null,
      "outputs": [
        {
          "output_type": "execute_result",
          "data": {
            "text/plain": [
              "['Brave New World',\n",
              " 'Water for Elephants',\n",
              " 'Memoirs of a Geisha',\n",
              " 'Slaughterhouse-Five',\n",
              " 'The Notebook (The Notebook  #1)',\n",
              " \"Charlotte's Web\",\n",
              " 'The Secret Life of Bees']"
            ]
          },
          "metadata": {
            "tags": []
          },
          "execution_count": 8
        }
      ]
    },
    {
      "cell_type": "code",
      "metadata": {
        "colab": {
          "base_uri": "https://localhost:8080/"
        },
        "id": "4KtVDt7weVl1",
        "outputId": "735a8aba-c5a6-4be4-bc2e-977df8c77841"
      },
      "source": [
        "list(set(top_vote['title'].values) - set(top_books['title'].values))"
      ],
      "execution_count": null,
      "outputs": [
        {
          "output_type": "execute_result",
          "data": {
            "text/plain": [
              "['Of Mice and Men',\n",
              " 'The Alchemist',\n",
              " 'Lord of the Flies',\n",
              " 'The Catcher in the Rye',\n",
              " 'Twilight (Twilight  #1)',\n",
              " 'Romeo and Juliet',\n",
              " 'The Da Vinci Code (Robert Langdon  #2)']"
            ]
          },
          "metadata": {
            "tags": []
          },
          "execution_count": 9
        }
      ]
    },
    {
      "cell_type": "markdown",
      "metadata": {
        "id": "FlDW2AmWmNiU"
      },
      "source": [
        "these parts are all for obtaing author details,and sorting according to that"
      ]
    },
    {
      "cell_type": "code",
      "metadata": {
        "id": "MmJ9Oh09eeVD"
      },
      "source": [
        "new_data = data.copy()\n",
        "def fun_only_author(text):\n",
        "    arlen = text.split('/')\n",
        "    return arlen[0]"
      ],
      "execution_count": null,
      "outputs": []
    },
    {
      "cell_type": "code",
      "metadata": {
        "id": "TraqZHWEejoY"
      },
      "source": [
        "new_data['only_author'] = new_data['authors'].apply(lambda x : fun_only_author(x))"
      ],
      "execution_count": null,
      "outputs": []
    },
    {
      "cell_type": "markdown",
      "metadata": {
        "id": "kMkoN0DOmtah"
      },
      "source": [
        "average rating "
      ]
    },
    {
      "cell_type": "code",
      "metadata": {
        "colab": {
          "base_uri": "https://localhost:8080/",
          "height": 419
        },
        "id": "83stpFanel-W",
        "outputId": "b23beb9c-d54f-4696-8b2d-25a331033f4d"
      },
      "source": [
        "total_rating = new_data.drop_duplicates(subset=['only_author', 'title'], keep='first')\n",
        "total_rating = total_rating.groupby(by=['only_author']).agg({'average_rating': ['sum']})\n",
        "total_rating.columns = ['total_rating']\n",
        "total_rating.reset_index(inplace=True)\n",
        "total_rating = total_rating.sort_values(by=['total_rating'], ascending=False)\n",
        "total_rating"
      ],
      "execution_count": null,
      "outputs": [
        {
          "output_type": "execute_result",
          "data": {
            "text/html": [
              "<div>\n",
              "<style scoped>\n",
              "    .dataframe tbody tr th:only-of-type {\n",
              "        vertical-align: middle;\n",
              "    }\n",
              "\n",
              "    .dataframe tbody tr th {\n",
              "        vertical-align: top;\n",
              "    }\n",
              "\n",
              "    .dataframe thead th {\n",
              "        text-align: right;\n",
              "    }\n",
              "</style>\n",
              "<table border=\"1\" class=\"dataframe\">\n",
              "  <thead>\n",
              "    <tr style=\"text-align: right;\">\n",
              "      <th></th>\n",
              "      <th>only_author</th>\n",
              "      <th>total_rating</th>\n",
              "    </tr>\n",
              "  </thead>\n",
              "  <tbody>\n",
              "    <tr>\n",
              "      <th>3753</th>\n",
              "      <td>Stephen King</td>\n",
              "      <td>250.79</td>\n",
              "    </tr>\n",
              "    <tr>\n",
              "      <th>3006</th>\n",
              "      <td>P.G. Wodehouse</td>\n",
              "      <td>187.31</td>\n",
              "    </tr>\n",
              "    <tr>\n",
              "      <th>4161</th>\n",
              "      <td>William Shakespeare</td>\n",
              "      <td>178.45</td>\n",
              "    </tr>\n",
              "    <tr>\n",
              "      <th>1603</th>\n",
              "      <td>J.R.R. Tolkien</td>\n",
              "      <td>172.22</td>\n",
              "    </tr>\n",
              "    <tr>\n",
              "      <th>3536</th>\n",
              "      <td>Rumiko Takahashi</td>\n",
              "      <td>163.28</td>\n",
              "    </tr>\n",
              "    <tr>\n",
              "      <th>...</th>\n",
              "      <td>...</td>\n",
              "      <td>...</td>\n",
              "    </tr>\n",
              "    <tr>\n",
              "      <th>146</th>\n",
              "      <td>Andrew      Hunt</td>\n",
              "      <td>0.00</td>\n",
              "    </tr>\n",
              "    <tr>\n",
              "      <th>1654</th>\n",
              "      <td>James Craig Holte</td>\n",
              "      <td>0.00</td>\n",
              "    </tr>\n",
              "    <tr>\n",
              "      <th>1751</th>\n",
              "      <td>Jasmine C.M. Luk</td>\n",
              "      <td>0.00</td>\n",
              "    </tr>\n",
              "    <tr>\n",
              "      <th>935</th>\n",
              "      <td>Dobrica Erić</td>\n",
              "      <td>0.00</td>\n",
              "    </tr>\n",
              "    <tr>\n",
              "      <th>3360</th>\n",
              "      <td>Rick Osborne</td>\n",
              "      <td>0.00</td>\n",
              "    </tr>\n",
              "  </tbody>\n",
              "</table>\n",
              "<p>4215 rows × 2 columns</p>\n",
              "</div>"
            ],
            "text/plain": [
              "              only_author  total_rating\n",
              "3753         Stephen King        250.79\n",
              "3006       P.G. Wodehouse        187.31\n",
              "4161  William Shakespeare        178.45\n",
              "1603       J.R.R. Tolkien        172.22\n",
              "3536     Rumiko Takahashi        163.28\n",
              "...                   ...           ...\n",
              "146      Andrew      Hunt          0.00\n",
              "1654    James Craig Holte          0.00\n",
              "1751     Jasmine C.M. Luk          0.00\n",
              "935          Dobrica Erić          0.00\n",
              "3360         Rick Osborne          0.00\n",
              "\n",
              "[4215 rows x 2 columns]"
            ]
          },
          "metadata": {
            "tags": []
          },
          "execution_count": 12
        }
      ]
    },
    {
      "cell_type": "markdown",
      "metadata": {
        "id": "l1i2ARVFmzFE"
      },
      "source": [
        "total no of boooks by author"
      ]
    },
    {
      "cell_type": "code",
      "metadata": {
        "colab": {
          "base_uri": "https://localhost:8080/",
          "height": 419
        },
        "id": "NQZiP9zsetyP",
        "outputId": "71b2c1e7-a167-44d4-fb27-06b6e712ae67"
      },
      "source": [
        "total_book = new_data.groupby(by=['only_author']).agg({'title': ['nunique']})\n",
        "total_book.columns = ['total_book']\n",
        "total_book.reset_index(inplace=True)\n",
        "total_book = total_book.sort_values(by=['total_book'], ascending=False)\n",
        "total_book"
      ],
      "execution_count": null,
      "outputs": [
        {
          "output_type": "execute_result",
          "data": {
            "text/html": [
              "<div>\n",
              "<style scoped>\n",
              "    .dataframe tbody tr th:only-of-type {\n",
              "        vertical-align: middle;\n",
              "    }\n",
              "\n",
              "    .dataframe tbody tr th {\n",
              "        vertical-align: top;\n",
              "    }\n",
              "\n",
              "    .dataframe thead th {\n",
              "        text-align: right;\n",
              "    }\n",
              "</style>\n",
              "<table border=\"1\" class=\"dataframe\">\n",
              "  <thead>\n",
              "    <tr style=\"text-align: right;\">\n",
              "      <th></th>\n",
              "      <th>only_author</th>\n",
              "      <th>total_book</th>\n",
              "    </tr>\n",
              "  </thead>\n",
              "  <tbody>\n",
              "    <tr>\n",
              "      <th>3753</th>\n",
              "      <td>Stephen King</td>\n",
              "      <td>63</td>\n",
              "    </tr>\n",
              "    <tr>\n",
              "      <th>4161</th>\n",
              "      <td>William Shakespeare</td>\n",
              "      <td>45</td>\n",
              "    </tr>\n",
              "    <tr>\n",
              "      <th>3006</th>\n",
              "      <td>P.G. Wodehouse</td>\n",
              "      <td>45</td>\n",
              "    </tr>\n",
              "    <tr>\n",
              "      <th>29</th>\n",
              "      <td>Agatha Christie</td>\n",
              "      <td>41</td>\n",
              "    </tr>\n",
              "    <tr>\n",
              "      <th>1603</th>\n",
              "      <td>J.R.R. Tolkien</td>\n",
              "      <td>41</td>\n",
              "    </tr>\n",
              "    <tr>\n",
              "      <th>...</th>\n",
              "      <td>...</td>\n",
              "      <td>...</td>\n",
              "    </tr>\n",
              "    <tr>\n",
              "      <th>1727</th>\n",
              "      <td>Jane Parker Resnick</td>\n",
              "      <td>1</td>\n",
              "    </tr>\n",
              "    <tr>\n",
              "      <th>1729</th>\n",
              "      <td>Jane Robins</td>\n",
              "      <td>1</td>\n",
              "    </tr>\n",
              "    <tr>\n",
              "      <th>1731</th>\n",
              "      <td>Jane Walmsley</td>\n",
              "      <td>1</td>\n",
              "    </tr>\n",
              "    <tr>\n",
              "      <th>1732</th>\n",
              "      <td>Jane Werner Watson</td>\n",
              "      <td>1</td>\n",
              "    </tr>\n",
              "    <tr>\n",
              "      <th>4214</th>\n",
              "      <td>Éric-Emmanuel Schmitt</td>\n",
              "      <td>1</td>\n",
              "    </tr>\n",
              "  </tbody>\n",
              "</table>\n",
              "<p>4215 rows × 2 columns</p>\n",
              "</div>"
            ],
            "text/plain": [
              "                only_author  total_book\n",
              "3753           Stephen King          63\n",
              "4161    William Shakespeare          45\n",
              "3006         P.G. Wodehouse          45\n",
              "29          Agatha Christie          41\n",
              "1603         J.R.R. Tolkien          41\n",
              "...                     ...         ...\n",
              "1727    Jane Parker Resnick           1\n",
              "1729            Jane Robins           1\n",
              "1731          Jane Walmsley           1\n",
              "1732     Jane Werner Watson           1\n",
              "4214  Éric-Emmanuel Schmitt           1\n",
              "\n",
              "[4215 rows x 2 columns]"
            ]
          },
          "metadata": {
            "tags": []
          },
          "execution_count": 13
        }
      ]
    },
    {
      "cell_type": "markdown",
      "metadata": {
        "id": "B_2AIg-om4GX"
      },
      "source": [
        "average rating"
      ]
    },
    {
      "cell_type": "code",
      "metadata": {
        "colab": {
          "base_uri": "https://localhost:8080/",
          "height": 669
        },
        "id": "T-7uFe40exKe",
        "outputId": "c811bf1f-2df3-49ff-d93c-61886098992c"
      },
      "source": [
        "avg_author = pd.merge(total_book, total_rating, on='only_author', how='outer')\n",
        "avg_author['average_rating'] = round(avg_author['total_rating'] / avg_author['total_book'], 2)\n",
        "avg_author = avg_author[avg_author['total_book'] > 26]\n",
        "avg_author = avg_author.sort_values(by=['average_rating'], ascending=False)\n",
        "avg_author"
      ],
      "execution_count": null,
      "outputs": [
        {
          "output_type": "execute_result",
          "data": {
            "text/html": [
              "<div>\n",
              "<style scoped>\n",
              "    .dataframe tbody tr th:only-of-type {\n",
              "        vertical-align: middle;\n",
              "    }\n",
              "\n",
              "    .dataframe tbody tr th {\n",
              "        vertical-align: top;\n",
              "    }\n",
              "\n",
              "    .dataframe thead th {\n",
              "        text-align: right;\n",
              "    }\n",
              "</style>\n",
              "<table border=\"1\" class=\"dataframe\">\n",
              "  <thead>\n",
              "    <tr style=\"text-align: right;\">\n",
              "      <th></th>\n",
              "      <th>only_author</th>\n",
              "      <th>total_book</th>\n",
              "      <th>total_rating</th>\n",
              "      <th>average_rating</th>\n",
              "    </tr>\n",
              "  </thead>\n",
              "  <tbody>\n",
              "    <tr>\n",
              "      <th>4</th>\n",
              "      <td>J.R.R. Tolkien</td>\n",
              "      <td>41</td>\n",
              "      <td>172.22</td>\n",
              "      <td>4.20</td>\n",
              "    </tr>\n",
              "    <tr>\n",
              "      <th>7</th>\n",
              "      <td>Rumiko Takahashi</td>\n",
              "      <td>39</td>\n",
              "      <td>163.28</td>\n",
              "      <td>4.19</td>\n",
              "    </tr>\n",
              "    <tr>\n",
              "      <th>11</th>\n",
              "      <td>C.S. Lewis</td>\n",
              "      <td>32</td>\n",
              "      <td>134.02</td>\n",
              "      <td>4.19</td>\n",
              "    </tr>\n",
              "    <tr>\n",
              "      <th>2</th>\n",
              "      <td>P.G. Wodehouse</td>\n",
              "      <td>45</td>\n",
              "      <td>187.31</td>\n",
              "      <td>4.16</td>\n",
              "    </tr>\n",
              "    <tr>\n",
              "      <th>12</th>\n",
              "      <td>Terry Pratchett</td>\n",
              "      <td>31</td>\n",
              "      <td>127.55</td>\n",
              "      <td>4.11</td>\n",
              "    </tr>\n",
              "    <tr>\n",
              "      <th>9</th>\n",
              "      <td>Roald Dahl</td>\n",
              "      <td>35</td>\n",
              "      <td>141.66</td>\n",
              "      <td>4.05</td>\n",
              "    </tr>\n",
              "    <tr>\n",
              "      <th>6</th>\n",
              "      <td>Mercedes Lackey</td>\n",
              "      <td>40</td>\n",
              "      <td>160.11</td>\n",
              "      <td>4.00</td>\n",
              "    </tr>\n",
              "    <tr>\n",
              "      <th>18</th>\n",
              "      <td>Mark Twain</td>\n",
              "      <td>27</td>\n",
              "      <td>107.68</td>\n",
              "      <td>3.99</td>\n",
              "    </tr>\n",
              "    <tr>\n",
              "      <th>0</th>\n",
              "      <td>Stephen King</td>\n",
              "      <td>63</td>\n",
              "      <td>250.79</td>\n",
              "      <td>3.98</td>\n",
              "    </tr>\n",
              "    <tr>\n",
              "      <th>1</th>\n",
              "      <td>William Shakespeare</td>\n",
              "      <td>45</td>\n",
              "      <td>178.45</td>\n",
              "      <td>3.97</td>\n",
              "    </tr>\n",
              "    <tr>\n",
              "      <th>17</th>\n",
              "      <td>Dean Koontz</td>\n",
              "      <td>27</td>\n",
              "      <td>107.07</td>\n",
              "      <td>3.97</td>\n",
              "    </tr>\n",
              "    <tr>\n",
              "      <th>15</th>\n",
              "      <td>Dick Francis</td>\n",
              "      <td>29</td>\n",
              "      <td>114.73</td>\n",
              "      <td>3.96</td>\n",
              "    </tr>\n",
              "    <tr>\n",
              "      <th>3</th>\n",
              "      <td>Agatha Christie</td>\n",
              "      <td>41</td>\n",
              "      <td>161.82</td>\n",
              "      <td>3.95</td>\n",
              "    </tr>\n",
              "    <tr>\n",
              "      <th>16</th>\n",
              "      <td>Gabriel García Márquez</td>\n",
              "      <td>28</td>\n",
              "      <td>109.57</td>\n",
              "      <td>3.91</td>\n",
              "    </tr>\n",
              "    <tr>\n",
              "      <th>5</th>\n",
              "      <td>James Patterson</td>\n",
              "      <td>41</td>\n",
              "      <td>159.91</td>\n",
              "      <td>3.90</td>\n",
              "    </tr>\n",
              "    <tr>\n",
              "      <th>10</th>\n",
              "      <td>Margaret Weis</td>\n",
              "      <td>35</td>\n",
              "      <td>134.08</td>\n",
              "      <td>3.83</td>\n",
              "    </tr>\n",
              "    <tr>\n",
              "      <th>8</th>\n",
              "      <td>Orson Scott Card</td>\n",
              "      <td>38</td>\n",
              "      <td>144.22</td>\n",
              "      <td>3.80</td>\n",
              "    </tr>\n",
              "    <tr>\n",
              "      <th>13</th>\n",
              "      <td>Sandra Brown</td>\n",
              "      <td>30</td>\n",
              "      <td>112.50</td>\n",
              "      <td>3.75</td>\n",
              "    </tr>\n",
              "    <tr>\n",
              "      <th>14</th>\n",
              "      <td>Piers Anthony</td>\n",
              "      <td>30</td>\n",
              "      <td>111.50</td>\n",
              "      <td>3.72</td>\n",
              "    </tr>\n",
              "    <tr>\n",
              "      <th>19</th>\n",
              "      <td>Francine Pascal</td>\n",
              "      <td>27</td>\n",
              "      <td>99.05</td>\n",
              "      <td>3.67</td>\n",
              "    </tr>\n",
              "  </tbody>\n",
              "</table>\n",
              "</div>"
            ],
            "text/plain": [
              "               only_author  total_book  total_rating  average_rating\n",
              "4           J.R.R. Tolkien          41        172.22            4.20\n",
              "7         Rumiko Takahashi          39        163.28            4.19\n",
              "11              C.S. Lewis          32        134.02            4.19\n",
              "2           P.G. Wodehouse          45        187.31            4.16\n",
              "12         Terry Pratchett          31        127.55            4.11\n",
              "9               Roald Dahl          35        141.66            4.05\n",
              "6          Mercedes Lackey          40        160.11            4.00\n",
              "18              Mark Twain          27        107.68            3.99\n",
              "0             Stephen King          63        250.79            3.98\n",
              "1      William Shakespeare          45        178.45            3.97\n",
              "17             Dean Koontz          27        107.07            3.97\n",
              "15            Dick Francis          29        114.73            3.96\n",
              "3          Agatha Christie          41        161.82            3.95\n",
              "16  Gabriel García Márquez          28        109.57            3.91\n",
              "5          James Patterson          41        159.91            3.90\n",
              "10           Margaret Weis          35        134.08            3.83\n",
              "8         Orson Scott Card          38        144.22            3.80\n",
              "13            Sandra Brown          30        112.50            3.75\n",
              "14           Piers Anthony          30        111.50            3.72\n",
              "19         Francine Pascal          27         99.05            3.67"
            ]
          },
          "metadata": {
            "tags": []
          },
          "execution_count": 14
        }
      ]
    },
    {
      "cell_type": "markdown",
      "metadata": {
        "id": "b1Kuc3WDm7Gj"
      },
      "source": [
        "rating count"
      ]
    },
    {
      "cell_type": "code",
      "metadata": {
        "colab": {
          "base_uri": "https://localhost:8080/",
          "height": 572
        },
        "id": "ap0NYqyje0xX",
        "outputId": "22f2b951-e965-4a04-d246-3006e40d34c1"
      },
      "source": [
        "total_vote = new_data.drop_duplicates(subset=['only_author', 'title'], keep='first')\n",
        "total_vote.reset_index(inplace=True)\n",
        "total_vote = total_vote[['only_author', 'title', 'average_rating', 'ratings_count']]\n",
        "total_vote"
      ],
      "execution_count": null,
      "outputs": [
        {
          "output_type": "execute_result",
          "data": {
            "text/html": [
              "<div>\n",
              "<style scoped>\n",
              "    .dataframe tbody tr th:only-of-type {\n",
              "        vertical-align: middle;\n",
              "    }\n",
              "\n",
              "    .dataframe tbody tr th {\n",
              "        vertical-align: top;\n",
              "    }\n",
              "\n",
              "    .dataframe thead th {\n",
              "        text-align: right;\n",
              "    }\n",
              "</style>\n",
              "<table border=\"1\" class=\"dataframe\">\n",
              "  <thead>\n",
              "    <tr style=\"text-align: right;\">\n",
              "      <th></th>\n",
              "      <th>only_author</th>\n",
              "      <th>title</th>\n",
              "      <th>average_rating</th>\n",
              "      <th>ratings_count</th>\n",
              "    </tr>\n",
              "  </thead>\n",
              "  <tbody>\n",
              "    <tr>\n",
              "      <th>0</th>\n",
              "      <td>J.K. Rowling</td>\n",
              "      <td>Harry Potter and the Half-Blood Prince (Harry ...</td>\n",
              "      <td>4.57</td>\n",
              "      <td>2095690</td>\n",
              "    </tr>\n",
              "    <tr>\n",
              "      <th>1</th>\n",
              "      <td>J.K. Rowling</td>\n",
              "      <td>Harry Potter and the Order of the Phoenix (Har...</td>\n",
              "      <td>4.49</td>\n",
              "      <td>2153167</td>\n",
              "    </tr>\n",
              "    <tr>\n",
              "      <th>2</th>\n",
              "      <td>J.K. Rowling</td>\n",
              "      <td>Harry Potter and the Chamber of Secrets (Harry...</td>\n",
              "      <td>4.42</td>\n",
              "      <td>6333</td>\n",
              "    </tr>\n",
              "    <tr>\n",
              "      <th>3</th>\n",
              "      <td>J.K. Rowling</td>\n",
              "      <td>Harry Potter and the Prisoner of Azkaban (Harr...</td>\n",
              "      <td>4.56</td>\n",
              "      <td>2339585</td>\n",
              "    </tr>\n",
              "    <tr>\n",
              "      <th>4</th>\n",
              "      <td>J.K. Rowling</td>\n",
              "      <td>Harry Potter Boxed Set  Books 1-5 (Harry Potte...</td>\n",
              "      <td>4.78</td>\n",
              "      <td>41428</td>\n",
              "    </tr>\n",
              "    <tr>\n",
              "      <th>...</th>\n",
              "      <td>...</td>\n",
              "      <td>...</td>\n",
              "      <td>...</td>\n",
              "      <td>...</td>\n",
              "    </tr>\n",
              "    <tr>\n",
              "      <th>10416</th>\n",
              "      <td>William T. Vollmann</td>\n",
              "      <td>Expelled from Eden: A William T. Vollmann Reader</td>\n",
              "      <td>4.06</td>\n",
              "      <td>156</td>\n",
              "    </tr>\n",
              "    <tr>\n",
              "      <th>10417</th>\n",
              "      <td>William T. Vollmann</td>\n",
              "      <td>You Bright and Risen Angels</td>\n",
              "      <td>4.08</td>\n",
              "      <td>783</td>\n",
              "    </tr>\n",
              "    <tr>\n",
              "      <th>10418</th>\n",
              "      <td>William T. Vollmann</td>\n",
              "      <td>The Ice-Shirt (Seven Dreams #1)</td>\n",
              "      <td>3.96</td>\n",
              "      <td>820</td>\n",
              "    </tr>\n",
              "    <tr>\n",
              "      <th>10419</th>\n",
              "      <td>William T. Vollmann</td>\n",
              "      <td>Poor People</td>\n",
              "      <td>3.72</td>\n",
              "      <td>769</td>\n",
              "    </tr>\n",
              "    <tr>\n",
              "      <th>10420</th>\n",
              "      <td>Mark Twain</td>\n",
              "      <td>Las aventuras de Tom Sawyer</td>\n",
              "      <td>3.91</td>\n",
              "      <td>113</td>\n",
              "    </tr>\n",
              "  </tbody>\n",
              "</table>\n",
              "<p>10421 rows × 4 columns</p>\n",
              "</div>"
            ],
            "text/plain": [
              "               only_author  ... ratings_count\n",
              "0             J.K. Rowling  ...       2095690\n",
              "1             J.K. Rowling  ...       2153167\n",
              "2             J.K. Rowling  ...          6333\n",
              "3             J.K. Rowling  ...       2339585\n",
              "4             J.K. Rowling  ...         41428\n",
              "...                    ...  ...           ...\n",
              "10416  William T. Vollmann  ...           156\n",
              "10417  William T. Vollmann  ...           783\n",
              "10418  William T. Vollmann  ...           820\n",
              "10419  William T. Vollmann  ...           769\n",
              "10420           Mark Twain  ...           113\n",
              "\n",
              "[10421 rows x 4 columns]"
            ]
          },
          "metadata": {
            "tags": []
          },
          "execution_count": 15
        }
      ]
    },
    {
      "cell_type": "code",
      "metadata": {
        "id": "Z3K_NwWSe0pB"
      },
      "source": [
        "C = total_vote.average_rating.mean()\n",
        "m = total_vote.ratings_count.quantile(0.9)\n",
        "total_vote = total_vote[total_vote['ratings_count'] >= m]"
      ],
      "execution_count": null,
      "outputs": []
    },
    {
      "cell_type": "markdown",
      "metadata": {
        "id": "YTK9NZkYnMke"
      },
      "source": [
        "cosine similarity function"
      ]
    },
    {
      "cell_type": "code",
      "metadata": {
        "id": "6gVboLR6fIP5"
      },
      "source": [
        "def weighted_rating(x, m=m, C=C):\n",
        "    v = x['ratings_count']\n",
        "    R = x['average_rating']\n",
        "    return (v/(v+m) * R) + (m/(m+v) * C)"
      ],
      "execution_count": null,
      "outputs": []
    },
    {
      "cell_type": "markdown",
      "metadata": {
        "id": "m8NN-mipo2kw"
      },
      "source": [
        "scores by similarity"
      ]
    },
    {
      "cell_type": "code",
      "metadata": {
        "id": "9DfL6918fMDZ",
        "colab": {
          "base_uri": "https://localhost:8080/",
          "height": 669
        },
        "outputId": "c34ada22-d3fc-4a73-98cd-5d86fce98a84"
      },
      "source": [
        "total_vote['score'] = total_vote.apply(weighted_rating, axis=1)\n",
        "total_vote = total_vote.sort_values(by='score', ascending=False).head(20)\n",
        "total_vote"
      ],
      "execution_count": null,
      "outputs": [
        {
          "output_type": "execute_result",
          "data": {
            "text/html": [
              "<div>\n",
              "<style scoped>\n",
              "    .dataframe tbody tr th:only-of-type {\n",
              "        vertical-align: middle;\n",
              "    }\n",
              "\n",
              "    .dataframe tbody tr th {\n",
              "        vertical-align: top;\n",
              "    }\n",
              "\n",
              "    .dataframe thead th {\n",
              "        text-align: right;\n",
              "    }\n",
              "</style>\n",
              "<table border=\"1\" class=\"dataframe\">\n",
              "  <thead>\n",
              "    <tr style=\"text-align: right;\">\n",
              "      <th></th>\n",
              "      <th>only_author</th>\n",
              "      <th>title</th>\n",
              "      <th>average_rating</th>\n",
              "      <th>ratings_count</th>\n",
              "      <th>score</th>\n",
              "    </tr>\n",
              "  </thead>\n",
              "  <tbody>\n",
              "    <tr>\n",
              "      <th>0</th>\n",
              "      <td>J.K. Rowling</td>\n",
              "      <td>Harry Potter and the Half-Blood Prince (Harry ...</td>\n",
              "      <td>4.57</td>\n",
              "      <td>2095690</td>\n",
              "      <td>4.502610</td>\n",
              "    </tr>\n",
              "    <tr>\n",
              "      <th>3</th>\n",
              "      <td>J.K. Rowling</td>\n",
              "      <td>Harry Potter and the Prisoner of Azkaban (Harr...</td>\n",
              "      <td>4.56</td>\n",
              "      <td>2339585</td>\n",
              "      <td>4.499955</td>\n",
              "    </tr>\n",
              "    <tr>\n",
              "      <th>1</th>\n",
              "      <td>J.K. Rowling</td>\n",
              "      <td>Harry Potter and the Order of the Phoenix (Har...</td>\n",
              "      <td>4.49</td>\n",
              "      <td>2153167</td>\n",
              "      <td>4.433457</td>\n",
              "    </tr>\n",
              "    <tr>\n",
              "      <th>22</th>\n",
              "      <td>J.R.R. Tolkien</td>\n",
              "      <td>The Fellowship of the Ring (The Lord of the Ri...</td>\n",
              "      <td>4.36</td>\n",
              "      <td>2128944</td>\n",
              "      <td>4.318080</td>\n",
              "    </tr>\n",
              "    <tr>\n",
              "      <th>4896</th>\n",
              "      <td>Markus Zusak</td>\n",
              "      <td>The Book Thief</td>\n",
              "      <td>4.37</td>\n",
              "      <td>1516367</td>\n",
              "      <td>4.312231</td>\n",
              "    </tr>\n",
              "    <tr>\n",
              "      <th>3965</th>\n",
              "      <td>J.R.R. Tolkien</td>\n",
              "      <td>The Two Towers (The Lord of the Rings  #2)</td>\n",
              "      <td>4.44</td>\n",
              "      <td>593467</td>\n",
              "      <td>4.298780</td>\n",
              "    </tr>\n",
              "    <tr>\n",
              "      <th>2651</th>\n",
              "      <td>George R.R. Martin</td>\n",
              "      <td>A Clash of Kings  (A Song of Ice and Fire  #2)</td>\n",
              "      <td>4.41</td>\n",
              "      <td>638766</td>\n",
              "      <td>4.284911</td>\n",
              "    </tr>\n",
              "    <tr>\n",
              "      <th>1567</th>\n",
              "      <td>J.R.R. Tolkien</td>\n",
              "      <td>The Hobbit  or There and Back Again</td>\n",
              "      <td>4.27</td>\n",
              "      <td>2530894</td>\n",
              "      <td>4.243085</td>\n",
              "    </tr>\n",
              "    <tr>\n",
              "      <th>4734</th>\n",
              "      <td>Margaret Mitchell</td>\n",
              "      <td>Gone with the Wind</td>\n",
              "      <td>4.29</td>\n",
              "      <td>999139</td>\n",
              "      <td>4.226498</td>\n",
              "    </tr>\n",
              "    <tr>\n",
              "      <th>6822</th>\n",
              "      <td>Rick Riordan</td>\n",
              "      <td>The Lightning Thief (Percy Jackson and the Oly...</td>\n",
              "      <td>4.25</td>\n",
              "      <td>1766725</td>\n",
              "      <td>4.215794</td>\n",
              "    </tr>\n",
              "    <tr>\n",
              "      <th>9281</th>\n",
              "      <td>Roald Dahl</td>\n",
              "      <td>Matilda</td>\n",
              "      <td>4.31</td>\n",
              "      <td>541914</td>\n",
              "      <td>4.204404</td>\n",
              "    </tr>\n",
              "    <tr>\n",
              "      <th>1904</th>\n",
              "      <td>Jeannette Walls</td>\n",
              "      <td>The Glass Castle</td>\n",
              "      <td>4.27</td>\n",
              "      <td>808656</td>\n",
              "      <td>4.200571</td>\n",
              "    </tr>\n",
              "    <tr>\n",
              "      <th>7301</th>\n",
              "      <td>Shel Silverstein</td>\n",
              "      <td>A Light in the Attic</td>\n",
              "      <td>4.34</td>\n",
              "      <td>349247</td>\n",
              "      <td>4.188765</td>\n",
              "    </tr>\n",
              "    <tr>\n",
              "      <th>5410</th>\n",
              "      <td>William Goldman</td>\n",
              "      <td>The Princess Bride</td>\n",
              "      <td>4.26</td>\n",
              "      <td>703676</td>\n",
              "      <td>4.186033</td>\n",
              "    </tr>\n",
              "    <tr>\n",
              "      <th>1114</th>\n",
              "      <td>Viktor E. Frankl</td>\n",
              "      <td>Man's Search for Meaning</td>\n",
              "      <td>4.36</td>\n",
              "      <td>282127</td>\n",
              "      <td>4.180769</td>\n",
              "    </tr>\n",
              "    <tr>\n",
              "      <th>4216</th>\n",
              "      <td>Agatha Christie</td>\n",
              "      <td>And Then There Were None</td>\n",
              "      <td>4.26</td>\n",
              "      <td>625767</td>\n",
              "      <td>4.179683</td>\n",
              "    </tr>\n",
              "    <tr>\n",
              "      <th>1838</th>\n",
              "      <td>Alexandre Dumas</td>\n",
              "      <td>The Count of Monte Cristo</td>\n",
              "      <td>4.25</td>\n",
              "      <td>647271</td>\n",
              "      <td>4.174574</td>\n",
              "    </tr>\n",
              "    <tr>\n",
              "      <th>2092</th>\n",
              "      <td>L.M. Montgomery</td>\n",
              "      <td>Anne of Green Gables (Anne of Green Gables  #1)</td>\n",
              "      <td>4.25</td>\n",
              "      <td>625759</td>\n",
              "      <td>4.172786</td>\n",
              "    </tr>\n",
              "    <tr>\n",
              "      <th>6821</th>\n",
              "      <td>Rick Riordan</td>\n",
              "      <td>The Sea of Monsters (Percy Jackson and the Oly...</td>\n",
              "      <td>4.24</td>\n",
              "      <td>630511</td>\n",
              "      <td>4.166277</td>\n",
              "    </tr>\n",
              "    <tr>\n",
              "      <th>2761</th>\n",
              "      <td>Diana Gabaldon</td>\n",
              "      <td>Outlander (Outlander  #1)</td>\n",
              "      <td>4.23</td>\n",
              "      <td>673350</td>\n",
              "      <td>4.162533</td>\n",
              "    </tr>\n",
              "  </tbody>\n",
              "</table>\n",
              "</div>"
            ],
            "text/plain": [
              "             only_author  ...     score\n",
              "0           J.K. Rowling  ...  4.502610\n",
              "3           J.K. Rowling  ...  4.499955\n",
              "1           J.K. Rowling  ...  4.433457\n",
              "22        J.R.R. Tolkien  ...  4.318080\n",
              "4896        Markus Zusak  ...  4.312231\n",
              "3965      J.R.R. Tolkien  ...  4.298780\n",
              "2651  George R.R. Martin  ...  4.284911\n",
              "1567      J.R.R. Tolkien  ...  4.243085\n",
              "4734   Margaret Mitchell  ...  4.226498\n",
              "6822        Rick Riordan  ...  4.215794\n",
              "9281          Roald Dahl  ...  4.204404\n",
              "1904     Jeannette Walls  ...  4.200571\n",
              "7301    Shel Silverstein  ...  4.188765\n",
              "5410     William Goldman  ...  4.186033\n",
              "1114    Viktor E. Frankl  ...  4.180769\n",
              "4216     Agatha Christie  ...  4.179683\n",
              "1838     Alexandre Dumas  ...  4.174574\n",
              "2092     L.M. Montgomery  ...  4.172786\n",
              "6821        Rick Riordan  ...  4.166277\n",
              "2761      Diana Gabaldon  ...  4.162533\n",
              "\n",
              "[20 rows x 5 columns]"
            ]
          },
          "metadata": {
            "tags": []
          },
          "execution_count": 19
        }
      ]
    },
    {
      "cell_type": "code",
      "metadata": {
        "id": "vyx3k_wCfcdS"
      },
      "source": [
        "top_pages = data.sort_values(by='  num_pages', ascending=False).head(20)"
      ],
      "execution_count": null,
      "outputs": []
    },
    {
      "cell_type": "code",
      "metadata": {
        "id": "ftxXUfCiffPd"
      },
      "source": [
        "title_value = data.title.unique()"
      ],
      "execution_count": null,
      "outputs": []
    },
    {
      "cell_type": "code",
      "metadata": {
        "colab": {
          "base_uri": "https://localhost:8080/",
          "height": 352
        },
        "id": "UJwGThR9f1Qd",
        "outputId": "8035152e-bc96-4cd1-93fc-415a4d91c23b"
      },
      "source": [
        "new_data.loc[ (new_data['average_rating'] >= 0) & (new_data['average_rating'] <= 1), 'rating_between'] = \"between_0_to_1\"\n",
        "new_data.loc[ (new_data['average_rating'] > 1) & (new_data['average_rating'] <= 2), 'rating_between'] = \"between_1_to_2\"\n",
        "new_data.loc[ (new_data['average_rating'] > 2) & (new_data['average_rating'] <= 3), 'rating_between'] = \"between_2_to_3\"\n",
        "new_data.loc[ (new_data['average_rating'] > 3) & (new_data['average_rating'] <= 4), 'rating_between'] = \"between_3_to_4\"\n",
        "new_data.loc[ (new_data['average_rating'] > 4) & (new_data['average_rating'] <= 5), 'rating_between'] = \"between_4_to_5\"\n",
        "new_data.head(2)"
      ],
      "execution_count": null,
      "outputs": [
        {
          "output_type": "execute_result",
          "data": {
            "text/html": [
              "<div>\n",
              "<style scoped>\n",
              "    .dataframe tbody tr th:only-of-type {\n",
              "        vertical-align: middle;\n",
              "    }\n",
              "\n",
              "    .dataframe tbody tr th {\n",
              "        vertical-align: top;\n",
              "    }\n",
              "\n",
              "    .dataframe thead th {\n",
              "        text-align: right;\n",
              "    }\n",
              "</style>\n",
              "<table border=\"1\" class=\"dataframe\">\n",
              "  <thead>\n",
              "    <tr style=\"text-align: right;\">\n",
              "      <th></th>\n",
              "      <th>bookID</th>\n",
              "      <th>title</th>\n",
              "      <th>authors</th>\n",
              "      <th>average_rating</th>\n",
              "      <th>isbn</th>\n",
              "      <th>isbn13</th>\n",
              "      <th>language_code</th>\n",
              "      <th>num_pages</th>\n",
              "      <th>ratings_count</th>\n",
              "      <th>text_reviews_count</th>\n",
              "      <th>publication_date</th>\n",
              "      <th>publisher</th>\n",
              "      <th>only_author</th>\n",
              "      <th>rating_between</th>\n",
              "    </tr>\n",
              "  </thead>\n",
              "  <tbody>\n",
              "    <tr>\n",
              "      <th>0</th>\n",
              "      <td>1</td>\n",
              "      <td>Harry Potter and the Half-Blood Prince (Harry ...</td>\n",
              "      <td>J.K. Rowling/Mary GrandPré</td>\n",
              "      <td>4.57</td>\n",
              "      <td>0439785960</td>\n",
              "      <td>9780439785969</td>\n",
              "      <td>eng</td>\n",
              "      <td>652</td>\n",
              "      <td>2095690</td>\n",
              "      <td>27591</td>\n",
              "      <td>9/16/2006</td>\n",
              "      <td>Scholastic Inc.</td>\n",
              "      <td>J.K. Rowling</td>\n",
              "      <td>between_4_to_5</td>\n",
              "    </tr>\n",
              "    <tr>\n",
              "      <th>1</th>\n",
              "      <td>2</td>\n",
              "      <td>Harry Potter and the Order of the Phoenix (Har...</td>\n",
              "      <td>J.K. Rowling/Mary GrandPré</td>\n",
              "      <td>4.49</td>\n",
              "      <td>0439358078</td>\n",
              "      <td>9780439358071</td>\n",
              "      <td>eng</td>\n",
              "      <td>870</td>\n",
              "      <td>2153167</td>\n",
              "      <td>29221</td>\n",
              "      <td>9/1/2004</td>\n",
              "      <td>Scholastic Inc.</td>\n",
              "      <td>J.K. Rowling</td>\n",
              "      <td>between_4_to_5</td>\n",
              "    </tr>\n",
              "  </tbody>\n",
              "</table>\n",
              "</div>"
            ],
            "text/plain": [
              "   bookID  ...  rating_between\n",
              "0       1  ...  between_4_to_5\n",
              "1       2  ...  between_4_to_5\n",
              "\n",
              "[2 rows x 14 columns]"
            ]
          },
          "metadata": {
            "tags": []
          },
          "execution_count": 22
        }
      ]
    },
    {
      "cell_type": "markdown",
      "metadata": {
        "id": "59UANpu3pAcz"
      },
      "source": [
        "model"
      ]
    },
    {
      "cell_type": "markdown",
      "metadata": {
        "id": "R0G2vQmSpDC8"
      },
      "source": [
        "array trail"
      ]
    },
    {
      "cell_type": "code",
      "metadata": {
        "colab": {
          "base_uri": "https://localhost:8080/"
        },
        "id": "BX0gHnIQf9fP",
        "outputId": "167b64f7-5639-47a4-df64-f0ca8aae0a14"
      },
      "source": [
        "trial = new_data[['average_rating', 'ratings_count']]\n",
        "data_model = np.asarray([np.asarray(trial['average_rating']), np.asarray(trial['ratings_count'])]).T\n",
        "data_model"
      ],
      "execution_count": null,
      "outputs": [
        {
          "output_type": "execute_result",
          "data": {
            "text/plain": [
              "array([[4.570000e+00, 2.095690e+06],\n",
              "       [4.490000e+00, 2.153167e+06],\n",
              "       [4.420000e+00, 6.333000e+03],\n",
              "       ...,\n",
              "       [3.960000e+00, 8.200000e+02],\n",
              "       [3.720000e+00, 7.690000e+02],\n",
              "       [3.910000e+00, 1.130000e+02]])"
            ]
          },
          "metadata": {
            "tags": []
          },
          "execution_count": 23
        }
      ]
    },
    {
      "cell_type": "markdown",
      "metadata": {
        "id": "lwN2yUX3pIbd"
      },
      "source": [
        "setting dummy memories for allocation"
      ]
    },
    {
      "cell_type": "code",
      "metadata": {
        "colab": {
          "base_uri": "https://localhost:8080/",
          "height": 204
        },
        "id": "9b89mw2BgCT_",
        "outputId": "cd0c9a2b-4821-4f09-9b1d-3094b9a01d9c"
      },
      "source": [
        "rating_between_df = new_data['rating_between'].str.get_dummies(sep=\",\")\n",
        "rating_between_df.head()\n"
      ],
      "execution_count": null,
      "outputs": [
        {
          "output_type": "execute_result",
          "data": {
            "text/html": [
              "<div>\n",
              "<style scoped>\n",
              "    .dataframe tbody tr th:only-of-type {\n",
              "        vertical-align: middle;\n",
              "    }\n",
              "\n",
              "    .dataframe tbody tr th {\n",
              "        vertical-align: top;\n",
              "    }\n",
              "\n",
              "    .dataframe thead th {\n",
              "        text-align: right;\n",
              "    }\n",
              "</style>\n",
              "<table border=\"1\" class=\"dataframe\">\n",
              "  <thead>\n",
              "    <tr style=\"text-align: right;\">\n",
              "      <th></th>\n",
              "      <th>between_0_to_1</th>\n",
              "      <th>between_1_to_2</th>\n",
              "      <th>between_2_to_3</th>\n",
              "      <th>between_3_to_4</th>\n",
              "      <th>between_4_to_5</th>\n",
              "    </tr>\n",
              "  </thead>\n",
              "  <tbody>\n",
              "    <tr>\n",
              "      <th>0</th>\n",
              "      <td>0</td>\n",
              "      <td>0</td>\n",
              "      <td>0</td>\n",
              "      <td>0</td>\n",
              "      <td>1</td>\n",
              "    </tr>\n",
              "    <tr>\n",
              "      <th>1</th>\n",
              "      <td>0</td>\n",
              "      <td>0</td>\n",
              "      <td>0</td>\n",
              "      <td>0</td>\n",
              "      <td>1</td>\n",
              "    </tr>\n",
              "    <tr>\n",
              "      <th>2</th>\n",
              "      <td>0</td>\n",
              "      <td>0</td>\n",
              "      <td>0</td>\n",
              "      <td>0</td>\n",
              "      <td>1</td>\n",
              "    </tr>\n",
              "    <tr>\n",
              "      <th>3</th>\n",
              "      <td>0</td>\n",
              "      <td>0</td>\n",
              "      <td>0</td>\n",
              "      <td>0</td>\n",
              "      <td>1</td>\n",
              "    </tr>\n",
              "    <tr>\n",
              "      <th>4</th>\n",
              "      <td>0</td>\n",
              "      <td>0</td>\n",
              "      <td>0</td>\n",
              "      <td>0</td>\n",
              "      <td>1</td>\n",
              "    </tr>\n",
              "  </tbody>\n",
              "</table>\n",
              "</div>"
            ],
            "text/plain": [
              "   between_0_to_1  between_1_to_2  ...  between_3_to_4  between_4_to_5\n",
              "0               0               0  ...               0               1\n",
              "1               0               0  ...               0               1\n",
              "2               0               0  ...               0               1\n",
              "3               0               0  ...               0               1\n",
              "4               0               0  ...               0               1\n",
              "\n",
              "[5 rows x 5 columns]"
            ]
          },
          "metadata": {
            "tags": []
          },
          "execution_count": 24
        }
      ]
    },
    {
      "cell_type": "code",
      "metadata": {
        "colab": {
          "base_uri": "https://localhost:8080/",
          "height": 241
        },
        "id": "xCoj7I3dgJ10",
        "outputId": "7129205f-e3a6-4e63-cdd6-57903ea8bcf4"
      },
      "source": [
        "lang_df = new_data['language_code'].str.get_dummies(sep=\",\")\n",
        "lang_df.head()"
      ],
      "execution_count": null,
      "outputs": [
        {
          "output_type": "execute_result",
          "data": {
            "text/html": [
              "<div>\n",
              "<style scoped>\n",
              "    .dataframe tbody tr th:only-of-type {\n",
              "        vertical-align: middle;\n",
              "    }\n",
              "\n",
              "    .dataframe tbody tr th {\n",
              "        vertical-align: top;\n",
              "    }\n",
              "\n",
              "    .dataframe thead th {\n",
              "        text-align: right;\n",
              "    }\n",
              "</style>\n",
              "<table border=\"1\" class=\"dataframe\">\n",
              "  <thead>\n",
              "    <tr style=\"text-align: right;\">\n",
              "      <th></th>\n",
              "      <th>ale</th>\n",
              "      <th>ara</th>\n",
              "      <th>en-CA</th>\n",
              "      <th>en-GB</th>\n",
              "      <th>en-US</th>\n",
              "      <th>eng</th>\n",
              "      <th>enm</th>\n",
              "      <th>fre</th>\n",
              "      <th>ger</th>\n",
              "      <th>gla</th>\n",
              "      <th>glg</th>\n",
              "      <th>grc</th>\n",
              "      <th>ita</th>\n",
              "      <th>jpn</th>\n",
              "      <th>lat</th>\n",
              "      <th>msa</th>\n",
              "      <th>mul</th>\n",
              "      <th>nl</th>\n",
              "      <th>nor</th>\n",
              "      <th>por</th>\n",
              "      <th>rus</th>\n",
              "      <th>spa</th>\n",
              "      <th>srp</th>\n",
              "      <th>swe</th>\n",
              "      <th>tur</th>\n",
              "      <th>wel</th>\n",
              "      <th>zho</th>\n",
              "    </tr>\n",
              "  </thead>\n",
              "  <tbody>\n",
              "    <tr>\n",
              "      <th>0</th>\n",
              "      <td>0</td>\n",
              "      <td>0</td>\n",
              "      <td>0</td>\n",
              "      <td>0</td>\n",
              "      <td>0</td>\n",
              "      <td>1</td>\n",
              "      <td>0</td>\n",
              "      <td>0</td>\n",
              "      <td>0</td>\n",
              "      <td>0</td>\n",
              "      <td>0</td>\n",
              "      <td>0</td>\n",
              "      <td>0</td>\n",
              "      <td>0</td>\n",
              "      <td>0</td>\n",
              "      <td>0</td>\n",
              "      <td>0</td>\n",
              "      <td>0</td>\n",
              "      <td>0</td>\n",
              "      <td>0</td>\n",
              "      <td>0</td>\n",
              "      <td>0</td>\n",
              "      <td>0</td>\n",
              "      <td>0</td>\n",
              "      <td>0</td>\n",
              "      <td>0</td>\n",
              "      <td>0</td>\n",
              "    </tr>\n",
              "    <tr>\n",
              "      <th>1</th>\n",
              "      <td>0</td>\n",
              "      <td>0</td>\n",
              "      <td>0</td>\n",
              "      <td>0</td>\n",
              "      <td>0</td>\n",
              "      <td>1</td>\n",
              "      <td>0</td>\n",
              "      <td>0</td>\n",
              "      <td>0</td>\n",
              "      <td>0</td>\n",
              "      <td>0</td>\n",
              "      <td>0</td>\n",
              "      <td>0</td>\n",
              "      <td>0</td>\n",
              "      <td>0</td>\n",
              "      <td>0</td>\n",
              "      <td>0</td>\n",
              "      <td>0</td>\n",
              "      <td>0</td>\n",
              "      <td>0</td>\n",
              "      <td>0</td>\n",
              "      <td>0</td>\n",
              "      <td>0</td>\n",
              "      <td>0</td>\n",
              "      <td>0</td>\n",
              "      <td>0</td>\n",
              "      <td>0</td>\n",
              "    </tr>\n",
              "    <tr>\n",
              "      <th>2</th>\n",
              "      <td>0</td>\n",
              "      <td>0</td>\n",
              "      <td>0</td>\n",
              "      <td>0</td>\n",
              "      <td>0</td>\n",
              "      <td>1</td>\n",
              "      <td>0</td>\n",
              "      <td>0</td>\n",
              "      <td>0</td>\n",
              "      <td>0</td>\n",
              "      <td>0</td>\n",
              "      <td>0</td>\n",
              "      <td>0</td>\n",
              "      <td>0</td>\n",
              "      <td>0</td>\n",
              "      <td>0</td>\n",
              "      <td>0</td>\n",
              "      <td>0</td>\n",
              "      <td>0</td>\n",
              "      <td>0</td>\n",
              "      <td>0</td>\n",
              "      <td>0</td>\n",
              "      <td>0</td>\n",
              "      <td>0</td>\n",
              "      <td>0</td>\n",
              "      <td>0</td>\n",
              "      <td>0</td>\n",
              "    </tr>\n",
              "    <tr>\n",
              "      <th>3</th>\n",
              "      <td>0</td>\n",
              "      <td>0</td>\n",
              "      <td>0</td>\n",
              "      <td>0</td>\n",
              "      <td>0</td>\n",
              "      <td>1</td>\n",
              "      <td>0</td>\n",
              "      <td>0</td>\n",
              "      <td>0</td>\n",
              "      <td>0</td>\n",
              "      <td>0</td>\n",
              "      <td>0</td>\n",
              "      <td>0</td>\n",
              "      <td>0</td>\n",
              "      <td>0</td>\n",
              "      <td>0</td>\n",
              "      <td>0</td>\n",
              "      <td>0</td>\n",
              "      <td>0</td>\n",
              "      <td>0</td>\n",
              "      <td>0</td>\n",
              "      <td>0</td>\n",
              "      <td>0</td>\n",
              "      <td>0</td>\n",
              "      <td>0</td>\n",
              "      <td>0</td>\n",
              "      <td>0</td>\n",
              "    </tr>\n",
              "    <tr>\n",
              "      <th>4</th>\n",
              "      <td>0</td>\n",
              "      <td>0</td>\n",
              "      <td>0</td>\n",
              "      <td>0</td>\n",
              "      <td>0</td>\n",
              "      <td>1</td>\n",
              "      <td>0</td>\n",
              "      <td>0</td>\n",
              "      <td>0</td>\n",
              "      <td>0</td>\n",
              "      <td>0</td>\n",
              "      <td>0</td>\n",
              "      <td>0</td>\n",
              "      <td>0</td>\n",
              "      <td>0</td>\n",
              "      <td>0</td>\n",
              "      <td>0</td>\n",
              "      <td>0</td>\n",
              "      <td>0</td>\n",
              "      <td>0</td>\n",
              "      <td>0</td>\n",
              "      <td>0</td>\n",
              "      <td>0</td>\n",
              "      <td>0</td>\n",
              "      <td>0</td>\n",
              "      <td>0</td>\n",
              "      <td>0</td>\n",
              "    </tr>\n",
              "  </tbody>\n",
              "</table>\n",
              "</div>"
            ],
            "text/plain": [
              "   ale  ara  en-CA  en-GB  en-US  eng  enm  ...  rus  spa  srp  swe  tur  wel  zho\n",
              "0    0    0      0      0      0    1    0  ...    0    0    0    0    0    0    0\n",
              "1    0    0      0      0      0    1    0  ...    0    0    0    0    0    0    0\n",
              "2    0    0      0      0      0    1    0  ...    0    0    0    0    0    0    0\n",
              "3    0    0      0      0      0    1    0  ...    0    0    0    0    0    0    0\n",
              "4    0    0      0      0      0    1    0  ...    0    0    0    0    0    0    0\n",
              "\n",
              "[5 rows x 27 columns]"
            ]
          },
          "metadata": {
            "tags": []
          },
          "execution_count": 25
        }
      ]
    },
    {
      "cell_type": "code",
      "metadata": {
        "id": "mupcateEgNbL"
      },
      "source": [
        "engine_features = pd.concat([rating_between_df, lang_df, new_data['average_rating'], new_data['ratings_count']], axis=1)\n",
        "engine_features.head()"
      ],
      "execution_count": null,
      "outputs": []
    },
    {
      "cell_type": "markdown",
      "metadata": {
        "id": "8p2zL9KppNYZ"
      },
      "source": [
        "engine output processing"
      ]
    },
    {
      "cell_type": "code",
      "metadata": {
        "colab": {
          "base_uri": "https://localhost:8080/"
        },
        "id": "hzyIQ1VKgZoq",
        "outputId": "912ecaac-9786-4387-9acb-5fbc27309ebf"
      },
      "source": [
        "min_max_scaler = MinMaxScaler()\n",
        "engine_features = min_max_scaler.fit_transform(engine_features)\n",
        "engine_model = neighbors.NearestNeighbors(n_neighbors=6, algorithm='ball_tree')\n",
        "engine_model.fit(engine_features)"
      ],
      "execution_count": null,
      "outputs": [
        {
          "output_type": "execute_result",
          "data": {
            "text/plain": [
              "NearestNeighbors(algorithm='ball_tree', leaf_size=30, metric='minkowski',\n",
              "                 metric_params=None, n_jobs=None, n_neighbors=6, p=2,\n",
              "                 radius=1.0)"
            ]
          },
          "metadata": {
            "tags": []
          },
          "execution_count": 27
        }
      ]
    },
    {
      "cell_type": "code",
      "metadata": {
        "id": "PeUJcas3gj8y"
      },
      "source": [
        "dist, idlist = engine_model.kneighbors(engine_features)"
      ],
      "execution_count": null,
      "outputs": []
    },
    {
      "cell_type": "markdown",
      "metadata": {
        "id": "P1ukhwedpbOo"
      },
      "source": [
        "function for book recomandation engine"
      ]
    },
    {
      "cell_type": "code",
      "metadata": {
        "id": "YoSd2pAcgpKL"
      },
      "source": [
        "def book_recommendation_engine(book_name):\n",
        "    book_list_name = []\n",
        "    book_list_name_au=[]\n",
        "    book_id = new_data[new_data['title'] == book_name].index\n",
        "    book_id = book_id[0]\n",
        "#     print('book_id', book_id)\n",
        "    for newid in idlist[book_id]:\n",
        "#         print(newid)\n",
        "        book_list_name.append(new_data.loc[newid].title)\n",
        "        book_list_name_au.append(new_data.loc[newid].authors)\n",
        "#         print(new_data.loc[newid].title)\n",
        "    return book_list_name,book_list_name_au\n"
      ],
      "execution_count": null,
      "outputs": []
    },
    {
      "cell_type": "markdown",
      "metadata": {
        "id": "pX6ldcUwRb_s"
      },
      "source": [
        "chatterbot\n"
      ]
    },
    {
      "cell_type": "code",
      "metadata": {
        "id": "EOEcmM0g6pYk"
      },
      "source": [
        "from chatterbot.trainers import ChatterBotCorpusTrainer\n",
        "from chatterbot import ChatBot\n",
        "from chatterbot.trainers import UbuntuCorpusTrainer \n",
        "chatbot = ChatBot('cynrasu',\n",
        "    storage_adapter='chatterbot.storage.SQLStorageAdapter',\n",
        "    logic_adapters=[\n",
        "        {\n",
        "            'import_path': 'chatterbot.logic.BestMatch',\n",
        "            'default_response': 'sorry try some other books',\n",
        "            'maximum_similarity_threshold': 0.90 \n",
        "\n",
        "        }\n",
        "    ]\n",
        ")\n",
        " \n",
        " \n",
        "trainer = ChatterBotCorpusTrainer(chatbot)"
      ],
      "execution_count": null,
      "outputs": []
    },
    {
      "cell_type": "code",
      "metadata": {
        "colab": {
          "base_uri": "https://localhost:8080/"
        },
        "id": "u3vZfqoc7zc9",
        "outputId": "34619a2f-e9a5-4b73-99ef-a3aeb2ceee4e"
      },
      "source": [
        "trainer.train('/content/library_chatbot/dataset for lib.yml')\n",
        "trainer.train('/content/library_chatbot/dataset for lib_2.yml')\n",
        "trainer.train('/content/library_chatbot/conversations.yml')\n",
        "trainer.train('/content/library_chatbot/greetings.yml')"
      ],
      "execution_count": null,
      "outputs": [
        {
          "output_type": "stream",
          "text": [
            "Training dataset for lib.yml: [####################] 100%\n",
            "Training dataset for lib_2.yml: [#################   ] 84%"
          ],
          "name": "stdout"
        }
      ]
    },
    {
      "cell_type": "markdown",
      "metadata": {
        "id": "wbQi7E1mfMoE"
      },
      "source": [
        "suggestion"
      ]
    },
    {
      "cell_type": "code",
      "metadata": {
        "id": "fDR_aAmCfRE3"
      },
      "source": [
        "def before_suggest(ij):  \n",
        "  ij=ij.replace('suggest','')\n",
        "  return ij.strip()"
      ],
      "execution_count": null,
      "outputs": []
    },
    {
      "cell_type": "code",
      "metadata": {
        "id": "bkX6ha1GfKrv"
      },
      "source": [
        "def suggest(inp):\n",
        "  mll=''\n",
        "  y=0\n",
        "  inp=before_suggest(inp)\n",
        "  for u_s in data['title']:\n",
        "    low=u_s.lower()\n",
        "    inp_s=inp.lower()\n",
        "    if low == inp_s:\n",
        "      book_sug,au=book_recommendation_engine(u_s)\n",
        "      for x in range(len(book_sug)):\n",
        "        m=book_sug[x]+\" by \"+au[x]\n",
        "        mll=mll+m+'\\n'\n",
        "      break\n",
        "  return mll"
      ],
      "execution_count": null,
      "outputs": []
    },
    {
      "cell_type": "code",
      "metadata": {
        "colab": {
          "base_uri": "https://localhost:8080/"
        },
        "id": "B4Bbkwmnp4VZ",
        "outputId": "ed976db2-3262-4e25-9018-2b79ea805a2d"
      },
      "source": [
        "print(suggest(\"Harry Potter and the Chamber of Secrets (Harry Potter  #2)\"))"
      ],
      "execution_count": null,
      "outputs": [
        {
          "output_type": "stream",
          "text": [
            "Harry Potter and the Chamber of Secrets (Harry Potter  #2) by J.K. Rowling\n",
            "The Complete Collected Poems by Maya Angelou\n",
            "Family (Firstborn  #4) by Karen Kingsbury\n",
            "And Still I Rise by Maya Angelou/Linda Sunshine/Diego Rivera\n",
            "The Last Lion: Winston Spencer Churchill: Visions of Glory 1874-1932 by William Manchester\n",
            "The Civil War  Vol. 1: Fort Sumter to Perryville by Shelby Foote\n",
            "\n"
          ],
          "name": "stdout"
        }
      ]
    },
    {
      "cell_type": "markdown",
      "metadata": {
        "id": "1W1AYRVCp1vl"
      },
      "source": [
        "for checking engine"
      ]
    },
    {
      "cell_type": "markdown",
      "metadata": {
        "id": "0eAlx49Jg4iI"
      },
      "source": [
        "dataset at lib\n"
      ]
    },
    {
      "cell_type": "code",
      "metadata": {
        "id": "rN6bJqEJg6zn",
        "colab": {
          "base_uri": "https://localhost:8080/",
          "height": 1000
        },
        "outputId": "165a3358-c759-447d-f794-21b778ed0969"
      },
      "source": [
        "data_lib = pd.read_csv(\"/content/library_chatbot/Untitled spreadsheet - Sheet1.csv\", error_bad_lines = False)\n",
        "data_lib"
      ],
      "execution_count": null,
      "outputs": [
        {
          "output_type": "execute_result",
          "data": {
            "text/html": [
              "<div>\n",
              "<style scoped>\n",
              "    .dataframe tbody tr th:only-of-type {\n",
              "        vertical-align: middle;\n",
              "    }\n",
              "\n",
              "    .dataframe tbody tr th {\n",
              "        vertical-align: top;\n",
              "    }\n",
              "\n",
              "    .dataframe thead th {\n",
              "        text-align: right;\n",
              "    }\n",
              "</style>\n",
              "<table border=\"1\" class=\"dataframe\">\n",
              "  <thead>\n",
              "    <tr style=\"text-align: right;\">\n",
              "      <th></th>\n",
              "      <th>bookID</th>\n",
              "      <th>title</th>\n",
              "      <th>authors</th>\n",
              "      <th>average_rating</th>\n",
              "      <th>isbn</th>\n",
              "      <th>isbn13</th>\n",
              "      <th>language_code</th>\n",
              "      <th>num_pages</th>\n",
              "      <th>ratings_count</th>\n",
              "      <th>text_reviews_count</th>\n",
              "      <th>publication_date</th>\n",
              "      <th>publisher</th>\n",
              "      <th>availability</th>\n",
              "      <th>rack no</th>\n",
              "      <th>due</th>\n",
              "    </tr>\n",
              "  </thead>\n",
              "  <tbody>\n",
              "    <tr>\n",
              "      <th>0</th>\n",
              "      <td>1</td>\n",
              "      <td>Harry Potter and the Order of the Phoenix (Har...</td>\n",
              "      <td>J.K. Rowling/Mary GrandPré</td>\n",
              "      <td>4.49</td>\n",
              "      <td>439358078</td>\n",
              "      <td>9780439358071</td>\n",
              "      <td>eng</td>\n",
              "      <td>870</td>\n",
              "      <td>2153167</td>\n",
              "      <td>29221</td>\n",
              "      <td>9/1/2004</td>\n",
              "      <td>Scholastic Inc.</td>\n",
              "      <td>yes</td>\n",
              "      <td>111.0</td>\n",
              "      <td>NaN</td>\n",
              "    </tr>\n",
              "    <tr>\n",
              "      <th>1</th>\n",
              "      <td>2</td>\n",
              "      <td>Harry Potter and the Chamber of Secrets (Harry...</td>\n",
              "      <td>J.K. Rowling</td>\n",
              "      <td>4.42</td>\n",
              "      <td>439554896</td>\n",
              "      <td>9780439554893</td>\n",
              "      <td>eng</td>\n",
              "      <td>352</td>\n",
              "      <td>6333</td>\n",
              "      <td>244</td>\n",
              "      <td>11/1/2003</td>\n",
              "      <td>Scholastic</td>\n",
              "      <td>yes</td>\n",
              "      <td>112.0</td>\n",
              "      <td>NaN</td>\n",
              "    </tr>\n",
              "    <tr>\n",
              "      <th>2</th>\n",
              "      <td>3</td>\n",
              "      <td>Harry Potter and the Prisoner of Azkaban (Harr...</td>\n",
              "      <td>J.K. Rowling/Mary GrandPré</td>\n",
              "      <td>4.56</td>\n",
              "      <td>043965548X</td>\n",
              "      <td>9780439655484</td>\n",
              "      <td>eng</td>\n",
              "      <td>435</td>\n",
              "      <td>2339585</td>\n",
              "      <td>36325</td>\n",
              "      <td>5/1/2004</td>\n",
              "      <td>Scholastic Inc.</td>\n",
              "      <td>yes</td>\n",
              "      <td>113.0</td>\n",
              "      <td>NaN</td>\n",
              "    </tr>\n",
              "    <tr>\n",
              "      <th>3</th>\n",
              "      <td>4</td>\n",
              "      <td>Harry Potter Boxed Set  Books 1-5 (Harry Potte...</td>\n",
              "      <td>J.K. Rowling/Mary GrandPré</td>\n",
              "      <td>4.78</td>\n",
              "      <td>439682584</td>\n",
              "      <td>9780439682589</td>\n",
              "      <td>eng</td>\n",
              "      <td>2690</td>\n",
              "      <td>41428</td>\n",
              "      <td>164</td>\n",
              "      <td>9/13/2004</td>\n",
              "      <td>Scholastic</td>\n",
              "      <td>no</td>\n",
              "      <td>NaN</td>\n",
              "      <td>1.0</td>\n",
              "    </tr>\n",
              "    <tr>\n",
              "      <th>4</th>\n",
              "      <td>5</td>\n",
              "      <td>Unauthorized Harry Potter Book Seven News: \"Ha...</td>\n",
              "      <td>W. Frederick Zimmerman</td>\n",
              "      <td>3.74</td>\n",
              "      <td>976540606</td>\n",
              "      <td>9780976540601</td>\n",
              "      <td>en-US</td>\n",
              "      <td>152</td>\n",
              "      <td>19</td>\n",
              "      <td>1</td>\n",
              "      <td>4/26/2005</td>\n",
              "      <td>Nimble Books</td>\n",
              "      <td>yes</td>\n",
              "      <td>114.0</td>\n",
              "      <td>NaN</td>\n",
              "    </tr>\n",
              "    <tr>\n",
              "      <th>5</th>\n",
              "      <td>6</td>\n",
              "      <td>Artesia: Adventures in the Known World</td>\n",
              "      <td>Mark Smylie</td>\n",
              "      <td>4.13</td>\n",
              "      <td>1932386106</td>\n",
              "      <td>9781932386103</td>\n",
              "      <td>eng</td>\n",
              "      <td>352</td>\n",
              "      <td>52</td>\n",
              "      <td>4</td>\n",
              "      <td>12/14/2005</td>\n",
              "      <td>Archaia</td>\n",
              "      <td>no</td>\n",
              "      <td>NaN</td>\n",
              "      <td>2.0</td>\n",
              "    </tr>\n",
              "    <tr>\n",
              "      <th>6</th>\n",
              "      <td>7</td>\n",
              "      <td>The John McPhee Reader (John McPhee Reader  #1)</td>\n",
              "      <td>John McPhee/William Howarth</td>\n",
              "      <td>4.42</td>\n",
              "      <td>374517193</td>\n",
              "      <td>9780374517199</td>\n",
              "      <td>eng</td>\n",
              "      <td>416</td>\n",
              "      <td>562</td>\n",
              "      <td>37</td>\n",
              "      <td>6/1/1982</td>\n",
              "      <td>Farrar  Straus and Giroux</td>\n",
              "      <td>yes</td>\n",
              "      <td>115.0</td>\n",
              "      <td>NaN</td>\n",
              "    </tr>\n",
              "    <tr>\n",
              "      <th>7</th>\n",
              "      <td>8</td>\n",
              "      <td>Uncommon Carriers</td>\n",
              "      <td>John McPhee</td>\n",
              "      <td>3.95</td>\n",
              "      <td>374280398</td>\n",
              "      <td>9780374280390</td>\n",
              "      <td>en-US</td>\n",
              "      <td>248</td>\n",
              "      <td>1630</td>\n",
              "      <td>203</td>\n",
              "      <td>5/16/2006</td>\n",
              "      <td>Farrar Straus Giroux</td>\n",
              "      <td>no</td>\n",
              "      <td>NaN</td>\n",
              "      <td>3.0</td>\n",
              "    </tr>\n",
              "    <tr>\n",
              "      <th>8</th>\n",
              "      <td>9</td>\n",
              "      <td>Heirs of General Practice</td>\n",
              "      <td>John McPhee</td>\n",
              "      <td>4.17</td>\n",
              "      <td>374519749</td>\n",
              "      <td>9780374519742</td>\n",
              "      <td>eng</td>\n",
              "      <td>128</td>\n",
              "      <td>268</td>\n",
              "      <td>22</td>\n",
              "      <td>4/1/1986</td>\n",
              "      <td>Farrar  Straus and Giroux</td>\n",
              "      <td>yes</td>\n",
              "      <td>116.0</td>\n",
              "      <td>NaN</td>\n",
              "    </tr>\n",
              "    <tr>\n",
              "      <th>9</th>\n",
              "      <td>10</td>\n",
              "      <td>The Control of Nature</td>\n",
              "      <td>John McPhee</td>\n",
              "      <td>4.24</td>\n",
              "      <td>374522596</td>\n",
              "      <td>9780374522599</td>\n",
              "      <td>en-US</td>\n",
              "      <td>288</td>\n",
              "      <td>3498</td>\n",
              "      <td>305</td>\n",
              "      <td>9/1/1990</td>\n",
              "      <td>Farrar  Straus and Giroux</td>\n",
              "      <td>yes</td>\n",
              "      <td>117.0</td>\n",
              "      <td>NaN</td>\n",
              "    </tr>\n",
              "    <tr>\n",
              "      <th>10</th>\n",
              "      <td>11</td>\n",
              "      <td>Death on the Nile (Hercule Poirot  #17)</td>\n",
              "      <td>Agatha Christie</td>\n",
              "      <td>4.10</td>\n",
              "      <td>1579126898</td>\n",
              "      <td>9781579126896</td>\n",
              "      <td>eng</td>\n",
              "      <td>351</td>\n",
              "      <td>674</td>\n",
              "      <td>91</td>\n",
              "      <td>3/30/2007</td>\n",
              "      <td>Black Dog &amp; Leventhal Publishers</td>\n",
              "      <td>yes</td>\n",
              "      <td>118.0</td>\n",
              "      <td>NaN</td>\n",
              "    </tr>\n",
              "    <tr>\n",
              "      <th>11</th>\n",
              "      <td>12</td>\n",
              "      <td>Mrs. McGinty's Dead (Hercule Poirot  #30)</td>\n",
              "      <td>Agatha Christie</td>\n",
              "      <td>3.83</td>\n",
              "      <td>7121008</td>\n",
              "      <td>9780007121007</td>\n",
              "      <td>eng</td>\n",
              "      <td>328</td>\n",
              "      <td>572</td>\n",
              "      <td>74</td>\n",
              "      <td>7/1/2002</td>\n",
              "      <td>HarperCollins Publishers</td>\n",
              "      <td>no</td>\n",
              "      <td>NaN</td>\n",
              "      <td>4.0</td>\n",
              "    </tr>\n",
              "    <tr>\n",
              "      <th>12</th>\n",
              "      <td>13</td>\n",
              "      <td>The Most of P.G. Wodehouse</td>\n",
              "      <td>P.G. Wodehouse</td>\n",
              "      <td>4.48</td>\n",
              "      <td>743203585</td>\n",
              "      <td>9780743203586</td>\n",
              "      <td>eng</td>\n",
              "      <td>701</td>\n",
              "      <td>1872</td>\n",
              "      <td>106</td>\n",
              "      <td>11/1/2000</td>\n",
              "      <td>Simon &amp; Schuster</td>\n",
              "      <td>yes</td>\n",
              "      <td>119.0</td>\n",
              "      <td>NaN</td>\n",
              "    </tr>\n",
              "    <tr>\n",
              "      <th>13</th>\n",
              "      <td>14</td>\n",
              "      <td>Full Moon (Blandings Castle  #7)</td>\n",
              "      <td>P.G. Wodehouse</td>\n",
              "      <td>4.17</td>\n",
              "      <td>1585678368</td>\n",
              "      <td>9781585678365</td>\n",
              "      <td>eng</td>\n",
              "      <td>272</td>\n",
              "      <td>1860</td>\n",
              "      <td>131</td>\n",
              "      <td>11/23/2006</td>\n",
              "      <td>Harry N. Abrams</td>\n",
              "      <td>no</td>\n",
              "      <td>NaN</td>\n",
              "      <td>5.0</td>\n",
              "    </tr>\n",
              "    <tr>\n",
              "      <th>14</th>\n",
              "      <td>15</td>\n",
              "      <td>How Right You Are  Jeeves (Jeeves  #12)</td>\n",
              "      <td>P.G. Wodehouse</td>\n",
              "      <td>4.17</td>\n",
              "      <td>743203593</td>\n",
              "      <td>9780743203593</td>\n",
              "      <td>eng</td>\n",
              "      <td>206</td>\n",
              "      <td>2769</td>\n",
              "      <td>156</td>\n",
              "      <td>11/1/2000</td>\n",
              "      <td>Touchstone</td>\n",
              "      <td>yes</td>\n",
              "      <td>114.0</td>\n",
              "      <td>NaN</td>\n",
              "    </tr>\n",
              "    <tr>\n",
              "      <th>15</th>\n",
              "      <td>16</td>\n",
              "      <td>Life With Jeeves (Jeeves  #6  2  &amp; 4)</td>\n",
              "      <td>P.G. Wodehouse</td>\n",
              "      <td>4.39</td>\n",
              "      <td>140059024</td>\n",
              "      <td>9780140059021</td>\n",
              "      <td>eng</td>\n",
              "      <td>557</td>\n",
              "      <td>3169</td>\n",
              "      <td>137</td>\n",
              "      <td>9/29/1983</td>\n",
              "      <td>Penguin Books</td>\n",
              "      <td>yes</td>\n",
              "      <td>115.0</td>\n",
              "      <td>NaN</td>\n",
              "    </tr>\n",
              "    <tr>\n",
              "      <th>16</th>\n",
              "      <td>17</td>\n",
              "      <td>Spring Fever</td>\n",
              "      <td>P.G. Wodehouse</td>\n",
              "      <td>4.05</td>\n",
              "      <td>158567575X</td>\n",
              "      <td>9781585675753</td>\n",
              "      <td>eng</td>\n",
              "      <td>276</td>\n",
              "      <td>483</td>\n",
              "      <td>31</td>\n",
              "      <td>10/21/2004</td>\n",
              "      <td>Harry N. Abrams</td>\n",
              "      <td>yes</td>\n",
              "      <td>116.0</td>\n",
              "      <td>NaN</td>\n",
              "    </tr>\n",
              "    <tr>\n",
              "      <th>17</th>\n",
              "      <td>18</td>\n",
              "      <td>Carry On  Jeeves (Jeeves  #3)</td>\n",
              "      <td>P.G. Wodehouse</td>\n",
              "      <td>4.27</td>\n",
              "      <td>1585673927</td>\n",
              "      <td>9781585673926</td>\n",
              "      <td>eng</td>\n",
              "      <td>273</td>\n",
              "      <td>15598</td>\n",
              "      <td>771</td>\n",
              "      <td>3/31/2003</td>\n",
              "      <td>The Overlook Press</td>\n",
              "      <td>yes</td>\n",
              "      <td>117.0</td>\n",
              "      <td>NaN</td>\n",
              "    </tr>\n",
              "    <tr>\n",
              "      <th>18</th>\n",
              "      <td>19</td>\n",
              "      <td>Lord Emsworth and Others (Blandings Castle  #5.5)</td>\n",
              "      <td>P.G. Wodehouse</td>\n",
              "      <td>4.16</td>\n",
              "      <td>1585672777</td>\n",
              "      <td>9781585672776</td>\n",
              "      <td>eng</td>\n",
              "      <td>268</td>\n",
              "      <td>1099</td>\n",
              "      <td>77</td>\n",
              "      <td>5/13/2002</td>\n",
              "      <td>The Overlook Press</td>\n",
              "      <td>no</td>\n",
              "      <td>NaN</td>\n",
              "      <td>6.0</td>\n",
              "    </tr>\n",
              "    <tr>\n",
              "      <th>19</th>\n",
              "      <td>20</td>\n",
              "      <td>The Haj</td>\n",
              "      <td>Leon Uris</td>\n",
              "      <td>4.03</td>\n",
              "      <td>553248642</td>\n",
              "      <td>9780553248647</td>\n",
              "      <td>eng</td>\n",
              "      <td>525</td>\n",
              "      <td>11372</td>\n",
              "      <td>396</td>\n",
              "      <td>5/1/1985</td>\n",
              "      <td>Bantam</td>\n",
              "      <td>yes</td>\n",
              "      <td>118.0</td>\n",
              "      <td>NaN</td>\n",
              "    </tr>\n",
              "    <tr>\n",
              "      <th>20</th>\n",
              "      <td>21</td>\n",
              "      <td>Mila 18</td>\n",
              "      <td>Leon Uris</td>\n",
              "      <td>4.29</td>\n",
              "      <td>553241605</td>\n",
              "      <td>9780553241600</td>\n",
              "      <td>eng</td>\n",
              "      <td>563</td>\n",
              "      <td>21662</td>\n",
              "      <td>485</td>\n",
              "      <td>11/1/1983</td>\n",
              "      <td>Bantam</td>\n",
              "      <td>no</td>\n",
              "      <td>NaN</td>\n",
              "      <td>NaN</td>\n",
              "    </tr>\n",
              "    <tr>\n",
              "      <th>21</th>\n",
              "      <td>22</td>\n",
              "      <td>A God in Ruins</td>\n",
              "      <td>Leon Uris</td>\n",
              "      <td>3.26</td>\n",
              "      <td>61097934</td>\n",
              "      <td>9780061097935</td>\n",
              "      <td>eng</td>\n",
              "      <td>517</td>\n",
              "      <td>1208</td>\n",
              "      <td>104</td>\n",
              "      <td>9/5/2000</td>\n",
              "      <td>Avon</td>\n",
              "      <td>yes</td>\n",
              "      <td>119.0</td>\n",
              "      <td>NaN</td>\n",
              "    </tr>\n",
              "    <tr>\n",
              "      <th>22</th>\n",
              "      <td>23</td>\n",
              "      <td>Battle Cry</td>\n",
              "      <td>Leon Uris</td>\n",
              "      <td>4.15</td>\n",
              "      <td>006075186X</td>\n",
              "      <td>9780060751869</td>\n",
              "      <td>eng</td>\n",
              "      <td>694</td>\n",
              "      <td>8323</td>\n",
              "      <td>137</td>\n",
              "      <td>6/28/2005</td>\n",
              "      <td>Avon</td>\n",
              "      <td>no</td>\n",
              "      <td>NaN</td>\n",
              "      <td>7.0</td>\n",
              "    </tr>\n",
              "    <tr>\n",
              "      <th>23</th>\n",
              "      <td>24</td>\n",
              "      <td>The Angry Hills</td>\n",
              "      <td>Leon Uris</td>\n",
              "      <td>3.67</td>\n",
              "      <td>553277871</td>\n",
              "      <td>9780553277876</td>\n",
              "      <td>eng</td>\n",
              "      <td>245</td>\n",
              "      <td>1163</td>\n",
              "      <td>50</td>\n",
              "      <td>1/1/1984</td>\n",
              "      <td>Bantam</td>\n",
              "      <td>yes</td>\n",
              "      <td>120.0</td>\n",
              "      <td>NaN</td>\n",
              "    </tr>\n",
              "    <tr>\n",
              "      <th>24</th>\n",
              "      <td>25</td>\n",
              "      <td>Exodus</td>\n",
              "      <td>Leon Uris</td>\n",
              "      <td>4.34</td>\n",
              "      <td>553258478</td>\n",
              "      <td>9780553258479</td>\n",
              "      <td>eng</td>\n",
              "      <td>608</td>\n",
              "      <td>85927</td>\n",
              "      <td>1520</td>\n",
              "      <td>10/1/1986</td>\n",
              "      <td>Bantam Books  Inc.</td>\n",
              "      <td>yes</td>\n",
              "      <td>121.0</td>\n",
              "      <td>NaN</td>\n",
              "    </tr>\n",
              "    <tr>\n",
              "      <th>25</th>\n",
              "      <td>26</td>\n",
              "      <td>Oh  Play That Thing</td>\n",
              "      <td>Roddy Doyle</td>\n",
              "      <td>3.29</td>\n",
              "      <td>014303605X</td>\n",
              "      <td>9780143036050</td>\n",
              "      <td>en-US</td>\n",
              "      <td>384</td>\n",
              "      <td>1545</td>\n",
              "      <td>105</td>\n",
              "      <td>10/25/2005</td>\n",
              "      <td>Penguin Books</td>\n",
              "      <td>yes</td>\n",
              "      <td>122.0</td>\n",
              "      <td>NaN</td>\n",
              "    </tr>\n",
              "    <tr>\n",
              "      <th>26</th>\n",
              "      <td>27</td>\n",
              "      <td>The Van (The Barrytown Trilogy  #3)</td>\n",
              "      <td>Roddy Doyle</td>\n",
              "      <td>3.94</td>\n",
              "      <td>140260021</td>\n",
              "      <td>9780140260021</td>\n",
              "      <td>eng</td>\n",
              "      <td>320</td>\n",
              "      <td>5718</td>\n",
              "      <td>164</td>\n",
              "      <td>3/1/1997</td>\n",
              "      <td>Penguin Books</td>\n",
              "      <td>no</td>\n",
              "      <td>NaN</td>\n",
              "      <td>8.0</td>\n",
              "    </tr>\n",
              "    <tr>\n",
              "      <th>27</th>\n",
              "      <td>28</td>\n",
              "      <td>Fish &amp; Chips (The Barrytown Trilogie  #3)</td>\n",
              "      <td>Roddy Doyle/Renate Orth-Guttmann</td>\n",
              "      <td>3.94</td>\n",
              "      <td>3596153026</td>\n",
              "      <td>9783596153022</td>\n",
              "      <td>ger</td>\n",
              "      <td>314</td>\n",
              "      <td>2</td>\n",
              "      <td>0</td>\n",
              "      <td>10/1/2002</td>\n",
              "      <td>Fischer Taschenbuch Verlag</td>\n",
              "      <td>yes</td>\n",
              "      <td>123.0</td>\n",
              "      <td>NaN</td>\n",
              "    </tr>\n",
              "    <tr>\n",
              "      <th>28</th>\n",
              "      <td>29</td>\n",
              "      <td>The Giggler Treatment</td>\n",
              "      <td>Roddy Doyle/Brian Ajhar</td>\n",
              "      <td>4.17</td>\n",
              "      <td>439993857</td>\n",
              "      <td>9780439993852</td>\n",
              "      <td>en-GB</td>\n",
              "      <td>112</td>\n",
              "      <td>1425</td>\n",
              "      <td>149</td>\n",
              "      <td>7/20/2001</td>\n",
              "      <td>Scholastic  Inc.</td>\n",
              "      <td>no</td>\n",
              "      <td>NaN</td>\n",
              "      <td>9.0</td>\n",
              "    </tr>\n",
              "    <tr>\n",
              "      <th>29</th>\n",
              "      <td>30</td>\n",
              "      <td>A Star Called Henry</td>\n",
              "      <td>Roddy Doyle</td>\n",
              "      <td>3.84</td>\n",
              "      <td>99284480</td>\n",
              "      <td>9780099284482</td>\n",
              "      <td>eng</td>\n",
              "      <td>342</td>\n",
              "      <td>6885</td>\n",
              "      <td>438</td>\n",
              "      <td>9/7/2000</td>\n",
              "      <td>Vintage</td>\n",
              "      <td>yes</td>\n",
              "      <td>124.0</td>\n",
              "      <td>NaN</td>\n",
              "    </tr>\n",
              "    <tr>\n",
              "      <th>30</th>\n",
              "      <td>31</td>\n",
              "      <td>The Van</td>\n",
              "      <td>Roddy Doyle</td>\n",
              "      <td>3.94</td>\n",
              "      <td>043620052X</td>\n",
              "      <td>9780436200526</td>\n",
              "      <td>eng</td>\n",
              "      <td>312</td>\n",
              "      <td>30</td>\n",
              "      <td>4</td>\n",
              "      <td>8/4/1991</td>\n",
              "      <td>Secker and Warburg</td>\n",
              "      <td>yes</td>\n",
              "      <td>125.0</td>\n",
              "      <td>NaN</td>\n",
              "    </tr>\n",
              "    <tr>\n",
              "      <th>31</th>\n",
              "      <td>32</td>\n",
              "      <td>Rover rettet Weihnachten.</td>\n",
              "      <td>Roddy Doyle/Brian Ajhar</td>\n",
              "      <td>4.12</td>\n",
              "      <td>3570127214</td>\n",
              "      <td>9783570127216</td>\n",
              "      <td>ger</td>\n",
              "      <td>160</td>\n",
              "      <td>1</td>\n",
              "      <td>0</td>\n",
              "      <td>9/1/2002</td>\n",
              "      <td>Omnibus Hc Bei Bertelsmann</td>\n",
              "      <td>yes</td>\n",
              "      <td>126.0</td>\n",
              "      <td>NaN</td>\n",
              "    </tr>\n",
              "    <tr>\n",
              "      <th>32</th>\n",
              "      <td>33</td>\n",
              "      <td>The Snapper</td>\n",
              "      <td>Roddy Doyle</td>\n",
              "      <td>3.93</td>\n",
              "      <td>3596153034</td>\n",
              "      <td>9783596153039</td>\n",
              "      <td>ger</td>\n",
              "      <td>217</td>\n",
              "      <td>26</td>\n",
              "      <td>5</td>\n",
              "      <td>9/1/2002</td>\n",
              "      <td>Fischer TB</td>\n",
              "      <td>yes</td>\n",
              "      <td>127.0</td>\n",
              "      <td>NaN</td>\n",
              "    </tr>\n",
              "    <tr>\n",
              "      <th>33</th>\n",
              "      <td>34</td>\n",
              "      <td>Yeats Is Dead</td>\n",
              "      <td>Roddy Doyle/Frank McCourt/Conor McPherson/Gene...</td>\n",
              "      <td>3.40</td>\n",
              "      <td>99422344</td>\n",
              "      <td>9780099422341</td>\n",
              "      <td>eng</td>\n",
              "      <td>298</td>\n",
              "      <td>34</td>\n",
              "      <td>4</td>\n",
              "      <td>6/6/2002</td>\n",
              "      <td>Vintage</td>\n",
              "      <td>no</td>\n",
              "      <td>NaN</td>\n",
              "      <td>10.0</td>\n",
              "    </tr>\n",
              "    <tr>\n",
              "      <th>34</th>\n",
              "      <td>35</td>\n",
              "      <td>The Fantastic Vampire: Studies in the Children...</td>\n",
              "      <td>James Craig Holte</td>\n",
              "      <td>0.00</td>\n",
              "      <td>313309337</td>\n",
              "      <td>9780313309335</td>\n",
              "      <td>eng</td>\n",
              "      <td>176</td>\n",
              "      <td>0</td>\n",
              "      <td>0</td>\n",
              "      <td>3/30/2002</td>\n",
              "      <td>Greenwood Press</td>\n",
              "      <td>yes</td>\n",
              "      <td>128.0</td>\n",
              "      <td>NaN</td>\n",
              "    </tr>\n",
              "    <tr>\n",
              "      <th>35</th>\n",
              "      <td>36</td>\n",
              "      <td>A Dracula Handbook</td>\n",
              "      <td>Elizabeth Russell Miller</td>\n",
              "      <td>4.07</td>\n",
              "      <td>1413480942</td>\n",
              "      <td>9781413480948</td>\n",
              "      <td>eng</td>\n",
              "      <td>200</td>\n",
              "      <td>10</td>\n",
              "      <td>1</td>\n",
              "      <td>3/23/2005</td>\n",
              "      <td>Xlibris Corporation</td>\n",
              "      <td>no</td>\n",
              "      <td>NaN</td>\n",
              "      <td>11.0</td>\n",
              "    </tr>\n",
              "    <tr>\n",
              "      <th>36</th>\n",
              "      <td>37</td>\n",
              "      <td>Real Estate Loopholes: Secrets of Successful R...</td>\n",
              "      <td>Diane  Kennedy/Garrett Sutton/Robert T. Kiyosaki</td>\n",
              "      <td>4.15</td>\n",
              "      <td>446691356</td>\n",
              "      <td>9780446691352</td>\n",
              "      <td>eng</td>\n",
              "      <td>240</td>\n",
              "      <td>721</td>\n",
              "      <td>9</td>\n",
              "      <td>12/31/2003</td>\n",
              "      <td>Warner Books (NY)</td>\n",
              "      <td>yes</td>\n",
              "      <td>129.0</td>\n",
              "      <td>NaN</td>\n",
              "    </tr>\n",
              "    <tr>\n",
              "      <th>37</th>\n",
              "      <td>38</td>\n",
              "      <td>Hope is the Thing with Feathers: A Personal Ch...</td>\n",
              "      <td>Christopher Cokinos</td>\n",
              "      <td>4.22</td>\n",
              "      <td>446677493</td>\n",
              "      <td>9780446677493</td>\n",
              "      <td>eng</td>\n",
              "      <td>384</td>\n",
              "      <td>308</td>\n",
              "      <td>33</td>\n",
              "      <td>4/1/2001</td>\n",
              "      <td>Warner Books (NY)</td>\n",
              "      <td>no</td>\n",
              "      <td>NaN</td>\n",
              "      <td>12.0</td>\n",
              "    </tr>\n",
              "    <tr>\n",
              "      <th>38</th>\n",
              "      <td>39</td>\n",
              "      <td>Goodbye Forever (Sweet Dreams  #72)</td>\n",
              "      <td>Barbara Conklin</td>\n",
              "      <td>3.76</td>\n",
              "      <td>055324356X</td>\n",
              "      <td>9780553243567</td>\n",
              "      <td>eng</td>\n",
              "      <td>135</td>\n",
              "      <td>56</td>\n",
              "      <td>0</td>\n",
              "      <td>12/31/1984</td>\n",
              "      <td>Bantam Books</td>\n",
              "      <td>yes</td>\n",
              "      <td>130.0</td>\n",
              "      <td>NaN</td>\n",
              "    </tr>\n",
              "    <tr>\n",
              "      <th>39</th>\n",
              "      <td>40</td>\n",
              "      <td>Winter Dreams (Sweet Dreams  #141)</td>\n",
              "      <td>Barbara Conklin</td>\n",
              "      <td>3.85</td>\n",
              "      <td>553270621</td>\n",
              "      <td>9780553270624</td>\n",
              "      <td>eng</td>\n",
              "      <td>176</td>\n",
              "      <td>104</td>\n",
              "      <td>4</td>\n",
              "      <td>2/1/1988</td>\n",
              "      <td>Bantam Books</td>\n",
              "      <td>yes</td>\n",
              "      <td>131.0</td>\n",
              "      <td>NaN</td>\n",
              "    </tr>\n",
              "    <tr>\n",
              "      <th>40</th>\n",
              "      <td>41</td>\n",
              "      <td>First  Last and Always (Sweet Dreams  #96)</td>\n",
              "      <td>Barbara Conklin</td>\n",
              "      <td>3.76</td>\n",
              "      <td>553251791</td>\n",
              "      <td>9780553251791</td>\n",
              "      <td>eng</td>\n",
              "      <td>160</td>\n",
              "      <td>65</td>\n",
              "      <td>2</td>\n",
              "      <td>9/1/1985</td>\n",
              "      <td>Bantam Books</td>\n",
              "      <td>yes</td>\n",
              "      <td>132.0</td>\n",
              "      <td>NaN</td>\n",
              "    </tr>\n",
              "    <tr>\n",
              "      <th>41</th>\n",
              "      <td>42</td>\n",
              "      <td>P.S. I Love You (Sealed with a Kiss #4)</td>\n",
              "      <td>Valerie Parv</td>\n",
              "      <td>2.83</td>\n",
              "      <td>373033664</td>\n",
              "      <td>9780373033669</td>\n",
              "      <td>eng</td>\n",
              "      <td>192</td>\n",
              "      <td>23</td>\n",
              "      <td>1</td>\n",
              "      <td>4/24/1995</td>\n",
              "      <td>Harlequin Romance</td>\n",
              "      <td>no</td>\n",
              "      <td>NaN</td>\n",
              "      <td>13.0</td>\n",
              "    </tr>\n",
              "    <tr>\n",
              "      <th>42</th>\n",
              "      <td>43</td>\n",
              "      <td>Dark Lover (Black Dagger Brotherhood  #1)</td>\n",
              "      <td>J.R. Ward</td>\n",
              "      <td>4.20</td>\n",
              "      <td>451216954</td>\n",
              "      <td>9780451216953</td>\n",
              "      <td>eng</td>\n",
              "      <td>393</td>\n",
              "      <td>259511</td>\n",
              "      <td>10475</td>\n",
              "      <td>9/6/2005</td>\n",
              "      <td>Penguin Group (USA)</td>\n",
              "      <td>yes</td>\n",
              "      <td>133.0</td>\n",
              "      <td>NaN</td>\n",
              "    </tr>\n",
              "    <tr>\n",
              "      <th>43</th>\n",
              "      <td>44</td>\n",
              "      <td>Lover Awakened (Black Dagger Brotherhood  #3)</td>\n",
              "      <td>J.R. Ward</td>\n",
              "      <td>4.45</td>\n",
              "      <td>451219368</td>\n",
              "      <td>9780451219367</td>\n",
              "      <td>eng</td>\n",
              "      <td>448</td>\n",
              "      <td>144906</td>\n",
              "      <td>5728</td>\n",
              "      <td>9/5/2006</td>\n",
              "      <td>Signet</td>\n",
              "      <td>no</td>\n",
              "      <td>NaN</td>\n",
              "      <td>14.0</td>\n",
              "    </tr>\n",
              "    <tr>\n",
              "      <th>44</th>\n",
              "      <td>45</td>\n",
              "      <td>All Things Wise and Wonderful</td>\n",
              "      <td>James Herriot</td>\n",
              "      <td>4.41</td>\n",
              "      <td>312335288</td>\n",
              "      <td>9780312335281</td>\n",
              "      <td>eng</td>\n",
              "      <td>448</td>\n",
              "      <td>22780</td>\n",
              "      <td>366</td>\n",
              "      <td>11/1/2004</td>\n",
              "      <td>St. Martin's Griffin</td>\n",
              "      <td>yes</td>\n",
              "      <td>136.0</td>\n",
              "      <td>NaN</td>\n",
              "    </tr>\n",
              "    <tr>\n",
              "      <th>45</th>\n",
              "      <td>46</td>\n",
              "      <td>CliffsNotes on Remarque's All Quiet on the Wes...</td>\n",
              "      <td>Susan Van Kirk/CliffsNotes/Erich Maria Remarque</td>\n",
              "      <td>4.24</td>\n",
              "      <td>764586718</td>\n",
              "      <td>9780764586712</td>\n",
              "      <td>eng</td>\n",
              "      <td>112</td>\n",
              "      <td>12</td>\n",
              "      <td>0</td>\n",
              "      <td>12/20/2000</td>\n",
              "      <td>Cliffs Notes</td>\n",
              "      <td>yes</td>\n",
              "      <td>129.0</td>\n",
              "      <td>NaN</td>\n",
              "    </tr>\n",
              "    <tr>\n",
              "      <th>46</th>\n",
              "      <td>47</td>\n",
              "      <td>All Quiet on the Western Front</td>\n",
              "      <td>Erich Maria Remarque</td>\n",
              "      <td>3.97</td>\n",
              "      <td>449231801</td>\n",
              "      <td>9780449231807</td>\n",
              "      <td>en-GB</td>\n",
              "      <td>256</td>\n",
              "      <td>64</td>\n",
              "      <td>4</td>\n",
              "      <td>3/12/1987</td>\n",
              "      <td>Fawcett Crest</td>\n",
              "      <td>yes</td>\n",
              "      <td>130.0</td>\n",
              "      <td>NaN</td>\n",
              "    </tr>\n",
              "    <tr>\n",
              "      <th>47</th>\n",
              "      <td>48</td>\n",
              "      <td>The Nightingale's Song</td>\n",
              "      <td>Kathleen Eschenburg</td>\n",
              "      <td>3.88</td>\n",
              "      <td>380815699</td>\n",
              "      <td>9780380815692</td>\n",
              "      <td>eng</td>\n",
              "      <td>384</td>\n",
              "      <td>16</td>\n",
              "      <td>3</td>\n",
              "      <td>10/30/2001</td>\n",
              "      <td>HarperTorch</td>\n",
              "      <td>yes</td>\n",
              "      <td>131.0</td>\n",
              "      <td>NaN</td>\n",
              "    </tr>\n",
              "    <tr>\n",
              "      <th>48</th>\n",
              "      <td>49</td>\n",
              "      <td>Nightingale's Song</td>\n",
              "      <td>Kate Pennington</td>\n",
              "      <td>3.02</td>\n",
              "      <td>340878754</td>\n",
              "      <td>9780340878750</td>\n",
              "      <td>en-GB</td>\n",
              "      <td>219</td>\n",
              "      <td>40</td>\n",
              "      <td>5</td>\n",
              "      <td>10/19/2006</td>\n",
              "      <td>Hachette Children's</td>\n",
              "      <td>no</td>\n",
              "      <td>NaN</td>\n",
              "      <td>15.0</td>\n",
              "    </tr>\n",
              "    <tr>\n",
              "      <th>49</th>\n",
              "      <td>50</td>\n",
              "      <td>Gai-Jin (Asian Saga  #3)</td>\n",
              "      <td>James Clavell</td>\n",
              "      <td>3.86</td>\n",
              "      <td>044021680X</td>\n",
              "      <td>9780440216803</td>\n",
              "      <td>eng</td>\n",
              "      <td>1236</td>\n",
              "      <td>10757</td>\n",
              "      <td>296</td>\n",
              "      <td>4/3/1994</td>\n",
              "      <td>Dell</td>\n",
              "      <td>yes</td>\n",
              "      <td>129.0</td>\n",
              "      <td>NaN</td>\n",
              "    </tr>\n",
              "    <tr>\n",
              "      <th>50</th>\n",
              "      <td>51</td>\n",
              "      <td>Whirlwind (Asian Saga  #6)</td>\n",
              "      <td>James Clavell</td>\n",
              "      <td>3.82</td>\n",
              "      <td>340766182</td>\n",
              "      <td>9780340766187</td>\n",
              "      <td>eng</td>\n",
              "      <td>1231</td>\n",
              "      <td>5626</td>\n",
              "      <td>164</td>\n",
              "      <td>12/2/1999</td>\n",
              "      <td>Morrow</td>\n",
              "      <td>no</td>\n",
              "      <td>NaN</td>\n",
              "      <td>16.0</td>\n",
              "    </tr>\n",
              "    <tr>\n",
              "      <th>51</th>\n",
              "      <td>52</td>\n",
              "      <td>Tai-Pan (Asian Saga  #2)</td>\n",
              "      <td>James Clavell</td>\n",
              "      <td>4.27</td>\n",
              "      <td>440184622</td>\n",
              "      <td>9780440184621</td>\n",
              "      <td>eng</td>\n",
              "      <td>734</td>\n",
              "      <td>39315</td>\n",
              "      <td>778</td>\n",
              "      <td>9/1/2009</td>\n",
              "      <td>Dell</td>\n",
              "      <td>yes</td>\n",
              "      <td>130.0</td>\n",
              "      <td>NaN</td>\n",
              "    </tr>\n",
              "    <tr>\n",
              "      <th>52</th>\n",
              "      <td>53</td>\n",
              "      <td>Escape: The Love Story from Whirlwind</td>\n",
              "      <td>James Clavell</td>\n",
              "      <td>3.63</td>\n",
              "      <td>340654163</td>\n",
              "      <td>9780340654163</td>\n",
              "      <td>eng</td>\n",
              "      <td>584</td>\n",
              "      <td>276</td>\n",
              "      <td>14</td>\n",
              "      <td>7/1/1999</td>\n",
              "      <td>Hodder &amp; Stoughton</td>\n",
              "      <td>no</td>\n",
              "      <td>NaN</td>\n",
              "      <td>17.0</td>\n",
              "    </tr>\n",
              "    <tr>\n",
              "      <th>53</th>\n",
              "      <td>54</td>\n",
              "      <td>Alaska</td>\n",
              "      <td>James A. Michener</td>\n",
              "      <td>4.12</td>\n",
              "      <td>037576142X</td>\n",
              "      <td>9780375761423</td>\n",
              "      <td>eng</td>\n",
              "      <td>868</td>\n",
              "      <td>9330</td>\n",
              "      <td>590</td>\n",
              "      <td>11/12/2002</td>\n",
              "      <td>Dial Press Trade Paperback</td>\n",
              "      <td>yes</td>\n",
              "      <td>133.0</td>\n",
              "      <td>NaN</td>\n",
              "    </tr>\n",
              "    <tr>\n",
              "      <th>54</th>\n",
              "      <td>55</td>\n",
              "      <td>The Drifters</td>\n",
              "      <td>James A. Michener</td>\n",
              "      <td>4.04</td>\n",
              "      <td>449213536</td>\n",
              "      <td>9780449213537</td>\n",
              "      <td>eng</td>\n",
              "      <td>768</td>\n",
              "      <td>6253</td>\n",
              "      <td>353</td>\n",
              "      <td>10/12/1986</td>\n",
              "      <td>Fawcett Books</td>\n",
              "      <td>yes</td>\n",
              "      <td>134.0</td>\n",
              "      <td>NaN</td>\n",
              "    </tr>\n",
              "    <tr>\n",
              "      <th>55</th>\n",
              "      <td>56</td>\n",
              "      <td>Sayonara</td>\n",
              "      <td>James A. Michener</td>\n",
              "      <td>3.81</td>\n",
              "      <td>449204146</td>\n",
              "      <td>9780449204146</td>\n",
              "      <td>eng</td>\n",
              "      <td>208</td>\n",
              "      <td>1848</td>\n",
              "      <td>104</td>\n",
              "      <td>9/12/1983</td>\n",
              "      <td>Fawcett</td>\n",
              "      <td>yes</td>\n",
              "      <td>135.0</td>\n",
              "      <td>NaN</td>\n",
              "    </tr>\n",
              "    <tr>\n",
              "      <th>56</th>\n",
              "      <td>57</td>\n",
              "      <td>The Bridge at Andau</td>\n",
              "      <td>James A. Michener</td>\n",
              "      <td>3.94</td>\n",
              "      <td>449210502</td>\n",
              "      <td>9780449210505</td>\n",
              "      <td>en-US</td>\n",
              "      <td>288</td>\n",
              "      <td>1135</td>\n",
              "      <td>158</td>\n",
              "      <td>9/12/1985</td>\n",
              "      <td>Fawcett</td>\n",
              "      <td>no</td>\n",
              "      <td>NaN</td>\n",
              "      <td>18.0</td>\n",
              "    </tr>\n",
              "    <tr>\n",
              "      <th>57</th>\n",
              "      <td>58</td>\n",
              "      <td>Caribbean</td>\n",
              "      <td>James A. Michener</td>\n",
              "      <td>3.93</td>\n",
              "      <td>812974921</td>\n",
              "      <td>9780812974928</td>\n",
              "      <td>eng</td>\n",
              "      <td>672</td>\n",
              "      <td>4718</td>\n",
              "      <td>232</td>\n",
              "      <td>12/13/2005</td>\n",
              "      <td>Dial Press</td>\n",
              "      <td>yes</td>\n",
              "      <td>134.0</td>\n",
              "      <td>NaN</td>\n",
              "    </tr>\n",
              "    <tr>\n",
              "      <th>58</th>\n",
              "      <td>59</td>\n",
              "      <td>War and Remembrance (The Henry Family  #2)</td>\n",
              "      <td>Herman Wouk</td>\n",
              "      <td>4.41</td>\n",
              "      <td>316954993</td>\n",
              "      <td>9780316954990</td>\n",
              "      <td>eng</td>\n",
              "      <td>1042</td>\n",
              "      <td>29555</td>\n",
              "      <td>680</td>\n",
              "      <td>2/5/2002</td>\n",
              "      <td>Back Bay Books</td>\n",
              "      <td>no</td>\n",
              "      <td>NaN</td>\n",
              "      <td>19.0</td>\n",
              "    </tr>\n",
              "  </tbody>\n",
              "</table>\n",
              "</div>"
            ],
            "text/plain": [
              "    bookID                                              title  ... rack no   due\n",
              "0        1  Harry Potter and the Order of the Phoenix (Har...  ...   111.0   NaN\n",
              "1        2  Harry Potter and the Chamber of Secrets (Harry...  ...   112.0   NaN\n",
              "2        3  Harry Potter and the Prisoner of Azkaban (Harr...  ...   113.0   NaN\n",
              "3        4  Harry Potter Boxed Set  Books 1-5 (Harry Potte...  ...     NaN   1.0\n",
              "4        5  Unauthorized Harry Potter Book Seven News: \"Ha...  ...   114.0   NaN\n",
              "5        6             Artesia: Adventures in the Known World  ...     NaN   2.0\n",
              "6        7    The John McPhee Reader (John McPhee Reader  #1)  ...   115.0   NaN\n",
              "7        8                                  Uncommon Carriers  ...     NaN   3.0\n",
              "8        9                          Heirs of General Practice  ...   116.0   NaN\n",
              "9       10                              The Control of Nature  ...   117.0   NaN\n",
              "10      11            Death on the Nile (Hercule Poirot  #17)  ...   118.0   NaN\n",
              "11      12          Mrs. McGinty's Dead (Hercule Poirot  #30)  ...     NaN   4.0\n",
              "12      13                         The Most of P.G. Wodehouse  ...   119.0   NaN\n",
              "13      14                   Full Moon (Blandings Castle  #7)  ...     NaN   5.0\n",
              "14      15            How Right You Are  Jeeves (Jeeves  #12)  ...   114.0   NaN\n",
              "15      16              Life With Jeeves (Jeeves  #6  2  & 4)  ...   115.0   NaN\n",
              "16      17                                       Spring Fever  ...   116.0   NaN\n",
              "17      18                      Carry On  Jeeves (Jeeves  #3)  ...   117.0   NaN\n",
              "18      19  Lord Emsworth and Others (Blandings Castle  #5.5)  ...     NaN   6.0\n",
              "19      20                                            The Haj  ...   118.0   NaN\n",
              "20      21                                            Mila 18  ...     NaN   NaN\n",
              "21      22                                     A God in Ruins  ...   119.0   NaN\n",
              "22      23                                         Battle Cry  ...     NaN   7.0\n",
              "23      24                                    The Angry Hills  ...   120.0   NaN\n",
              "24      25                                             Exodus  ...   121.0   NaN\n",
              "25      26                                Oh  Play That Thing  ...   122.0   NaN\n",
              "26      27                The Van (The Barrytown Trilogy  #3)  ...     NaN   8.0\n",
              "27      28          Fish & Chips (The Barrytown Trilogie  #3)  ...   123.0   NaN\n",
              "28      29                              The Giggler Treatment  ...     NaN   9.0\n",
              "29      30                                A Star Called Henry  ...   124.0   NaN\n",
              "30      31                                            The Van  ...   125.0   NaN\n",
              "31      32                          Rover rettet Weihnachten.  ...   126.0   NaN\n",
              "32      33                                        The Snapper  ...   127.0   NaN\n",
              "33      34                                      Yeats Is Dead  ...     NaN  10.0\n",
              "34      35  The Fantastic Vampire: Studies in the Children...  ...   128.0   NaN\n",
              "35      36                                 A Dracula Handbook  ...     NaN  11.0\n",
              "36      37  Real Estate Loopholes: Secrets of Successful R...  ...   129.0   NaN\n",
              "37      38  Hope is the Thing with Feathers: A Personal Ch...  ...     NaN  12.0\n",
              "38      39                Goodbye Forever (Sweet Dreams  #72)  ...   130.0   NaN\n",
              "39      40                 Winter Dreams (Sweet Dreams  #141)  ...   131.0   NaN\n",
              "40      41         First  Last and Always (Sweet Dreams  #96)  ...   132.0   NaN\n",
              "41      42            P.S. I Love You (Sealed with a Kiss #4)  ...     NaN  13.0\n",
              "42      43          Dark Lover (Black Dagger Brotherhood  #1)  ...   133.0   NaN\n",
              "43      44      Lover Awakened (Black Dagger Brotherhood  #3)  ...     NaN  14.0\n",
              "44      45                      All Things Wise and Wonderful  ...   136.0   NaN\n",
              "45      46  CliffsNotes on Remarque's All Quiet on the Wes...  ...   129.0   NaN\n",
              "46      47                     All Quiet on the Western Front  ...   130.0   NaN\n",
              "47      48                             The Nightingale's Song  ...   131.0   NaN\n",
              "48      49                                 Nightingale's Song  ...     NaN  15.0\n",
              "49      50                           Gai-Jin (Asian Saga  #3)  ...   129.0   NaN\n",
              "50      51                         Whirlwind (Asian Saga  #6)  ...     NaN  16.0\n",
              "51      52                           Tai-Pan (Asian Saga  #2)  ...   130.0   NaN\n",
              "52      53              Escape: The Love Story from Whirlwind  ...     NaN  17.0\n",
              "53      54                                             Alaska  ...   133.0   NaN\n",
              "54      55                                       The Drifters  ...   134.0   NaN\n",
              "55      56                                           Sayonara  ...   135.0   NaN\n",
              "56      57                                The Bridge at Andau  ...     NaN  18.0\n",
              "57      58                                          Caribbean  ...   134.0   NaN\n",
              "58      59         War and Remembrance (The Henry Family  #2)  ...     NaN  19.0\n",
              "\n",
              "[59 rows x 15 columns]"
            ]
          },
          "metadata": {
            "tags": []
          },
          "execution_count": 34
        }
      ]
    },
    {
      "cell_type": "markdown",
      "metadata": {
        "id": "kbcdMDGCqJuv"
      },
      "source": [
        "functions for checking"
      ]
    },
    {
      "cell_type": "code",
      "metadata": {
        "id": "jctFD3B2rGDz"
      },
      "source": [
        "def before_check(ij):  \n",
        "  ij=ij.replace('check','')\n",
        "  return ij.strip()"
      ],
      "execution_count": null,
      "outputs": []
    },
    {
      "cell_type": "code",
      "metadata": {
        "id": "noCbJAG98lH9"
      },
      "source": [
        "def seperate(aa):\n",
        "  ap=''\n",
        "  for a in aa:\n",
        "    if a == '(':\n",
        "      aa=aa.split(\"(\")\n",
        "  if len(aa)==2:\n",
        "    ap=ap+aa[0]\n",
        "  if len(aa)!=2:\n",
        "    ap=aa\n",
        "\n",
        "  return ap.strip()  "
      ],
      "execution_count": null,
      "outputs": []
    },
    {
      "cell_type": "code",
      "metadata": {
        "id": "-n9jf-UJf1_v"
      },
      "source": [
        "def check(inp):\n",
        "  inp=before_check(inp)\n",
        "  mll=''\t\n",
        "  for u in data_lib['title']:\n",
        "    lo=u.lower().strip()\n",
        "    inp=inp.lower().strip()\n",
        "    api=inp.split()  \n",
        "    if lo==inp:\n",
        "      ul=seperate(u)\n",
        "      print(u)\n",
        "      agg=data_lib[data_lib['title'].str.contains(ul, na=False)]\n",
        "      agg=agg.head(1)\n",
        "      avai=agg['availability'].reset_index(drop=True)\n",
        "      due=agg['due'].reset_index(drop=True)\n",
        "      rack=agg['rack no'].reset_index(drop=True)\n",
        "      if avai[0].strip()=='yes':\n",
        "        srack=str(int(rack[0]))\n",
        "        mll='yes  the book is available '+\"The book \"+u+ \" was in rack \"+srack\n",
        "      if avai[0].strip()=='no':\n",
        "        sdue=str(int(due[0]))\n",
        "        mll=\"sorry,the book \"+u+\" currently not available\"+\" The book will be returned in \"+sdue+\" days\"+\" you can try some other books for\"\n",
        "        su=suggest(u)\n",
        "        mll=mll+su\n",
        "\n",
        "  return mll"
      ],
      "execution_count": null,
      "outputs": []
    },
    {
      "cell_type": "code",
      "metadata": {
        "colab": {
          "base_uri": "https://localhost:8080/"
        },
        "id": "sA7Jb1HmqV7L",
        "outputId": "631b2530-e554-4ab6-e19c-090a8ab889c1"
      },
      "source": [
        "print(check('the van'))"
      ],
      "execution_count": null,
      "outputs": [
        {
          "output_type": "stream",
          "text": [
            "The Van\n",
            "sorry,the book The Van currently not available The book will be returned in 8 days you can try some other books forThe Van by Roddy Doyle\n",
            "On Genesis/A Refutation of the Manichees/The Unfinished Literal Meaning of Genesis (Works of St Augustine 1) by Augustine of Hippo/Boniface Ramsey/Edmund Hill\n",
            "The Golden Tulip by Rosalind Laker\n",
            "Active Literacy Across the Curriculum: Strategies for Reading  Writing  Speaking  and Listening by Heidi Hayes Jacobs\n",
            "If the River Was Whiskey: Stories by T. Coraghessan Boyle\n",
            "4:50 from Paddington / A Pocket Full of Rye (BBC Presents: Two Miss Marple Dramas) by Agatha Christie\n",
            "\n"
          ],
          "name": "stdout"
        }
      ]
    },
    {
      "cell_type": "markdown",
      "metadata": {
        "id": "Rt9b2wCoqSco"
      },
      "source": [
        "function for make reply"
      ]
    },
    {
      "cell_type": "code",
      "metadata": {
        "id": "CCKwdJnfbxvj"
      },
      "source": [
        "def make_reply(input_book):\n",
        "  inpp=input_book.replace(\"-\",' tot ').replace(\"#\",'<').replace(\":\",'>').strip()\n",
        "  print(inpp)\n",
        "  out=''\n",
        "  reply=chatbot.get_response(inpp)\n",
        "  reply=reply.text\n",
        "  reply=reply.replace(' tot ',\"-\").replace(\"<\",' #').replace(\">\",':')\n",
        "  reply_sp=reply.split()\n",
        "  if reply_sp[0]=='suggest':\n",
        "    out=\"the suggestion for given book \"+reply\n",
        "    out=out+suggest(reply)\n",
        "    return out\n",
        "  if reply_sp[0]=='check':\n",
        "    out=check(reply)\n",
        "    return out\n",
        "  if reply=='sorry try some other books':\n",
        "    out='sorry,please try some other books'\n",
        "    return out\n",
        "  if reply_sp[0] not in['check','suggest']:\n",
        "    return reply"
      ],
      "execution_count": null,
      "outputs": []
    },
    {
      "cell_type": "code",
      "metadata": {
        "colab": {
          "base_uri": "https://localhost:8080/"
        },
        "id": "myMnI1MFN3DN",
        "outputId": "b40e1249-c689-4832-e524-e2f7e3a1e44c"
      },
      "source": [
        "print(make_reply(\"can i get the book exodus\"))\n"
      ],
      "execution_count": null,
      "outputs": [
        {
          "output_type": "stream",
          "text": [
            "can i get the book exodus\n",
            "Exodus\n",
            "yes  the book is available The book Exodus was in rack 121\n"
          ],
          "name": "stdout"
        }
      ]
    },
    {
      "cell_type": "code",
      "metadata": {
        "colab": {
          "base_uri": "https://localhost:8080/",
          "height": 137
        },
        "id": "EdpUk3v_PcFM",
        "outputId": "a8d64683-c026-4bd7-c1f9-728003d5530c"
      },
      "source": [
        "check('the van')"
      ],
      "execution_count": null,
      "outputs": [
        {
          "output_type": "stream",
          "text": [
            "The Van\n"
          ],
          "name": "stdout"
        },
        {
          "output_type": "execute_result",
          "data": {
            "application/vnd.google.colaboratory.intrinsic+json": {
              "type": "string"
            },
            "text/plain": [
              "'sorry,the book The Van currently not available The book will be returned in 8 days you can try some other books forThe Van by Roddy Doyle\\nOn Genesis/A Refutation of the Manichees/The Unfinished Literal Meaning of Genesis (Works of St Augustine 1) by Augustine of Hippo/Boniface Ramsey/Edmund Hill\\nThe Golden Tulip by Rosalind Laker\\nActive Literacy Across the Curriculum: Strategies for Reading  Writing  Speaking  and Listening by Heidi Hayes Jacobs\\nIf the River Was Whiskey: Stories by T. Coraghessan Boyle\\n4:50 from Paddington / A Pocket Full of Rye (BBC Presents: Two Miss Marple Dramas) by Agatha Christie\\n'"
            ]
          },
          "metadata": {
            "tags": []
          },
          "execution_count": 41
        }
      ]
    },
    {
      "cell_type": "code",
      "metadata": {
        "colab": {
          "base_uri": "https://localhost:8080/",
          "height": 86
        },
        "id": "6OvAxa_8gjT-",
        "outputId": "a5d2acfe-3095-442b-f831-8801cbb97335"
      },
      "source": [
        "suggest(\"Harry Potter and the Chamber of Secrets (Harry Potter  #2)\")"
      ],
      "execution_count": null,
      "outputs": [
        {
          "output_type": "execute_result",
          "data": {
            "application/vnd.google.colaboratory.intrinsic+json": {
              "type": "string"
            },
            "text/plain": [
              "'Harry Potter and the Chamber of Secrets (Harry Potter  #2) by J.K. Rowling\\nThe Complete Collected Poems by Maya Angelou\\nFamily (Firstborn  #4) by Karen Kingsbury\\nAnd Still I Rise by Maya Angelou/Linda Sunshine/Diego Rivera\\nThe Last Lion: Winston Spencer Churchill: Visions of Glory 1874-1932 by William Manchester\\nThe Civil War  Vol. 1: Fort Sumter to Perryville by Shelby Foote\\n'"
            ]
          },
          "metadata": {
            "tags": []
          },
          "execution_count": 42
        }
      ]
    },
    {
      "cell_type": "markdown",
      "metadata": {
        "id": "r2s5mg0uqGcu"
      },
      "source": [
        "----------------------------------------\n"
      ]
    },
    {
      "cell_type": "markdown",
      "metadata": {
        "id": "dojAxGi5pMPX"
      },
      "source": [
        "website output\n"
      ]
    },
    {
      "cell_type": "code",
      "metadata": {
        "colab": {
          "base_uri": "https://localhost:8080/"
        },
        "id": "P_Ex9RaEpLnG",
        "outputId": "7b1de00a-5c25-47dc-f4e5-d9df04ea6186"
      },
      "source": [
        "%cd '/content/library_chatbot/PersonalizedChatBot'"
      ],
      "execution_count": null,
      "outputs": [
        {
          "output_type": "stream",
          "text": [
            "/content/library_chatbot/PersonalizedChatBot\n"
          ],
          "name": "stdout"
        }
      ]
    },
    {
      "cell_type": "code",
      "metadata": {
        "id": "un1s3mNSpR5v",
        "colab": {
          "base_uri": "https://localhost:8080/"
        },
        "outputId": "649e3801-0ebe-45b3-b841-31b363fa5a37"
      },
      "source": [
        "from flask_ngrok import run_with_ngrok\n",
        "from flask import Flask, render_template, request\n",
        "app = Flask(__name__)\n",
        "run_with_ngrok(app)\n",
        "\n",
        "@app.route(\"/\")\n",
        "def home():    \n",
        "    return render_template(\"home.html\") \n",
        "@app.route(\"/get\")\n",
        "def get_bot_response():    \n",
        "    userText = request.args.get('msg') \n",
        "    us=make_reply(userText)\n",
        "    return us  \n",
        "if __name__ == \"__main__\":    \n",
        "    app.run()"
      ],
      "execution_count": null,
      "outputs": [
        {
          "output_type": "stream",
          "text": [
            " * Serving Flask app \"__main__\" (lazy loading)\n",
            " * Environment: production\n",
            "\u001b[31m   WARNING: This is a development server. Do not use it in a production deployment.\u001b[0m\n",
            "\u001b[2m   Use a production WSGI server instead.\u001b[0m\n",
            " * Debug mode: off\n"
          ],
          "name": "stdout"
        },
        {
          "output_type": "stream",
          "text": [
            " * Running on http://127.0.0.1:5000/ (Press CTRL+C to quit)\n"
          ],
          "name": "stderr"
        },
        {
          "output_type": "stream",
          "text": [
            " * Running on http://bb7f952056f5.ngrok.io\n",
            " * Traffic stats available on http://127.0.0.1:4040\n"
          ],
          "name": "stdout"
        },
        {
          "output_type": "stream",
          "text": [
            "127.0.0.1 - - [20/Apr/2021 11:39:59] \"\u001b[37mGET / HTTP/1.1\u001b[0m\" 200 -\n",
            "127.0.0.1 - - [20/Apr/2021 11:40:34] \"\u001b[37mGET / HTTP/1.1\u001b[0m\" 200 -\n",
            "127.0.0.1 - - [20/Apr/2021 11:40:38] \"\u001b[33mGET /favicon.ico HTTP/1.1\u001b[0m\" 404 -\n",
            "127.0.0.1 - - [20/Apr/2021 11:40:53] \"\u001b[37mGET /get?msg=can+i+get+the+book+exodus HTTP/1.1\u001b[0m\" 200 -\n"
          ],
          "name": "stderr"
        },
        {
          "output_type": "stream",
          "text": [
            "can i get the book exodus\n",
            "Exodus\n"
          ],
          "name": "stdout"
        }
      ]
    },
    {
      "cell_type": "markdown",
      "metadata": {
        "id": "jKuzfpsZRiKN"
      },
      "source": [
        "telegram part"
      ]
    },
    {
      "cell_type": "markdown",
      "metadata": {
        "id": "7Hsf1aAyqail"
      },
      "source": [
        "----------------------------------------"
      ]
    },
    {
      "cell_type": "code",
      "metadata": {
        "id": "EHN4fmhSpb9y"
      },
      "source": [
        "def suggest_t(inp):\n",
        "  mll=[]\n",
        "  y=0\n",
        "  inp=before_suggest(inp)\n",
        "  for u_s in data['title']:\n",
        "    low=u_s.lower()\n",
        "    inp_s=inp.lower()\n",
        "    if low == inp_s:\n",
        "      book_sug,au=book_recommendation_engine(u_s)\n",
        "      for x in range(len(book_sug)):\n",
        "        m=book_sug[x]+\" by \"+au[x]\n",
        "        mll.append((m))\n",
        "      break\n",
        "  return mll"
      ],
      "execution_count": null,
      "outputs": []
    },
    {
      "cell_type": "code",
      "metadata": {
        "id": "uIN1xIE4pnHG"
      },
      "source": [
        "def check_t(inp):\n",
        "  inp=before_check(inp)\n",
        "  mll=[]\t\n",
        "  for u in data_lib['title']:\n",
        "    lo=u.lower().strip()\n",
        "    inp=inp.lower().strip()\n",
        "    api=inp.split()  \n",
        "    if lo==inp:\n",
        "      ul=seperate(u)\n",
        "      print(u)\n",
        "      agg=data_lib[data_lib['title'].str.contains(ul, na=False)]\n",
        "      agg=agg.head(1)\n",
        "      avai=agg['availability'].reset_index(drop=True)\n",
        "      due=agg['due'].reset_index(drop=True)\n",
        "      rack=agg['rack no'].reset_index(drop=True)\n",
        "      if avai[0].strip()=='yes':\n",
        "        print(\"the book was in rack\",rack[0])\n",
        "        srack=str(int(rack[0]))\n",
        "        mll.append('yes  the book is available')\n",
        "        mll.append(\"The book \"+u+ \" was in rack \"+srack)\n",
        "      if avai[0].strip()=='no':\n",
        "        print(\"the book will be return back within \",due[0],\"days\")\n",
        "        sdue=str(int(due[0]))\n",
        "        mll.append(\"sorry,the book \"+u+\" currently not available\"+\" The book will be return back within \"+sdue+\" days\")\n",
        "        mll.append(\"you can try some other books like\")\n",
        "        su=suggest_t(u)\n",
        "        for s in su:\n",
        "          mll.append(s)\n",
        "  if mll!=[]:\n",
        "    return mll                \n",
        "  return (\"the book is not in this library\")"
      ],
      "execution_count": null,
      "outputs": []
    },
    {
      "cell_type": "code",
      "metadata": {
        "id": "Ztd-oB-Jp0wj"
      },
      "source": [
        "def make_reply_t(input_book):\n",
        "  inpp=input_book.replace(\"-\",' tot ').replace(\"#\",'<').replace(\":\",'>').strip()\n",
        "  print(inpp)\n",
        "  out=[]\n",
        "  reply=chatbot.get_response(inpp)\n",
        "  reply=reply.text\n",
        "  reply=reply.replace(' tot ',\"-\").replace(\"<\",' #').replace(\">\",':')\n",
        "  reply_sp=reply.split()\n",
        "  if reply_sp[0]=='suggest':\n",
        "    print(reply)\n",
        "    out.append(\"the suggestion for given book \"+reply)\n",
        "    out=suggest_t(reply)\n",
        "  if reply_sp[0]=='check':\n",
        "    out=check_t(reply)\n",
        "    return out\n",
        "  if reply=='sorry try some other books':\n",
        "    out.append('sorry,please try some other books') \n",
        "    return out\n",
        "  if reply_sp[0] not in [\"check\",'suggest']:\n",
        "    out.append(reply)\n",
        "    return out\n",
        "    "
      ],
      "execution_count": null,
      "outputs": []
    },
    {
      "cell_type": "code",
      "metadata": {
        "colab": {
          "base_uri": "https://localhost:8080/"
        },
        "id": "a3ZOCF9fImNl",
        "outputId": "18ae39f9-7ca7-4634-e8df-5ebe23423d5f"
      },
      "source": [
        "check_t('check exodus')"
      ],
      "execution_count": null,
      "outputs": [
        {
          "output_type": "stream",
          "text": [
            "Exodus\n",
            "the book was in rack 121.0\n"
          ],
          "name": "stdout"
        },
        {
          "output_type": "execute_result",
          "data": {
            "text/plain": [
              "['yes  the book is available', 'The book Exodus was in rack 121']"
            ]
          },
          "metadata": {
            "tags": []
          },
          "execution_count": 75
        }
      ]
    },
    {
      "cell_type": "code",
      "metadata": {
        "colab": {
          "base_uri": "https://localhost:8080/"
        },
        "id": "QQT-Nw5epWZd",
        "outputId": "684c4a3a-12a4-4c5c-9999-29df06572a92"
      },
      "source": [
        "make_reply_t('can i get the book tg')"
      ],
      "execution_count": null,
      "outputs": [
        {
          "output_type": "stream",
          "text": [
            "can i get the book tg\n"
          ],
          "name": "stdout"
        },
        {
          "output_type": "execute_result",
          "data": {
            "text/plain": [
              "['sorry,please try some other books']"
            ]
          },
          "metadata": {
            "tags": []
          },
          "execution_count": 76
        }
      ]
    },
    {
      "cell_type": "code",
      "metadata": {
        "id": "I-EHpbNPMUaL"
      },
      "source": [
        "import requests\n",
        "import json\n",
        "import configparser as cfg\n",
        " \n",
        " \n",
        "class telegram_chatbot():\n",
        " \n",
        "    def __init__(self, config):\n",
        "        self.token = self.read_token_from_config_file(config)\n",
        "        self.base = \"https://api.telegram.org/bot{}/\".format(self.token)\n",
        " \n",
        "    def get_updates(self, offset=None):\n",
        "        url = self.base + \"getUpdates?timeout=100\"\n",
        "        if offset:\n",
        "            url = url + \"&offset={}\".format(offset + 1)\n",
        "        r = requests.get(url)\n",
        "        return json.loads(r.content)\n",
        "\n",
        "    def send_message(self, msg, chat_id):\n",
        "        url = self.base + \"sendMessage?chat_id={}&text={}\".format(chat_id, msg)\n",
        "        if msg is not None:\n",
        "            requests.get(url)\n",
        " \n",
        "    def read_token_from_config_file(self, config):\n",
        "        parser = cfg.ConfigParser()\n",
        "        parser.read(config)\n",
        "        return parser.get('creds', 'token')"
      ],
      "execution_count": null,
      "outputs": []
    },
    {
      "cell_type": "code",
      "metadata": {
        "id": "NNu6NgPrQh8N"
      },
      "source": [
        "bot = telegram_chatbot(\"/content/drive/My Drive/chatbot python/config.cfg\")"
      ],
      "execution_count": null,
      "outputs": []
    },
    {
      "cell_type": "markdown",
      "metadata": {
        "id": "tp1YvzwjRlZk"
      },
      "source": [
        "telegram output"
      ]
    },
    {
      "cell_type": "code",
      "metadata": {
        "id": "U9KvH12-QhMR"
      },
      "source": [
        "update_id = None\n",
        "try:\n",
        "  while True:\n",
        "    updates = bot.get_updates(offset=update_id)\n",
        "    updates = updates[\"result\"]\n",
        "    if updates:\n",
        "        for item in updates:\n",
        "            update_id = item[\"update_id\"]\n",
        "            try:\n",
        "                message = str(item[\"message\"][\"text\"])\n",
        "                message = message.replace(\"/\",\"\")\n",
        "                print(message)\n",
        "            except:\n",
        "                message = None\n",
        "            from_ = item[\"message\"][\"chat\"][\"id\"]\n",
        "            print(make_reply_t(message),'l')\n",
        "            replyto= make_reply_t(message)\n",
        "            print(replyto)\n",
        "            for r in replyto:\n",
        "              bot.send_message(r.replace('#','part'), from_)\n",
        "             \n",
        "    \n",
        "               \n",
        "            \n",
        "except :\n",
        "  bot.send_message('The server is in maintence,please try after some times', from_)\n",
        "  bot.send_message(\"the code is stoped\",806993967)#my telegram num;\n",
        "  print('stoped')\n",
        "  "
      ],
      "execution_count": null,
      "outputs": []
    }
  ]
}