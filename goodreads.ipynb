{
  "nbformat": 4,
  "nbformat_minor": 0,
  "metadata": {
    "accelerator": "GPU",
    "colab": {
      "name": "goodreads.ipynb",
      "provenance": [],
      "collapsed_sections": [],
      "mount_file_id": "15_tHDUD2QfezxCGvhKQhXpk9vh3bnv3x",
      "authorship_tag": "ABX9TyMONW6NH/y6GAYLxwL7E41m",
      "include_colab_link": true
    },
    "kernelspec": {
      "display_name": "Python 3",
      "name": "python3"
    },
    "language_info": {
      "name": "python"
    }
  },
  "cells": [
    {
      "cell_type": "markdown",
      "metadata": {
        "id": "view-in-github",
        "colab_type": "text"
      },
      "source": [
        "<a href=\"https://colab.research.google.com/github/Ragavan7071/library_chatbot/blob/main/goodreads.ipynb\" target=\"_parent\"><img src=\"https://colab.research.google.com/assets/colab-badge.svg\" alt=\"Open In Colab\"/></a>"
      ]
    },
    {
      "cell_type": "code",
      "metadata": {
        "colab": {
          "base_uri": "https://localhost:8080/"
        },
        "id": "Rh6uT7LI6g7J",
        "outputId": "209ce636-2a61-47ac-a48b-f75408e95847"
      },
      "source": [
        "!pip install ChatterBot"
      ],
      "execution_count": null,
      "outputs": [
        {
          "output_type": "stream",
          "text": [
            "Collecting ChatterBot\n",
            "\u001b[?25l  Downloading https://files.pythonhosted.org/packages/7c/21/85c2b114bd9dfabdd46ba58fc4519acdaed45d8c70898d40079e37a45e67/ChatterBot-1.0.8-py2.py3-none-any.whl (63kB)\n",
            "\u001b[K     |████████████████████████████████| 71kB 6.0MB/s \n",
            "\u001b[?25hCollecting sqlalchemy<1.4,>=1.3\n",
            "\u001b[?25l  Downloading https://files.pythonhosted.org/packages/31/44/a86070dda790ce94cd7d9fb9281cd614c7d30850ed774ace9a84d0d5d491/SQLAlchemy-1.3.24-cp37-cp37m-manylinux2010_x86_64.whl (1.3MB)\n",
            "\u001b[K     |████████████████████████████████| 1.3MB 8.3MB/s \n",
            "\u001b[?25hRequirement already satisfied: python-dateutil<2.9,>=2.8 in /usr/local/lib/python3.7/dist-packages (from ChatterBot) (2.8.1)\n",
            "Requirement already satisfied: pytz in /usr/local/lib/python3.7/dist-packages (from ChatterBot) (2018.9)\n",
            "Collecting mathparse<0.2,>=0.1\n",
            "  Downloading https://files.pythonhosted.org/packages/c3/e5/4910fb85950cb960fcf3f5aabe1c8e55f5c9201788a1c1302b570a7e1f84/mathparse-0.1.2-py3-none-any.whl\n",
            "Requirement already satisfied: six>=1.5 in /usr/local/lib/python3.7/dist-packages (from python-dateutil<2.9,>=2.8->ChatterBot) (1.15.0)\n",
            "Installing collected packages: sqlalchemy, mathparse, ChatterBot\n",
            "  Found existing installation: SQLAlchemy 1.4.3\n",
            "    Uninstalling SQLAlchemy-1.4.3:\n",
            "      Successfully uninstalled SQLAlchemy-1.4.3\n",
            "Successfully installed ChatterBot-1.0.8 mathparse-0.1.2 sqlalchemy-1.3.24\n"
          ],
          "name": "stdout"
        }
      ]
    },
    {
      "cell_type": "code",
      "metadata": {
        "id": "HLgHD_oHc3Ka"
      },
      "source": [
        "import numpy as np\n",
        "import pandas as pd\n",
        "import matplotlib.pyplot as plt\n",
        "import seaborn as sns\n",
        "from sklearn.preprocessing import MinMaxScaler\n",
        "from sklearn import neighbors\n",
        "import random\n",
        "import math"
      ],
      "execution_count": null,
      "outputs": []
    },
    {
      "cell_type": "code",
      "metadata": {
        "colab": {
          "base_uri": "https://localhost:8080/",
          "height": 751
        },
        "id": "0E6uVzz6dC5i",
        "outputId": "3f1206b5-cfb1-478c-8278-9ffe06bf510c"
      },
      "source": [
        "data = pd.read_csv(\"/content/drive/MyDrive/chatbot python/books.csv\", error_bad_lines = False)\n",
        "data.head()"
      ],
      "execution_count": null,
      "outputs": [
        {
          "output_type": "stream",
          "text": [
            "b'Skipping line 3350: expected 12 fields, saw 13\\nSkipping line 4704: expected 12 fields, saw 13\\nSkipping line 5879: expected 12 fields, saw 13\\nSkipping line 8981: expected 12 fields, saw 13\\n'\n"
          ],
          "name": "stderr"
        },
        {
          "output_type": "execute_result",
          "data": {
            "text/html": [
              "<div>\n",
              "<style scoped>\n",
              "    .dataframe tbody tr th:only-of-type {\n",
              "        vertical-align: middle;\n",
              "    }\n",
              "\n",
              "    .dataframe tbody tr th {\n",
              "        vertical-align: top;\n",
              "    }\n",
              "\n",
              "    .dataframe thead th {\n",
              "        text-align: right;\n",
              "    }\n",
              "</style>\n",
              "<table border=\"1\" class=\"dataframe\">\n",
              "  <thead>\n",
              "    <tr style=\"text-align: right;\">\n",
              "      <th></th>\n",
              "      <th>bookID</th>\n",
              "      <th>title</th>\n",
              "      <th>authors</th>\n",
              "      <th>average_rating</th>\n",
              "      <th>isbn</th>\n",
              "      <th>isbn13</th>\n",
              "      <th>language_code</th>\n",
              "      <th>num_pages</th>\n",
              "      <th>ratings_count</th>\n",
              "      <th>text_reviews_count</th>\n",
              "      <th>publication_date</th>\n",
              "      <th>publisher</th>\n",
              "    </tr>\n",
              "  </thead>\n",
              "  <tbody>\n",
              "    <tr>\n",
              "      <th>0</th>\n",
              "      <td>1</td>\n",
              "      <td>Harry Potter and the Half-Blood Prince (Harry ...</td>\n",
              "      <td>J.K. Rowling/Mary GrandPré</td>\n",
              "      <td>4.57</td>\n",
              "      <td>0439785960</td>\n",
              "      <td>9780439785969</td>\n",
              "      <td>eng</td>\n",
              "      <td>652</td>\n",
              "      <td>2095690</td>\n",
              "      <td>27591</td>\n",
              "      <td>9/16/2006</td>\n",
              "      <td>Scholastic Inc.</td>\n",
              "    </tr>\n",
              "    <tr>\n",
              "      <th>1</th>\n",
              "      <td>2</td>\n",
              "      <td>Harry Potter and the Order of the Phoenix (Har...</td>\n",
              "      <td>J.K. Rowling/Mary GrandPré</td>\n",
              "      <td>4.49</td>\n",
              "      <td>0439358078</td>\n",
              "      <td>9780439358071</td>\n",
              "      <td>eng</td>\n",
              "      <td>870</td>\n",
              "      <td>2153167</td>\n",
              "      <td>29221</td>\n",
              "      <td>9/1/2004</td>\n",
              "      <td>Scholastic Inc.</td>\n",
              "    </tr>\n",
              "    <tr>\n",
              "      <th>2</th>\n",
              "      <td>4</td>\n",
              "      <td>Harry Potter and the Chamber of Secrets (Harry...</td>\n",
              "      <td>J.K. Rowling</td>\n",
              "      <td>4.42</td>\n",
              "      <td>0439554896</td>\n",
              "      <td>9780439554893</td>\n",
              "      <td>eng</td>\n",
              "      <td>352</td>\n",
              "      <td>6333</td>\n",
              "      <td>244</td>\n",
              "      <td>11/1/2003</td>\n",
              "      <td>Scholastic</td>\n",
              "    </tr>\n",
              "    <tr>\n",
              "      <th>3</th>\n",
              "      <td>5</td>\n",
              "      <td>Harry Potter and the Prisoner of Azkaban (Harr...</td>\n",
              "      <td>J.K. Rowling/Mary GrandPré</td>\n",
              "      <td>4.56</td>\n",
              "      <td>043965548X</td>\n",
              "      <td>9780439655484</td>\n",
              "      <td>eng</td>\n",
              "      <td>435</td>\n",
              "      <td>2339585</td>\n",
              "      <td>36325</td>\n",
              "      <td>5/1/2004</td>\n",
              "      <td>Scholastic Inc.</td>\n",
              "    </tr>\n",
              "    <tr>\n",
              "      <th>4</th>\n",
              "      <td>8</td>\n",
              "      <td>Harry Potter Boxed Set  Books 1-5 (Harry Potte...</td>\n",
              "      <td>J.K. Rowling/Mary GrandPré</td>\n",
              "      <td>4.78</td>\n",
              "      <td>0439682584</td>\n",
              "      <td>9780439682589</td>\n",
              "      <td>eng</td>\n",
              "      <td>2690</td>\n",
              "      <td>41428</td>\n",
              "      <td>164</td>\n",
              "      <td>9/13/2004</td>\n",
              "      <td>Scholastic</td>\n",
              "    </tr>\n",
              "  </tbody>\n",
              "</table>\n",
              "</div>"
            ],
            "text/plain": [
              "   bookID  ...        publisher\n",
              "0       1  ...  Scholastic Inc.\n",
              "1       2  ...  Scholastic Inc.\n",
              "2       4  ...       Scholastic\n",
              "3       5  ...  Scholastic Inc.\n",
              "4       8  ...       Scholastic\n",
              "\n",
              "[5 rows x 12 columns]"
            ]
          },
          "metadata": {
            "tags": []
          },
          "execution_count": 4
        }
      ]
    },
    {
      "cell_type": "code",
      "metadata": {
        "id": "4oo_E9UmeD9C"
      },
      "source": [
        "top_books = data[data['ratings_count'] > 1000000]\n",
        "top_books = top_books.sort_values(by='average_rating', ascending=False).head(20)"
      ],
      "execution_count": null,
      "outputs": []
    },
    {
      "cell_type": "code",
      "metadata": {
        "id": "xGSzrQ-jeMMP"
      },
      "source": [
        "top_vote = data.sort_values(by='ratings_count', ascending=False).head(20)"
      ],
      "execution_count": null,
      "outputs": []
    },
    {
      "cell_type": "code",
      "metadata": {
        "colab": {
          "base_uri": "https://localhost:8080/"
        },
        "id": "13AjX1vseQPQ",
        "outputId": "66467175-165b-45b9-8c66-cee607495f11"
      },
      "source": [
        "list(set(top_books['title'].values) - set(top_vote['title'].values))"
      ],
      "execution_count": null,
      "outputs": [
        {
          "output_type": "execute_result",
          "data": {
            "text/plain": [
              "['Memoirs of a Geisha',\n",
              " \"Charlotte's Web\",\n",
              " 'Brave New World',\n",
              " 'The Notebook (The Notebook  #1)',\n",
              " 'Slaughterhouse-Five',\n",
              " 'The Secret Life of Bees',\n",
              " 'Water for Elephants']"
            ]
          },
          "metadata": {
            "tags": []
          },
          "execution_count": 7
        }
      ]
    },
    {
      "cell_type": "code",
      "metadata": {
        "colab": {
          "base_uri": "https://localhost:8080/"
        },
        "id": "4KtVDt7weVl1",
        "outputId": "64627a69-7f35-45f4-de92-f9c0a37125ff"
      },
      "source": [
        "list(set(top_vote['title'].values) - set(top_books['title'].values))"
      ],
      "execution_count": null,
      "outputs": [
        {
          "output_type": "execute_result",
          "data": {
            "text/plain": [
              "['Romeo and Juliet',\n",
              " 'The Catcher in the Rye',\n",
              " 'The Da Vinci Code (Robert Langdon  #2)',\n",
              " 'The Alchemist',\n",
              " 'Lord of the Flies',\n",
              " 'Twilight (Twilight  #1)',\n",
              " 'Of Mice and Men']"
            ]
          },
          "metadata": {
            "tags": []
          },
          "execution_count": 8
        }
      ]
    },
    {
      "cell_type": "code",
      "metadata": {
        "id": "MmJ9Oh09eeVD"
      },
      "source": [
        "new_data = data.copy()\n",
        "def fun_only_author(text):\n",
        "    arlen = text.split('/')\n",
        "    return arlen[0]"
      ],
      "execution_count": null,
      "outputs": []
    },
    {
      "cell_type": "code",
      "metadata": {
        "id": "TraqZHWEejoY"
      },
      "source": [
        "new_data['only_author'] = new_data['authors'].apply(lambda x : fun_only_author(x))"
      ],
      "execution_count": null,
      "outputs": []
    },
    {
      "cell_type": "code",
      "metadata": {
        "colab": {
          "base_uri": "https://localhost:8080/",
          "height": 419
        },
        "id": "83stpFanel-W",
        "outputId": "b06f9554-e43e-47b5-bca9-44a200785f12"
      },
      "source": [
        "total_rating = new_data.drop_duplicates(subset=['only_author', 'title'], keep='first')\n",
        "total_rating = total_rating.groupby(by=['only_author']).agg({'average_rating': ['sum']})\n",
        "total_rating.columns = ['total_rating']\n",
        "total_rating.reset_index(inplace=True)\n",
        "total_rating = total_rating.sort_values(by=['total_rating'], ascending=False)\n",
        "total_rating"
      ],
      "execution_count": null,
      "outputs": [
        {
          "output_type": "execute_result",
          "data": {
            "text/html": [
              "<div>\n",
              "<style scoped>\n",
              "    .dataframe tbody tr th:only-of-type {\n",
              "        vertical-align: middle;\n",
              "    }\n",
              "\n",
              "    .dataframe tbody tr th {\n",
              "        vertical-align: top;\n",
              "    }\n",
              "\n",
              "    .dataframe thead th {\n",
              "        text-align: right;\n",
              "    }\n",
              "</style>\n",
              "<table border=\"1\" class=\"dataframe\">\n",
              "  <thead>\n",
              "    <tr style=\"text-align: right;\">\n",
              "      <th></th>\n",
              "      <th>only_author</th>\n",
              "      <th>total_rating</th>\n",
              "    </tr>\n",
              "  </thead>\n",
              "  <tbody>\n",
              "    <tr>\n",
              "      <th>3753</th>\n",
              "      <td>Stephen King</td>\n",
              "      <td>250.79</td>\n",
              "    </tr>\n",
              "    <tr>\n",
              "      <th>3006</th>\n",
              "      <td>P.G. Wodehouse</td>\n",
              "      <td>187.31</td>\n",
              "    </tr>\n",
              "    <tr>\n",
              "      <th>4161</th>\n",
              "      <td>William Shakespeare</td>\n",
              "      <td>178.45</td>\n",
              "    </tr>\n",
              "    <tr>\n",
              "      <th>1603</th>\n",
              "      <td>J.R.R. Tolkien</td>\n",
              "      <td>172.22</td>\n",
              "    </tr>\n",
              "    <tr>\n",
              "      <th>3536</th>\n",
              "      <td>Rumiko Takahashi</td>\n",
              "      <td>163.28</td>\n",
              "    </tr>\n",
              "    <tr>\n",
              "      <th>...</th>\n",
              "      <td>...</td>\n",
              "      <td>...</td>\n",
              "    </tr>\n",
              "    <tr>\n",
              "      <th>146</th>\n",
              "      <td>Andrew      Hunt</td>\n",
              "      <td>0.00</td>\n",
              "    </tr>\n",
              "    <tr>\n",
              "      <th>1654</th>\n",
              "      <td>James Craig Holte</td>\n",
              "      <td>0.00</td>\n",
              "    </tr>\n",
              "    <tr>\n",
              "      <th>1751</th>\n",
              "      <td>Jasmine C.M. Luk</td>\n",
              "      <td>0.00</td>\n",
              "    </tr>\n",
              "    <tr>\n",
              "      <th>935</th>\n",
              "      <td>Dobrica Erić</td>\n",
              "      <td>0.00</td>\n",
              "    </tr>\n",
              "    <tr>\n",
              "      <th>3360</th>\n",
              "      <td>Rick Osborne</td>\n",
              "      <td>0.00</td>\n",
              "    </tr>\n",
              "  </tbody>\n",
              "</table>\n",
              "<p>4215 rows × 2 columns</p>\n",
              "</div>"
            ],
            "text/plain": [
              "              only_author  total_rating\n",
              "3753         Stephen King        250.79\n",
              "3006       P.G. Wodehouse        187.31\n",
              "4161  William Shakespeare        178.45\n",
              "1603       J.R.R. Tolkien        172.22\n",
              "3536     Rumiko Takahashi        163.28\n",
              "...                   ...           ...\n",
              "146      Andrew      Hunt          0.00\n",
              "1654    James Craig Holte          0.00\n",
              "1751     Jasmine C.M. Luk          0.00\n",
              "935          Dobrica Erić          0.00\n",
              "3360         Rick Osborne          0.00\n",
              "\n",
              "[4215 rows x 2 columns]"
            ]
          },
          "metadata": {
            "tags": []
          },
          "execution_count": 17
        }
      ]
    },
    {
      "cell_type": "code",
      "metadata": {
        "colab": {
          "base_uri": "https://localhost:8080/",
          "height": 419
        },
        "id": "NQZiP9zsetyP",
        "outputId": "b1cc53c8-b743-4089-e3fd-acf72c42c83d"
      },
      "source": [
        "total_book = new_data.groupby(by=['only_author']).agg({'title': ['nunique']})\n",
        "total_book.columns = ['total_book']\n",
        "total_book.reset_index(inplace=True)\n",
        "total_book = total_book.sort_values(by=['total_book'], ascending=False)\n",
        "total_book"
      ],
      "execution_count": null,
      "outputs": [
        {
          "output_type": "execute_result",
          "data": {
            "text/html": [
              "<div>\n",
              "<style scoped>\n",
              "    .dataframe tbody tr th:only-of-type {\n",
              "        vertical-align: middle;\n",
              "    }\n",
              "\n",
              "    .dataframe tbody tr th {\n",
              "        vertical-align: top;\n",
              "    }\n",
              "\n",
              "    .dataframe thead th {\n",
              "        text-align: right;\n",
              "    }\n",
              "</style>\n",
              "<table border=\"1\" class=\"dataframe\">\n",
              "  <thead>\n",
              "    <tr style=\"text-align: right;\">\n",
              "      <th></th>\n",
              "      <th>only_author</th>\n",
              "      <th>total_book</th>\n",
              "    </tr>\n",
              "  </thead>\n",
              "  <tbody>\n",
              "    <tr>\n",
              "      <th>3753</th>\n",
              "      <td>Stephen King</td>\n",
              "      <td>63</td>\n",
              "    </tr>\n",
              "    <tr>\n",
              "      <th>4161</th>\n",
              "      <td>William Shakespeare</td>\n",
              "      <td>45</td>\n",
              "    </tr>\n",
              "    <tr>\n",
              "      <th>3006</th>\n",
              "      <td>P.G. Wodehouse</td>\n",
              "      <td>45</td>\n",
              "    </tr>\n",
              "    <tr>\n",
              "      <th>29</th>\n",
              "      <td>Agatha Christie</td>\n",
              "      <td>41</td>\n",
              "    </tr>\n",
              "    <tr>\n",
              "      <th>1603</th>\n",
              "      <td>J.R.R. Tolkien</td>\n",
              "      <td>41</td>\n",
              "    </tr>\n",
              "    <tr>\n",
              "      <th>...</th>\n",
              "      <td>...</td>\n",
              "      <td>...</td>\n",
              "    </tr>\n",
              "    <tr>\n",
              "      <th>1727</th>\n",
              "      <td>Jane Parker Resnick</td>\n",
              "      <td>1</td>\n",
              "    </tr>\n",
              "    <tr>\n",
              "      <th>1729</th>\n",
              "      <td>Jane Robins</td>\n",
              "      <td>1</td>\n",
              "    </tr>\n",
              "    <tr>\n",
              "      <th>1731</th>\n",
              "      <td>Jane Walmsley</td>\n",
              "      <td>1</td>\n",
              "    </tr>\n",
              "    <tr>\n",
              "      <th>1732</th>\n",
              "      <td>Jane Werner Watson</td>\n",
              "      <td>1</td>\n",
              "    </tr>\n",
              "    <tr>\n",
              "      <th>4214</th>\n",
              "      <td>Éric-Emmanuel Schmitt</td>\n",
              "      <td>1</td>\n",
              "    </tr>\n",
              "  </tbody>\n",
              "</table>\n",
              "<p>4215 rows × 2 columns</p>\n",
              "</div>"
            ],
            "text/plain": [
              "                only_author  total_book\n",
              "3753           Stephen King          63\n",
              "4161    William Shakespeare          45\n",
              "3006         P.G. Wodehouse          45\n",
              "29          Agatha Christie          41\n",
              "1603         J.R.R. Tolkien          41\n",
              "...                     ...         ...\n",
              "1727    Jane Parker Resnick           1\n",
              "1729            Jane Robins           1\n",
              "1731          Jane Walmsley           1\n",
              "1732     Jane Werner Watson           1\n",
              "4214  Éric-Emmanuel Schmitt           1\n",
              "\n",
              "[4215 rows x 2 columns]"
            ]
          },
          "metadata": {
            "tags": []
          },
          "execution_count": 13
        }
      ]
    },
    {
      "cell_type": "code",
      "metadata": {
        "colab": {
          "base_uri": "https://localhost:8080/",
          "height": 669
        },
        "id": "T-7uFe40exKe",
        "outputId": "2f4582e7-4da6-4578-af91-5ee62fc3fe90"
      },
      "source": [
        "avg_author = pd.merge(total_book, total_rating, on='only_author', how='outer')\n",
        "avg_author['average_rating'] = round(avg_author['total_rating'] / avg_author['total_book'], 2)\n",
        "avg_author = avg_author[avg_author['total_book'] > 26]\n",
        "avg_author = avg_author.sort_values(by=['average_rating'], ascending=False)\n",
        "avg_author"
      ],
      "execution_count": null,
      "outputs": [
        {
          "output_type": "execute_result",
          "data": {
            "text/html": [
              "<div>\n",
              "<style scoped>\n",
              "    .dataframe tbody tr th:only-of-type {\n",
              "        vertical-align: middle;\n",
              "    }\n",
              "\n",
              "    .dataframe tbody tr th {\n",
              "        vertical-align: top;\n",
              "    }\n",
              "\n",
              "    .dataframe thead th {\n",
              "        text-align: right;\n",
              "    }\n",
              "</style>\n",
              "<table border=\"1\" class=\"dataframe\">\n",
              "  <thead>\n",
              "    <tr style=\"text-align: right;\">\n",
              "      <th></th>\n",
              "      <th>only_author</th>\n",
              "      <th>total_book</th>\n",
              "      <th>total_rating</th>\n",
              "      <th>average_rating</th>\n",
              "    </tr>\n",
              "  </thead>\n",
              "  <tbody>\n",
              "    <tr>\n",
              "      <th>4</th>\n",
              "      <td>J.R.R. Tolkien</td>\n",
              "      <td>41</td>\n",
              "      <td>172.22</td>\n",
              "      <td>4.20</td>\n",
              "    </tr>\n",
              "    <tr>\n",
              "      <th>7</th>\n",
              "      <td>Rumiko Takahashi</td>\n",
              "      <td>39</td>\n",
              "      <td>163.28</td>\n",
              "      <td>4.19</td>\n",
              "    </tr>\n",
              "    <tr>\n",
              "      <th>11</th>\n",
              "      <td>C.S. Lewis</td>\n",
              "      <td>32</td>\n",
              "      <td>134.02</td>\n",
              "      <td>4.19</td>\n",
              "    </tr>\n",
              "    <tr>\n",
              "      <th>2</th>\n",
              "      <td>P.G. Wodehouse</td>\n",
              "      <td>45</td>\n",
              "      <td>187.31</td>\n",
              "      <td>4.16</td>\n",
              "    </tr>\n",
              "    <tr>\n",
              "      <th>12</th>\n",
              "      <td>Terry Pratchett</td>\n",
              "      <td>31</td>\n",
              "      <td>127.55</td>\n",
              "      <td>4.11</td>\n",
              "    </tr>\n",
              "    <tr>\n",
              "      <th>9</th>\n",
              "      <td>Roald Dahl</td>\n",
              "      <td>35</td>\n",
              "      <td>141.66</td>\n",
              "      <td>4.05</td>\n",
              "    </tr>\n",
              "    <tr>\n",
              "      <th>6</th>\n",
              "      <td>Mercedes Lackey</td>\n",
              "      <td>40</td>\n",
              "      <td>160.11</td>\n",
              "      <td>4.00</td>\n",
              "    </tr>\n",
              "    <tr>\n",
              "      <th>18</th>\n",
              "      <td>Mark Twain</td>\n",
              "      <td>27</td>\n",
              "      <td>107.68</td>\n",
              "      <td>3.99</td>\n",
              "    </tr>\n",
              "    <tr>\n",
              "      <th>0</th>\n",
              "      <td>Stephen King</td>\n",
              "      <td>63</td>\n",
              "      <td>250.79</td>\n",
              "      <td>3.98</td>\n",
              "    </tr>\n",
              "    <tr>\n",
              "      <th>1</th>\n",
              "      <td>William Shakespeare</td>\n",
              "      <td>45</td>\n",
              "      <td>178.45</td>\n",
              "      <td>3.97</td>\n",
              "    </tr>\n",
              "    <tr>\n",
              "      <th>17</th>\n",
              "      <td>Dean Koontz</td>\n",
              "      <td>27</td>\n",
              "      <td>107.07</td>\n",
              "      <td>3.97</td>\n",
              "    </tr>\n",
              "    <tr>\n",
              "      <th>15</th>\n",
              "      <td>Dick Francis</td>\n",
              "      <td>29</td>\n",
              "      <td>114.73</td>\n",
              "      <td>3.96</td>\n",
              "    </tr>\n",
              "    <tr>\n",
              "      <th>3</th>\n",
              "      <td>Agatha Christie</td>\n",
              "      <td>41</td>\n",
              "      <td>161.82</td>\n",
              "      <td>3.95</td>\n",
              "    </tr>\n",
              "    <tr>\n",
              "      <th>16</th>\n",
              "      <td>Gabriel García Márquez</td>\n",
              "      <td>28</td>\n",
              "      <td>109.57</td>\n",
              "      <td>3.91</td>\n",
              "    </tr>\n",
              "    <tr>\n",
              "      <th>5</th>\n",
              "      <td>James Patterson</td>\n",
              "      <td>41</td>\n",
              "      <td>159.91</td>\n",
              "      <td>3.90</td>\n",
              "    </tr>\n",
              "    <tr>\n",
              "      <th>10</th>\n",
              "      <td>Margaret Weis</td>\n",
              "      <td>35</td>\n",
              "      <td>134.08</td>\n",
              "      <td>3.83</td>\n",
              "    </tr>\n",
              "    <tr>\n",
              "      <th>8</th>\n",
              "      <td>Orson Scott Card</td>\n",
              "      <td>38</td>\n",
              "      <td>144.22</td>\n",
              "      <td>3.80</td>\n",
              "    </tr>\n",
              "    <tr>\n",
              "      <th>13</th>\n",
              "      <td>Sandra Brown</td>\n",
              "      <td>30</td>\n",
              "      <td>112.50</td>\n",
              "      <td>3.75</td>\n",
              "    </tr>\n",
              "    <tr>\n",
              "      <th>14</th>\n",
              "      <td>Piers Anthony</td>\n",
              "      <td>30</td>\n",
              "      <td>111.50</td>\n",
              "      <td>3.72</td>\n",
              "    </tr>\n",
              "    <tr>\n",
              "      <th>19</th>\n",
              "      <td>Francine Pascal</td>\n",
              "      <td>27</td>\n",
              "      <td>99.05</td>\n",
              "      <td>3.67</td>\n",
              "    </tr>\n",
              "  </tbody>\n",
              "</table>\n",
              "</div>"
            ],
            "text/plain": [
              "               only_author  total_book  total_rating  average_rating\n",
              "4           J.R.R. Tolkien          41        172.22            4.20\n",
              "7         Rumiko Takahashi          39        163.28            4.19\n",
              "11              C.S. Lewis          32        134.02            4.19\n",
              "2           P.G. Wodehouse          45        187.31            4.16\n",
              "12         Terry Pratchett          31        127.55            4.11\n",
              "9               Roald Dahl          35        141.66            4.05\n",
              "6          Mercedes Lackey          40        160.11            4.00\n",
              "18              Mark Twain          27        107.68            3.99\n",
              "0             Stephen King          63        250.79            3.98\n",
              "1      William Shakespeare          45        178.45            3.97\n",
              "17             Dean Koontz          27        107.07            3.97\n",
              "15            Dick Francis          29        114.73            3.96\n",
              "3          Agatha Christie          41        161.82            3.95\n",
              "16  Gabriel García Márquez          28        109.57            3.91\n",
              "5          James Patterson          41        159.91            3.90\n",
              "10           Margaret Weis          35        134.08            3.83\n",
              "8         Orson Scott Card          38        144.22            3.80\n",
              "13            Sandra Brown          30        112.50            3.75\n",
              "14           Piers Anthony          30        111.50            3.72\n",
              "19         Francine Pascal          27         99.05            3.67"
            ]
          },
          "metadata": {
            "tags": []
          },
          "execution_count": 18
        }
      ]
    },
    {
      "cell_type": "code",
      "metadata": {
        "colab": {
          "base_uri": "https://localhost:8080/",
          "height": 572
        },
        "id": "ap0NYqyje0xX",
        "outputId": "d0c23888-b554-423a-8c7e-818bf6647c9d"
      },
      "source": [
        "total_vote = new_data.drop_duplicates(subset=['only_author', 'title'], keep='first')\n",
        "total_vote.reset_index(inplace=True)\n",
        "total_vote = total_vote[['only_author', 'title', 'average_rating', 'ratings_count']]\n",
        "total_vote"
      ],
      "execution_count": null,
      "outputs": [
        {
          "output_type": "execute_result",
          "data": {
            "text/html": [
              "<div>\n",
              "<style scoped>\n",
              "    .dataframe tbody tr th:only-of-type {\n",
              "        vertical-align: middle;\n",
              "    }\n",
              "\n",
              "    .dataframe tbody tr th {\n",
              "        vertical-align: top;\n",
              "    }\n",
              "\n",
              "    .dataframe thead th {\n",
              "        text-align: right;\n",
              "    }\n",
              "</style>\n",
              "<table border=\"1\" class=\"dataframe\">\n",
              "  <thead>\n",
              "    <tr style=\"text-align: right;\">\n",
              "      <th></th>\n",
              "      <th>only_author</th>\n",
              "      <th>title</th>\n",
              "      <th>average_rating</th>\n",
              "      <th>ratings_count</th>\n",
              "    </tr>\n",
              "  </thead>\n",
              "  <tbody>\n",
              "    <tr>\n",
              "      <th>0</th>\n",
              "      <td>J.K. Rowling</td>\n",
              "      <td>Harry Potter and the Half-Blood Prince (Harry ...</td>\n",
              "      <td>4.57</td>\n",
              "      <td>2095690</td>\n",
              "    </tr>\n",
              "    <tr>\n",
              "      <th>1</th>\n",
              "      <td>J.K. Rowling</td>\n",
              "      <td>Harry Potter and the Order of the Phoenix (Har...</td>\n",
              "      <td>4.49</td>\n",
              "      <td>2153167</td>\n",
              "    </tr>\n",
              "    <tr>\n",
              "      <th>2</th>\n",
              "      <td>J.K. Rowling</td>\n",
              "      <td>Harry Potter and the Chamber of Secrets (Harry...</td>\n",
              "      <td>4.42</td>\n",
              "      <td>6333</td>\n",
              "    </tr>\n",
              "    <tr>\n",
              "      <th>3</th>\n",
              "      <td>J.K. Rowling</td>\n",
              "      <td>Harry Potter and the Prisoner of Azkaban (Harr...</td>\n",
              "      <td>4.56</td>\n",
              "      <td>2339585</td>\n",
              "    </tr>\n",
              "    <tr>\n",
              "      <th>4</th>\n",
              "      <td>J.K. Rowling</td>\n",
              "      <td>Harry Potter Boxed Set  Books 1-5 (Harry Potte...</td>\n",
              "      <td>4.78</td>\n",
              "      <td>41428</td>\n",
              "    </tr>\n",
              "    <tr>\n",
              "      <th>...</th>\n",
              "      <td>...</td>\n",
              "      <td>...</td>\n",
              "      <td>...</td>\n",
              "      <td>...</td>\n",
              "    </tr>\n",
              "    <tr>\n",
              "      <th>10416</th>\n",
              "      <td>William T. Vollmann</td>\n",
              "      <td>Expelled from Eden: A William T. Vollmann Reader</td>\n",
              "      <td>4.06</td>\n",
              "      <td>156</td>\n",
              "    </tr>\n",
              "    <tr>\n",
              "      <th>10417</th>\n",
              "      <td>William T. Vollmann</td>\n",
              "      <td>You Bright and Risen Angels</td>\n",
              "      <td>4.08</td>\n",
              "      <td>783</td>\n",
              "    </tr>\n",
              "    <tr>\n",
              "      <th>10418</th>\n",
              "      <td>William T. Vollmann</td>\n",
              "      <td>The Ice-Shirt (Seven Dreams #1)</td>\n",
              "      <td>3.96</td>\n",
              "      <td>820</td>\n",
              "    </tr>\n",
              "    <tr>\n",
              "      <th>10419</th>\n",
              "      <td>William T. Vollmann</td>\n",
              "      <td>Poor People</td>\n",
              "      <td>3.72</td>\n",
              "      <td>769</td>\n",
              "    </tr>\n",
              "    <tr>\n",
              "      <th>10420</th>\n",
              "      <td>Mark Twain</td>\n",
              "      <td>Las aventuras de Tom Sawyer</td>\n",
              "      <td>3.91</td>\n",
              "      <td>113</td>\n",
              "    </tr>\n",
              "  </tbody>\n",
              "</table>\n",
              "<p>10421 rows × 4 columns</p>\n",
              "</div>"
            ],
            "text/plain": [
              "               only_author  ... ratings_count\n",
              "0             J.K. Rowling  ...       2095690\n",
              "1             J.K. Rowling  ...       2153167\n",
              "2             J.K. Rowling  ...          6333\n",
              "3             J.K. Rowling  ...       2339585\n",
              "4             J.K. Rowling  ...         41428\n",
              "...                    ...  ...           ...\n",
              "10416  William T. Vollmann  ...           156\n",
              "10417  William T. Vollmann  ...           783\n",
              "10418  William T. Vollmann  ...           820\n",
              "10419  William T. Vollmann  ...           769\n",
              "10420           Mark Twain  ...           113\n",
              "\n",
              "[10421 rows x 4 columns]"
            ]
          },
          "metadata": {
            "tags": []
          },
          "execution_count": 19
        }
      ]
    },
    {
      "cell_type": "code",
      "metadata": {
        "colab": {
          "base_uri": "https://localhost:8080/",
          "height": 289
        },
        "id": "Z3K_NwWSe0pB",
        "outputId": "c59bcfe7-00ec-4697-b66f-df1678d762fc"
      },
      "source": [
        "C = total_vote.average_rating.mean()\n",
        "m = total_vote.ratings_count.quantile(0.9)\n",
        "total_vote = total_vote[total_vote['ratings_count'] >= m]\n",
        "total_vote.head()"
      ],
      "execution_count": null,
      "outputs": [
        {
          "output_type": "execute_result",
          "data": {
            "text/html": [
              "<div>\n",
              "<style scoped>\n",
              "    .dataframe tbody tr th:only-of-type {\n",
              "        vertical-align: middle;\n",
              "    }\n",
              "\n",
              "    .dataframe tbody tr th {\n",
              "        vertical-align: top;\n",
              "    }\n",
              "\n",
              "    .dataframe thead th {\n",
              "        text-align: right;\n",
              "    }\n",
              "</style>\n",
              "<table border=\"1\" class=\"dataframe\">\n",
              "  <thead>\n",
              "    <tr style=\"text-align: right;\">\n",
              "      <th></th>\n",
              "      <th>only_author</th>\n",
              "      <th>title</th>\n",
              "      <th>average_rating</th>\n",
              "      <th>ratings_count</th>\n",
              "    </tr>\n",
              "  </thead>\n",
              "  <tbody>\n",
              "    <tr>\n",
              "      <th>0</th>\n",
              "      <td>J.K. Rowling</td>\n",
              "      <td>Harry Potter and the Half-Blood Prince (Harry ...</td>\n",
              "      <td>4.57</td>\n",
              "      <td>2095690</td>\n",
              "    </tr>\n",
              "    <tr>\n",
              "      <th>1</th>\n",
              "      <td>J.K. Rowling</td>\n",
              "      <td>Harry Potter and the Order of the Phoenix (Har...</td>\n",
              "      <td>4.49</td>\n",
              "      <td>2153167</td>\n",
              "    </tr>\n",
              "    <tr>\n",
              "      <th>3</th>\n",
              "      <td>J.K. Rowling</td>\n",
              "      <td>Harry Potter and the Prisoner of Azkaban (Harr...</td>\n",
              "      <td>4.56</td>\n",
              "      <td>2339585</td>\n",
              "    </tr>\n",
              "    <tr>\n",
              "      <th>4</th>\n",
              "      <td>J.K. Rowling</td>\n",
              "      <td>Harry Potter Boxed Set  Books 1-5 (Harry Potte...</td>\n",
              "      <td>4.78</td>\n",
              "      <td>41428</td>\n",
              "    </tr>\n",
              "    <tr>\n",
              "      <th>6</th>\n",
              "      <td>J.K. Rowling</td>\n",
              "      <td>Harry Potter Collection (Harry Potter  #1-6)</td>\n",
              "      <td>4.73</td>\n",
              "      <td>28242</td>\n",
              "    </tr>\n",
              "  </tbody>\n",
              "</table>\n",
              "</div>"
            ],
            "text/plain": [
              "    only_author  ... ratings_count\n",
              "0  J.K. Rowling  ...       2095690\n",
              "1  J.K. Rowling  ...       2153167\n",
              "3  J.K. Rowling  ...       2339585\n",
              "4  J.K. Rowling  ...         41428\n",
              "6  J.K. Rowling  ...         28242\n",
              "\n",
              "[5 rows x 4 columns]"
            ]
          },
          "metadata": {
            "tags": []
          },
          "execution_count": 20
        }
      ]
    },
    {
      "cell_type": "code",
      "metadata": {
        "id": "6gVboLR6fIP5"
      },
      "source": [
        "def weighted_rating(x, m=m, C=C):\n",
        "    v = x['ratings_count']\n",
        "    R = x['average_rating']\n",
        "    return (v/(v+m) * R) + (m/(m+v) * C)"
      ],
      "execution_count": null,
      "outputs": []
    },
    {
      "cell_type": "code",
      "metadata": {
        "colab": {
          "base_uri": "https://localhost:8080/",
          "height": 1000
        },
        "id": "9DfL6918fMDZ",
        "outputId": "c8d00567-9b09-4d73-e7c9-efbd0e91aafe"
      },
      "source": [
        "total_vote['score'] = total_vote.apply(weighted_rating, axis=1)\n",
        "total_vote = total_vote.sort_values(by='score', ascending=False).head(20)\n",
        "total_vote"
      ],
      "execution_count": null,
      "outputs": [
        {
          "output_type": "stream",
          "text": [
            "/usr/local/lib/python3.7/dist-packages/ipykernel_launcher.py:1: SettingWithCopyWarning: \n",
            "A value is trying to be set on a copy of a slice from a DataFrame.\n",
            "Try using .loc[row_indexer,col_indexer] = value instead\n",
            "\n",
            "See the caveats in the documentation: https://pandas.pydata.org/pandas-docs/stable/user_guide/indexing.html#returning-a-view-versus-a-copy\n",
            "  \"\"\"Entry point for launching an IPython kernel.\n"
          ],
          "name": "stderr"
        },
        {
          "output_type": "execute_result",
          "data": {
            "text/html": [
              "<div>\n",
              "<style scoped>\n",
              "    .dataframe tbody tr th:only-of-type {\n",
              "        vertical-align: middle;\n",
              "    }\n",
              "\n",
              "    .dataframe tbody tr th {\n",
              "        vertical-align: top;\n",
              "    }\n",
              "\n",
              "    .dataframe thead th {\n",
              "        text-align: right;\n",
              "    }\n",
              "</style>\n",
              "<table border=\"1\" class=\"dataframe\">\n",
              "  <thead>\n",
              "    <tr style=\"text-align: right;\">\n",
              "      <th></th>\n",
              "      <th>only_author</th>\n",
              "      <th>title</th>\n",
              "      <th>average_rating</th>\n",
              "      <th>ratings_count</th>\n",
              "      <th>score</th>\n",
              "    </tr>\n",
              "  </thead>\n",
              "  <tbody>\n",
              "    <tr>\n",
              "      <th>0</th>\n",
              "      <td>J.K. Rowling</td>\n",
              "      <td>Harry Potter and the Half-Blood Prince (Harry ...</td>\n",
              "      <td>4.57</td>\n",
              "      <td>2095690</td>\n",
              "      <td>4.562503</td>\n",
              "    </tr>\n",
              "    <tr>\n",
              "      <th>3</th>\n",
              "      <td>J.K. Rowling</td>\n",
              "      <td>Harry Potter and the Prisoner of Azkaban (Harr...</td>\n",
              "      <td>4.56</td>\n",
              "      <td>2339585</td>\n",
              "      <td>4.553382</td>\n",
              "    </tr>\n",
              "    <tr>\n",
              "      <th>1</th>\n",
              "      <td>J.K. Rowling</td>\n",
              "      <td>Harry Potter and the Order of the Phoenix (Har...</td>\n",
              "      <td>4.49</td>\n",
              "      <td>2153167</td>\n",
              "      <td>4.483618</td>\n",
              "    </tr>\n",
              "    <tr>\n",
              "      <th>4</th>\n",
              "      <td>J.K. Rowling</td>\n",
              "      <td>Harry Potter Boxed Set  Books 1-5 (Harry Potte...</td>\n",
              "      <td>4.78</td>\n",
              "      <td>41428</td>\n",
              "      <td>4.461588</td>\n",
              "    </tr>\n",
              "    <tr>\n",
              "      <th>20</th>\n",
              "      <td>J.R.R. Tolkien</td>\n",
              "      <td>J.R.R. Tolkien 4-Book Boxed Set: The Hobbit an...</td>\n",
              "      <td>4.59</td>\n",
              "      <td>101233</td>\n",
              "      <td>4.460070</td>\n",
              "    </tr>\n",
              "    <tr>\n",
              "      <th>3955</th>\n",
              "      <td>Art Spiegelman</td>\n",
              "      <td>The Complete Maus</td>\n",
              "      <td>4.55</td>\n",
              "      <td>111475</td>\n",
              "      <td>4.437142</td>\n",
              "    </tr>\n",
              "    <tr>\n",
              "      <th>6137</th>\n",
              "      <td>Bill Watterson</td>\n",
              "      <td>The Complete Calvin and Hobbes</td>\n",
              "      <td>4.82</td>\n",
              "      <td>32213</td>\n",
              "      <td>4.432808</td>\n",
              "    </tr>\n",
              "    <tr>\n",
              "      <th>3965</th>\n",
              "      <td>J.R.R. Tolkien</td>\n",
              "      <td>The Two Towers (The Lord of the Rings  #2)</td>\n",
              "      <td>4.44</td>\n",
              "      <td>593467</td>\n",
              "      <td>4.419542</td>\n",
              "    </tr>\n",
              "    <tr>\n",
              "      <th>269</th>\n",
              "      <td>Hiromu Arakawa</td>\n",
              "      <td>Fullmetal Alchemist  Vol. 1 (Fullmetal Alchemi...</td>\n",
              "      <td>4.50</td>\n",
              "      <td>111091</td>\n",
              "      <td>4.395999</td>\n",
              "    </tr>\n",
              "    <tr>\n",
              "      <th>6138</th>\n",
              "      <td>Bill Watterson</td>\n",
              "      <td>The Calvin and Hobbes Tenth Anniversary Book</td>\n",
              "      <td>4.63</td>\n",
              "      <td>49122</td>\n",
              "      <td>4.395203</td>\n",
              "    </tr>\n",
              "    <tr>\n",
              "      <th>2651</th>\n",
              "      <td>George R.R. Martin</td>\n",
              "      <td>A Clash of Kings  (A Song of Ice and Fire  #2)</td>\n",
              "      <td>4.41</td>\n",
              "      <td>638766</td>\n",
              "      <td>4.392066</td>\n",
              "    </tr>\n",
              "    <tr>\n",
              "      <th>2937</th>\n",
              "      <td>Stephen King</td>\n",
              "      <td>The Green Mile</td>\n",
              "      <td>4.44</td>\n",
              "      <td>207869</td>\n",
              "      <td>4.385661</td>\n",
              "    </tr>\n",
              "    <tr>\n",
              "      <th>9863</th>\n",
              "      <td>J.R. Ward</td>\n",
              "      <td>Lover Awakened (Black Dagger Brotherhood  #3)</td>\n",
              "      <td>4.45</td>\n",
              "      <td>144906</td>\n",
              "      <td>4.374050</td>\n",
              "    </tr>\n",
              "    <tr>\n",
              "      <th>3527</th>\n",
              "      <td>Tsugumi Ohba</td>\n",
              "      <td>Death Note  Vol. 1: Boredom (Death Note  #1)</td>\n",
              "      <td>4.43</td>\n",
              "      <td>174482</td>\n",
              "      <td>4.367816</td>\n",
              "    </tr>\n",
              "    <tr>\n",
              "      <th>4896</th>\n",
              "      <td>Markus Zusak</td>\n",
              "      <td>The Book Thief</td>\n",
              "      <td>4.37</td>\n",
              "      <td>1516367</td>\n",
              "      <td>4.362925</td>\n",
              "    </tr>\n",
              "    <tr>\n",
              "      <th>6</th>\n",
              "      <td>J.K. Rowling</td>\n",
              "      <td>Harry Potter Collection (Harry Potter  #1-6)</td>\n",
              "      <td>4.73</td>\n",
              "      <td>28242</td>\n",
              "      <td>4.356142</td>\n",
              "    </tr>\n",
              "    <tr>\n",
              "      <th>22</th>\n",
              "      <td>J.R.R. Tolkien</td>\n",
              "      <td>The Fellowship of the Ring (The Lord of the Ri...</td>\n",
              "      <td>4.36</td>\n",
              "      <td>2128944</td>\n",
              "      <td>4.355053</td>\n",
              "    </tr>\n",
              "    <tr>\n",
              "      <th>10153</th>\n",
              "      <td>Jon Stone</td>\n",
              "      <td>The Monster at the End of this Book</td>\n",
              "      <td>4.44</td>\n",
              "      <td>114297</td>\n",
              "      <td>4.349150</td>\n",
              "    </tr>\n",
              "    <tr>\n",
              "      <th>2762</th>\n",
              "      <td>Diana Gabaldon</td>\n",
              "      <td>A Breath of Snow and Ashes (Outlander  #6)</td>\n",
              "      <td>4.44</td>\n",
              "      <td>105950</td>\n",
              "      <td>4.343357</td>\n",
              "    </tr>\n",
              "    <tr>\n",
              "      <th>6238</th>\n",
              "      <td>Neil Gaiman</td>\n",
              "      <td>Season of Mists (The Sandman  #4)</td>\n",
              "      <td>4.54</td>\n",
              "      <td>50951</td>\n",
              "      <td>4.340458</td>\n",
              "    </tr>\n",
              "  </tbody>\n",
              "</table>\n",
              "</div>"
            ],
            "text/plain": [
              "              only_author  ...     score\n",
              "0            J.K. Rowling  ...  4.562503\n",
              "3            J.K. Rowling  ...  4.553382\n",
              "1            J.K. Rowling  ...  4.483618\n",
              "4            J.K. Rowling  ...  4.461588\n",
              "20         J.R.R. Tolkien  ...  4.460070\n",
              "3955       Art Spiegelman  ...  4.437142\n",
              "6137       Bill Watterson  ...  4.432808\n",
              "3965       J.R.R. Tolkien  ...  4.419542\n",
              "269        Hiromu Arakawa  ...  4.395999\n",
              "6138       Bill Watterson  ...  4.395203\n",
              "2651   George R.R. Martin  ...  4.392066\n",
              "2937         Stephen King  ...  4.385661\n",
              "9863            J.R. Ward  ...  4.374050\n",
              "3527         Tsugumi Ohba  ...  4.367816\n",
              "4896         Markus Zusak  ...  4.362925\n",
              "6            J.K. Rowling  ...  4.356142\n",
              "22         J.R.R. Tolkien  ...  4.355053\n",
              "10153           Jon Stone  ...  4.349150\n",
              "2762       Diana Gabaldon  ...  4.343357\n",
              "6238          Neil Gaiman  ...  4.340458\n",
              "\n",
              "[20 rows x 5 columns]"
            ]
          },
          "metadata": {
            "tags": []
          },
          "execution_count": 22
        }
      ]
    },
    {
      "cell_type": "code",
      "metadata": {
        "id": "vyx3k_wCfcdS"
      },
      "source": [
        "top_pages = data.sort_values(by='  num_pages', ascending=False).head(20)"
      ],
      "execution_count": null,
      "outputs": []
    },
    {
      "cell_type": "code",
      "metadata": {
        "id": "ftxXUfCiffPd"
      },
      "source": [
        "title_value = data.title.unique()"
      ],
      "execution_count": null,
      "outputs": []
    },
    {
      "cell_type": "code",
      "metadata": {
        "colab": {
          "base_uri": "https://localhost:8080/",
          "height": 352
        },
        "id": "UJwGThR9f1Qd",
        "outputId": "6e3fbc41-4e76-41bd-e548-0704ccc87784"
      },
      "source": [
        "new_data.loc[ (new_data['average_rating'] >= 0) & (new_data['average_rating'] <= 1), 'rating_between'] = \"between_0_to_1\"\n",
        "new_data.loc[ (new_data['average_rating'] > 1) & (new_data['average_rating'] <= 2), 'rating_between'] = \"between_1_to_2\"\n",
        "new_data.loc[ (new_data['average_rating'] > 2) & (new_data['average_rating'] <= 3), 'rating_between'] = \"between_2_to_3\"\n",
        "new_data.loc[ (new_data['average_rating'] > 3) & (new_data['average_rating'] <= 4), 'rating_between'] = \"between_3_to_4\"\n",
        "new_data.loc[ (new_data['average_rating'] > 4) & (new_data['average_rating'] <= 5), 'rating_between'] = \"between_4_to_5\"\n",
        "new_data.head(2)"
      ],
      "execution_count": null,
      "outputs": [
        {
          "output_type": "execute_result",
          "data": {
            "text/html": [
              "<div>\n",
              "<style scoped>\n",
              "    .dataframe tbody tr th:only-of-type {\n",
              "        vertical-align: middle;\n",
              "    }\n",
              "\n",
              "    .dataframe tbody tr th {\n",
              "        vertical-align: top;\n",
              "    }\n",
              "\n",
              "    .dataframe thead th {\n",
              "        text-align: right;\n",
              "    }\n",
              "</style>\n",
              "<table border=\"1\" class=\"dataframe\">\n",
              "  <thead>\n",
              "    <tr style=\"text-align: right;\">\n",
              "      <th></th>\n",
              "      <th>bookID</th>\n",
              "      <th>title</th>\n",
              "      <th>authors</th>\n",
              "      <th>average_rating</th>\n",
              "      <th>isbn</th>\n",
              "      <th>isbn13</th>\n",
              "      <th>language_code</th>\n",
              "      <th>num_pages</th>\n",
              "      <th>ratings_count</th>\n",
              "      <th>text_reviews_count</th>\n",
              "      <th>publication_date</th>\n",
              "      <th>publisher</th>\n",
              "      <th>only_author</th>\n",
              "      <th>rating_between</th>\n",
              "    </tr>\n",
              "  </thead>\n",
              "  <tbody>\n",
              "    <tr>\n",
              "      <th>0</th>\n",
              "      <td>1</td>\n",
              "      <td>Harry Potter and the Half-Blood Prince (Harry ...</td>\n",
              "      <td>J.K. Rowling/Mary GrandPré</td>\n",
              "      <td>4.57</td>\n",
              "      <td>0439785960</td>\n",
              "      <td>9780439785969</td>\n",
              "      <td>eng</td>\n",
              "      <td>652</td>\n",
              "      <td>2095690</td>\n",
              "      <td>27591</td>\n",
              "      <td>9/16/2006</td>\n",
              "      <td>Scholastic Inc.</td>\n",
              "      <td>J.K. Rowling</td>\n",
              "      <td>between_4_to_5</td>\n",
              "    </tr>\n",
              "    <tr>\n",
              "      <th>1</th>\n",
              "      <td>2</td>\n",
              "      <td>Harry Potter and the Order of the Phoenix (Har...</td>\n",
              "      <td>J.K. Rowling/Mary GrandPré</td>\n",
              "      <td>4.49</td>\n",
              "      <td>0439358078</td>\n",
              "      <td>9780439358071</td>\n",
              "      <td>eng</td>\n",
              "      <td>870</td>\n",
              "      <td>2153167</td>\n",
              "      <td>29221</td>\n",
              "      <td>9/1/2004</td>\n",
              "      <td>Scholastic Inc.</td>\n",
              "      <td>J.K. Rowling</td>\n",
              "      <td>between_4_to_5</td>\n",
              "    </tr>\n",
              "  </tbody>\n",
              "</table>\n",
              "</div>"
            ],
            "text/plain": [
              "   bookID  ...  rating_between\n",
              "0       1  ...  between_4_to_5\n",
              "1       2  ...  between_4_to_5\n",
              "\n",
              "[2 rows x 14 columns]"
            ]
          },
          "metadata": {
            "tags": []
          },
          "execution_count": 25
        }
      ]
    },
    {
      "cell_type": "code",
      "metadata": {
        "colab": {
          "base_uri": "https://localhost:8080/"
        },
        "id": "BX0gHnIQf9fP",
        "outputId": "1c4bbf7c-aa3f-4516-ad1c-f20d1d907f15"
      },
      "source": [
        "trial = new_data[['average_rating', 'ratings_count']]\n",
        "data_model = np.asarray([np.asarray(trial['average_rating']), np.asarray(trial['ratings_count'])]).T\n",
        "data_model"
      ],
      "execution_count": null,
      "outputs": [
        {
          "output_type": "execute_result",
          "data": {
            "text/plain": [
              "array([[4.570000e+00, 2.095690e+06],\n",
              "       [4.490000e+00, 2.153167e+06],\n",
              "       [4.420000e+00, 6.333000e+03],\n",
              "       ...,\n",
              "       [3.960000e+00, 8.200000e+02],\n",
              "       [3.720000e+00, 7.690000e+02],\n",
              "       [3.910000e+00, 1.130000e+02]])"
            ]
          },
          "metadata": {
            "tags": []
          },
          "execution_count": 26
        }
      ]
    },
    {
      "cell_type": "code",
      "metadata": {
        "colab": {
          "base_uri": "https://localhost:8080/",
          "height": 224
        },
        "id": "9b89mw2BgCT_",
        "outputId": "a3c1b74d-aa98-450a-9428-ab736d1601fc"
      },
      "source": [
        "rating_between_df = new_data['rating_between'].str.get_dummies(sep=\",\")\n",
        "rating_between_df.head()\n"
      ],
      "execution_count": null,
      "outputs": [
        {
          "output_type": "execute_result",
          "data": {
            "text/html": [
              "<div>\n",
              "<style scoped>\n",
              "    .dataframe tbody tr th:only-of-type {\n",
              "        vertical-align: middle;\n",
              "    }\n",
              "\n",
              "    .dataframe tbody tr th {\n",
              "        vertical-align: top;\n",
              "    }\n",
              "\n",
              "    .dataframe thead th {\n",
              "        text-align: right;\n",
              "    }\n",
              "</style>\n",
              "<table border=\"1\" class=\"dataframe\">\n",
              "  <thead>\n",
              "    <tr style=\"text-align: right;\">\n",
              "      <th></th>\n",
              "      <th>between_0_to_1</th>\n",
              "      <th>between_1_to_2</th>\n",
              "      <th>between_2_to_3</th>\n",
              "      <th>between_3_to_4</th>\n",
              "      <th>between_4_to_5</th>\n",
              "    </tr>\n",
              "  </thead>\n",
              "  <tbody>\n",
              "    <tr>\n",
              "      <th>0</th>\n",
              "      <td>0</td>\n",
              "      <td>0</td>\n",
              "      <td>0</td>\n",
              "      <td>0</td>\n",
              "      <td>1</td>\n",
              "    </tr>\n",
              "    <tr>\n",
              "      <th>1</th>\n",
              "      <td>0</td>\n",
              "      <td>0</td>\n",
              "      <td>0</td>\n",
              "      <td>0</td>\n",
              "      <td>1</td>\n",
              "    </tr>\n",
              "    <tr>\n",
              "      <th>2</th>\n",
              "      <td>0</td>\n",
              "      <td>0</td>\n",
              "      <td>0</td>\n",
              "      <td>0</td>\n",
              "      <td>1</td>\n",
              "    </tr>\n",
              "    <tr>\n",
              "      <th>3</th>\n",
              "      <td>0</td>\n",
              "      <td>0</td>\n",
              "      <td>0</td>\n",
              "      <td>0</td>\n",
              "      <td>1</td>\n",
              "    </tr>\n",
              "    <tr>\n",
              "      <th>4</th>\n",
              "      <td>0</td>\n",
              "      <td>0</td>\n",
              "      <td>0</td>\n",
              "      <td>0</td>\n",
              "      <td>1</td>\n",
              "    </tr>\n",
              "  </tbody>\n",
              "</table>\n",
              "</div>"
            ],
            "text/plain": [
              "   between_0_to_1  between_1_to_2  ...  between_3_to_4  between_4_to_5\n",
              "0               0               0  ...               0               1\n",
              "1               0               0  ...               0               1\n",
              "2               0               0  ...               0               1\n",
              "3               0               0  ...               0               1\n",
              "4               0               0  ...               0               1\n",
              "\n",
              "[5 rows x 5 columns]"
            ]
          },
          "metadata": {
            "tags": []
          },
          "execution_count": 27
        }
      ]
    },
    {
      "cell_type": "code",
      "metadata": {
        "colab": {
          "base_uri": "https://localhost:8080/",
          "height": 241
        },
        "id": "xCoj7I3dgJ10",
        "outputId": "68fe28e3-5747-45eb-b37c-ae8c6b32c841"
      },
      "source": [
        "lang_df = new_data['language_code'].str.get_dummies(sep=\",\")\n",
        "lang_df.head()"
      ],
      "execution_count": null,
      "outputs": [
        {
          "output_type": "execute_result",
          "data": {
            "text/html": [
              "<div>\n",
              "<style scoped>\n",
              "    .dataframe tbody tr th:only-of-type {\n",
              "        vertical-align: middle;\n",
              "    }\n",
              "\n",
              "    .dataframe tbody tr th {\n",
              "        vertical-align: top;\n",
              "    }\n",
              "\n",
              "    .dataframe thead th {\n",
              "        text-align: right;\n",
              "    }\n",
              "</style>\n",
              "<table border=\"1\" class=\"dataframe\">\n",
              "  <thead>\n",
              "    <tr style=\"text-align: right;\">\n",
              "      <th></th>\n",
              "      <th>ale</th>\n",
              "      <th>ara</th>\n",
              "      <th>en-CA</th>\n",
              "      <th>en-GB</th>\n",
              "      <th>en-US</th>\n",
              "      <th>eng</th>\n",
              "      <th>enm</th>\n",
              "      <th>fre</th>\n",
              "      <th>ger</th>\n",
              "      <th>gla</th>\n",
              "      <th>glg</th>\n",
              "      <th>grc</th>\n",
              "      <th>ita</th>\n",
              "      <th>jpn</th>\n",
              "      <th>lat</th>\n",
              "      <th>msa</th>\n",
              "      <th>mul</th>\n",
              "      <th>nl</th>\n",
              "      <th>nor</th>\n",
              "      <th>por</th>\n",
              "      <th>rus</th>\n",
              "      <th>spa</th>\n",
              "      <th>srp</th>\n",
              "      <th>swe</th>\n",
              "      <th>tur</th>\n",
              "      <th>wel</th>\n",
              "      <th>zho</th>\n",
              "    </tr>\n",
              "  </thead>\n",
              "  <tbody>\n",
              "    <tr>\n",
              "      <th>0</th>\n",
              "      <td>0</td>\n",
              "      <td>0</td>\n",
              "      <td>0</td>\n",
              "      <td>0</td>\n",
              "      <td>0</td>\n",
              "      <td>1</td>\n",
              "      <td>0</td>\n",
              "      <td>0</td>\n",
              "      <td>0</td>\n",
              "      <td>0</td>\n",
              "      <td>0</td>\n",
              "      <td>0</td>\n",
              "      <td>0</td>\n",
              "      <td>0</td>\n",
              "      <td>0</td>\n",
              "      <td>0</td>\n",
              "      <td>0</td>\n",
              "      <td>0</td>\n",
              "      <td>0</td>\n",
              "      <td>0</td>\n",
              "      <td>0</td>\n",
              "      <td>0</td>\n",
              "      <td>0</td>\n",
              "      <td>0</td>\n",
              "      <td>0</td>\n",
              "      <td>0</td>\n",
              "      <td>0</td>\n",
              "    </tr>\n",
              "    <tr>\n",
              "      <th>1</th>\n",
              "      <td>0</td>\n",
              "      <td>0</td>\n",
              "      <td>0</td>\n",
              "      <td>0</td>\n",
              "      <td>0</td>\n",
              "      <td>1</td>\n",
              "      <td>0</td>\n",
              "      <td>0</td>\n",
              "      <td>0</td>\n",
              "      <td>0</td>\n",
              "      <td>0</td>\n",
              "      <td>0</td>\n",
              "      <td>0</td>\n",
              "      <td>0</td>\n",
              "      <td>0</td>\n",
              "      <td>0</td>\n",
              "      <td>0</td>\n",
              "      <td>0</td>\n",
              "      <td>0</td>\n",
              "      <td>0</td>\n",
              "      <td>0</td>\n",
              "      <td>0</td>\n",
              "      <td>0</td>\n",
              "      <td>0</td>\n",
              "      <td>0</td>\n",
              "      <td>0</td>\n",
              "      <td>0</td>\n",
              "    </tr>\n",
              "    <tr>\n",
              "      <th>2</th>\n",
              "      <td>0</td>\n",
              "      <td>0</td>\n",
              "      <td>0</td>\n",
              "      <td>0</td>\n",
              "      <td>0</td>\n",
              "      <td>1</td>\n",
              "      <td>0</td>\n",
              "      <td>0</td>\n",
              "      <td>0</td>\n",
              "      <td>0</td>\n",
              "      <td>0</td>\n",
              "      <td>0</td>\n",
              "      <td>0</td>\n",
              "      <td>0</td>\n",
              "      <td>0</td>\n",
              "      <td>0</td>\n",
              "      <td>0</td>\n",
              "      <td>0</td>\n",
              "      <td>0</td>\n",
              "      <td>0</td>\n",
              "      <td>0</td>\n",
              "      <td>0</td>\n",
              "      <td>0</td>\n",
              "      <td>0</td>\n",
              "      <td>0</td>\n",
              "      <td>0</td>\n",
              "      <td>0</td>\n",
              "    </tr>\n",
              "    <tr>\n",
              "      <th>3</th>\n",
              "      <td>0</td>\n",
              "      <td>0</td>\n",
              "      <td>0</td>\n",
              "      <td>0</td>\n",
              "      <td>0</td>\n",
              "      <td>1</td>\n",
              "      <td>0</td>\n",
              "      <td>0</td>\n",
              "      <td>0</td>\n",
              "      <td>0</td>\n",
              "      <td>0</td>\n",
              "      <td>0</td>\n",
              "      <td>0</td>\n",
              "      <td>0</td>\n",
              "      <td>0</td>\n",
              "      <td>0</td>\n",
              "      <td>0</td>\n",
              "      <td>0</td>\n",
              "      <td>0</td>\n",
              "      <td>0</td>\n",
              "      <td>0</td>\n",
              "      <td>0</td>\n",
              "      <td>0</td>\n",
              "      <td>0</td>\n",
              "      <td>0</td>\n",
              "      <td>0</td>\n",
              "      <td>0</td>\n",
              "    </tr>\n",
              "    <tr>\n",
              "      <th>4</th>\n",
              "      <td>0</td>\n",
              "      <td>0</td>\n",
              "      <td>0</td>\n",
              "      <td>0</td>\n",
              "      <td>0</td>\n",
              "      <td>1</td>\n",
              "      <td>0</td>\n",
              "      <td>0</td>\n",
              "      <td>0</td>\n",
              "      <td>0</td>\n",
              "      <td>0</td>\n",
              "      <td>0</td>\n",
              "      <td>0</td>\n",
              "      <td>0</td>\n",
              "      <td>0</td>\n",
              "      <td>0</td>\n",
              "      <td>0</td>\n",
              "      <td>0</td>\n",
              "      <td>0</td>\n",
              "      <td>0</td>\n",
              "      <td>0</td>\n",
              "      <td>0</td>\n",
              "      <td>0</td>\n",
              "      <td>0</td>\n",
              "      <td>0</td>\n",
              "      <td>0</td>\n",
              "      <td>0</td>\n",
              "    </tr>\n",
              "  </tbody>\n",
              "</table>\n",
              "</div>"
            ],
            "text/plain": [
              "   ale  ara  en-CA  en-GB  en-US  eng  enm  ...  rus  spa  srp  swe  tur  wel  zho\n",
              "0    0    0      0      0      0    1    0  ...    0    0    0    0    0    0    0\n",
              "1    0    0      0      0      0    1    0  ...    0    0    0    0    0    0    0\n",
              "2    0    0      0      0      0    1    0  ...    0    0    0    0    0    0    0\n",
              "3    0    0      0      0      0    1    0  ...    0    0    0    0    0    0    0\n",
              "4    0    0      0      0      0    1    0  ...    0    0    0    0    0    0    0\n",
              "\n",
              "[5 rows x 27 columns]"
            ]
          },
          "metadata": {
            "tags": []
          },
          "execution_count": 28
        }
      ]
    },
    {
      "cell_type": "code",
      "metadata": {
        "colab": {
          "base_uri": "https://localhost:8080/",
          "height": 241
        },
        "id": "mupcateEgNbL",
        "outputId": "12458e61-d4cb-47a0-b2cc-07e2c211cfd4"
      },
      "source": [
        "engine_features = pd.concat([rating_between_df, lang_df, new_data['average_rating'], new_data['ratings_count']], axis=1)\n",
        "engine_features.head()"
      ],
      "execution_count": null,
      "outputs": [
        {
          "output_type": "execute_result",
          "data": {
            "text/html": [
              "<div>\n",
              "<style scoped>\n",
              "    .dataframe tbody tr th:only-of-type {\n",
              "        vertical-align: middle;\n",
              "    }\n",
              "\n",
              "    .dataframe tbody tr th {\n",
              "        vertical-align: top;\n",
              "    }\n",
              "\n",
              "    .dataframe thead th {\n",
              "        text-align: right;\n",
              "    }\n",
              "</style>\n",
              "<table border=\"1\" class=\"dataframe\">\n",
              "  <thead>\n",
              "    <tr style=\"text-align: right;\">\n",
              "      <th></th>\n",
              "      <th>between_0_to_1</th>\n",
              "      <th>between_1_to_2</th>\n",
              "      <th>between_2_to_3</th>\n",
              "      <th>between_3_to_4</th>\n",
              "      <th>between_4_to_5</th>\n",
              "      <th>ale</th>\n",
              "      <th>ara</th>\n",
              "      <th>en-CA</th>\n",
              "      <th>en-GB</th>\n",
              "      <th>en-US</th>\n",
              "      <th>eng</th>\n",
              "      <th>enm</th>\n",
              "      <th>fre</th>\n",
              "      <th>ger</th>\n",
              "      <th>gla</th>\n",
              "      <th>glg</th>\n",
              "      <th>grc</th>\n",
              "      <th>ita</th>\n",
              "      <th>jpn</th>\n",
              "      <th>lat</th>\n",
              "      <th>msa</th>\n",
              "      <th>mul</th>\n",
              "      <th>nl</th>\n",
              "      <th>nor</th>\n",
              "      <th>por</th>\n",
              "      <th>rus</th>\n",
              "      <th>spa</th>\n",
              "      <th>srp</th>\n",
              "      <th>swe</th>\n",
              "      <th>tur</th>\n",
              "      <th>wel</th>\n",
              "      <th>zho</th>\n",
              "      <th>average_rating</th>\n",
              "      <th>ratings_count</th>\n",
              "    </tr>\n",
              "  </thead>\n",
              "  <tbody>\n",
              "    <tr>\n",
              "      <th>0</th>\n",
              "      <td>0</td>\n",
              "      <td>0</td>\n",
              "      <td>0</td>\n",
              "      <td>0</td>\n",
              "      <td>1</td>\n",
              "      <td>0</td>\n",
              "      <td>0</td>\n",
              "      <td>0</td>\n",
              "      <td>0</td>\n",
              "      <td>0</td>\n",
              "      <td>1</td>\n",
              "      <td>0</td>\n",
              "      <td>0</td>\n",
              "      <td>0</td>\n",
              "      <td>0</td>\n",
              "      <td>0</td>\n",
              "      <td>0</td>\n",
              "      <td>0</td>\n",
              "      <td>0</td>\n",
              "      <td>0</td>\n",
              "      <td>0</td>\n",
              "      <td>0</td>\n",
              "      <td>0</td>\n",
              "      <td>0</td>\n",
              "      <td>0</td>\n",
              "      <td>0</td>\n",
              "      <td>0</td>\n",
              "      <td>0</td>\n",
              "      <td>0</td>\n",
              "      <td>0</td>\n",
              "      <td>0</td>\n",
              "      <td>0</td>\n",
              "      <td>4.57</td>\n",
              "      <td>2095690</td>\n",
              "    </tr>\n",
              "    <tr>\n",
              "      <th>1</th>\n",
              "      <td>0</td>\n",
              "      <td>0</td>\n",
              "      <td>0</td>\n",
              "      <td>0</td>\n",
              "      <td>1</td>\n",
              "      <td>0</td>\n",
              "      <td>0</td>\n",
              "      <td>0</td>\n",
              "      <td>0</td>\n",
              "      <td>0</td>\n",
              "      <td>1</td>\n",
              "      <td>0</td>\n",
              "      <td>0</td>\n",
              "      <td>0</td>\n",
              "      <td>0</td>\n",
              "      <td>0</td>\n",
              "      <td>0</td>\n",
              "      <td>0</td>\n",
              "      <td>0</td>\n",
              "      <td>0</td>\n",
              "      <td>0</td>\n",
              "      <td>0</td>\n",
              "      <td>0</td>\n",
              "      <td>0</td>\n",
              "      <td>0</td>\n",
              "      <td>0</td>\n",
              "      <td>0</td>\n",
              "      <td>0</td>\n",
              "      <td>0</td>\n",
              "      <td>0</td>\n",
              "      <td>0</td>\n",
              "      <td>0</td>\n",
              "      <td>4.49</td>\n",
              "      <td>2153167</td>\n",
              "    </tr>\n",
              "    <tr>\n",
              "      <th>2</th>\n",
              "      <td>0</td>\n",
              "      <td>0</td>\n",
              "      <td>0</td>\n",
              "      <td>0</td>\n",
              "      <td>1</td>\n",
              "      <td>0</td>\n",
              "      <td>0</td>\n",
              "      <td>0</td>\n",
              "      <td>0</td>\n",
              "      <td>0</td>\n",
              "      <td>1</td>\n",
              "      <td>0</td>\n",
              "      <td>0</td>\n",
              "      <td>0</td>\n",
              "      <td>0</td>\n",
              "      <td>0</td>\n",
              "      <td>0</td>\n",
              "      <td>0</td>\n",
              "      <td>0</td>\n",
              "      <td>0</td>\n",
              "      <td>0</td>\n",
              "      <td>0</td>\n",
              "      <td>0</td>\n",
              "      <td>0</td>\n",
              "      <td>0</td>\n",
              "      <td>0</td>\n",
              "      <td>0</td>\n",
              "      <td>0</td>\n",
              "      <td>0</td>\n",
              "      <td>0</td>\n",
              "      <td>0</td>\n",
              "      <td>0</td>\n",
              "      <td>4.42</td>\n",
              "      <td>6333</td>\n",
              "    </tr>\n",
              "    <tr>\n",
              "      <th>3</th>\n",
              "      <td>0</td>\n",
              "      <td>0</td>\n",
              "      <td>0</td>\n",
              "      <td>0</td>\n",
              "      <td>1</td>\n",
              "      <td>0</td>\n",
              "      <td>0</td>\n",
              "      <td>0</td>\n",
              "      <td>0</td>\n",
              "      <td>0</td>\n",
              "      <td>1</td>\n",
              "      <td>0</td>\n",
              "      <td>0</td>\n",
              "      <td>0</td>\n",
              "      <td>0</td>\n",
              "      <td>0</td>\n",
              "      <td>0</td>\n",
              "      <td>0</td>\n",
              "      <td>0</td>\n",
              "      <td>0</td>\n",
              "      <td>0</td>\n",
              "      <td>0</td>\n",
              "      <td>0</td>\n",
              "      <td>0</td>\n",
              "      <td>0</td>\n",
              "      <td>0</td>\n",
              "      <td>0</td>\n",
              "      <td>0</td>\n",
              "      <td>0</td>\n",
              "      <td>0</td>\n",
              "      <td>0</td>\n",
              "      <td>0</td>\n",
              "      <td>4.56</td>\n",
              "      <td>2339585</td>\n",
              "    </tr>\n",
              "    <tr>\n",
              "      <th>4</th>\n",
              "      <td>0</td>\n",
              "      <td>0</td>\n",
              "      <td>0</td>\n",
              "      <td>0</td>\n",
              "      <td>1</td>\n",
              "      <td>0</td>\n",
              "      <td>0</td>\n",
              "      <td>0</td>\n",
              "      <td>0</td>\n",
              "      <td>0</td>\n",
              "      <td>1</td>\n",
              "      <td>0</td>\n",
              "      <td>0</td>\n",
              "      <td>0</td>\n",
              "      <td>0</td>\n",
              "      <td>0</td>\n",
              "      <td>0</td>\n",
              "      <td>0</td>\n",
              "      <td>0</td>\n",
              "      <td>0</td>\n",
              "      <td>0</td>\n",
              "      <td>0</td>\n",
              "      <td>0</td>\n",
              "      <td>0</td>\n",
              "      <td>0</td>\n",
              "      <td>0</td>\n",
              "      <td>0</td>\n",
              "      <td>0</td>\n",
              "      <td>0</td>\n",
              "      <td>0</td>\n",
              "      <td>0</td>\n",
              "      <td>0</td>\n",
              "      <td>4.78</td>\n",
              "      <td>41428</td>\n",
              "    </tr>\n",
              "  </tbody>\n",
              "</table>\n",
              "</div>"
            ],
            "text/plain": [
              "   between_0_to_1  between_1_to_2  ...  average_rating  ratings_count\n",
              "0               0               0  ...            4.57        2095690\n",
              "1               0               0  ...            4.49        2153167\n",
              "2               0               0  ...            4.42           6333\n",
              "3               0               0  ...            4.56        2339585\n",
              "4               0               0  ...            4.78          41428\n",
              "\n",
              "[5 rows x 34 columns]"
            ]
          },
          "metadata": {
            "tags": []
          },
          "execution_count": 29
        }
      ]
    },
    {
      "cell_type": "code",
      "metadata": {
        "colab": {
          "base_uri": "https://localhost:8080/"
        },
        "id": "hzyIQ1VKgZoq",
        "outputId": "de108c23-da8d-4fb5-f17b-373e397bd704"
      },
      "source": [
        "min_max_scaler = MinMaxScaler()\n",
        "engine_features = min_max_scaler.fit_transform(engine_features)\n",
        "engine_model = neighbors.NearestNeighbors(n_neighbors=6, algorithm='ball_tree')\n",
        "engine_model.fit(engine_features)"
      ],
      "execution_count": null,
      "outputs": [
        {
          "output_type": "execute_result",
          "data": {
            "text/plain": [
              "NearestNeighbors(algorithm='ball_tree', leaf_size=30, metric='minkowski',\n",
              "                 metric_params=None, n_jobs=None, n_neighbors=6, p=2,\n",
              "                 radius=1.0)"
            ]
          },
          "metadata": {
            "tags": []
          },
          "execution_count": 30
        }
      ]
    },
    {
      "cell_type": "code",
      "metadata": {
        "id": "PeUJcas3gj8y"
      },
      "source": [
        "dist, idlist = engine_model.kneighbors(engine_features)"
      ],
      "execution_count": null,
      "outputs": []
    },
    {
      "cell_type": "code",
      "metadata": {
        "id": "YoSd2pAcgpKL"
      },
      "source": [
        "def book_recommendation_engine(book_name):\n",
        "    book_list_name = []\n",
        "    book_list_name_au=[]\n",
        "    book_id = new_data[new_data['title'] == book_name].index\n",
        "    book_id = book_id[0]\n",
        "#     print('book_id', book_id)\n",
        "    for newid in idlist[book_id]:\n",
        "#         print(newid)\n",
        "        book_list_name.append(new_data.loc[newid].title)\n",
        "        book_list_name_au.append(new_data.loc[newid].authors)\n",
        "#         print(new_data.loc[newid].title)\n",
        "    return book_list_name,book_list_name_au\n"
      ],
      "execution_count": null,
      "outputs": []
    },
    {
      "cell_type": "markdown",
      "metadata": {
        "id": "pX6ldcUwRb_s"
      },
      "source": [
        "nlp\n"
      ]
    },
    {
      "cell_type": "code",
      "metadata": {
        "id": "EOEcmM0g6pYk"
      },
      "source": [
        "from chatterbot.trainers import ChatterBotCorpusTrainer\n",
        "from chatterbot import ChatBot\n",
        "from chatterbot.trainers import UbuntuCorpusTrainer \n",
        "chatbot = ChatBot('cynrasu',\n",
        "    storage_adapter='chatterbot.storage.SQLStorageAdapter',\n",
        "    logic_adapters=[\n",
        "        {\n",
        "            'import_path': 'chatterbot.logic.BestMatch',\n",
        "            'default_response': 'sorry try some other books',\n",
        "            'maximum_similarity_threshold': 0.90 \n",
        "\n",
        "        }\n",
        "    ]\n",
        ")\n",
        " \n",
        " \n",
        "trainer = ChatterBotCorpusTrainer(chatbot)"
      ],
      "execution_count": null,
      "outputs": []
    },
    {
      "cell_type": "code",
      "metadata": {
        "id": "u3vZfqoc7zc9",
        "colab": {
          "base_uri": "https://localhost:8080/"
        },
        "outputId": "4b630872-40ac-41cb-8bb2-3c9f9cebcdc9"
      },
      "source": [
        "trainer.train('/content/drive/MyDrive/chatbot python/dataset for lib.yml')\n",
        "trainer.train('/content/drive/MyDrive/chatbot python/dataset for lib_2.yml')"
      ],
      "execution_count": null,
      "outputs": [
        {
          "output_type": "stream",
          "text": [
            "Training dataset for lib.yml: [####################] 100%\n",
            "Training dataset for lib_2.yml: [####################] 100%\n"
          ],
          "name": "stdout"
        }
      ]
    },
    {
      "cell_type": "markdown",
      "metadata": {
        "id": "wbQi7E1mfMoE"
      },
      "source": [
        "suggestion"
      ]
    },
    {
      "cell_type": "code",
      "metadata": {
        "id": "fDR_aAmCfRE3"
      },
      "source": [
        "def before_suggest(ij):  \n",
        "  ij=ij.replace('suggest','')\n",
        "  return ij.strip()"
      ],
      "execution_count": null,
      "outputs": []
    },
    {
      "cell_type": "code",
      "metadata": {
        "id": "bkX6ha1GfKrv"
      },
      "source": [
        "def suggest(inp):\n",
        "  mll=[]\n",
        "  y=0\n",
        "  inp=before_suggest(inp)\n",
        "  for u_s in data['title']:\n",
        "    low=u_s.lower()\n",
        "    inp_s=inp.lower()\n",
        "    if low == inp_s:\n",
        "      book_sug,au=book_recommendation_engine(u_s)\n",
        "      ss=\"The suugesstion for gien book \"+u_s\n",
        "      mll.append((ss))\n",
        "      for x in range(len(book_sug)):\n",
        "        m=book_sug[x]+\" by \"+au[x]\n",
        "        mll.append((m))\n",
        "      break\n",
        "  return mll"
      ],
      "execution_count": null,
      "outputs": []
    },
    {
      "cell_type": "code",
      "metadata": {
        "colab": {
          "base_uri": "https://localhost:8080/"
        },
        "id": "XLMGsrkHWJWY",
        "outputId": "05e15b1f-b8c5-4a0d-8bf3-104d59665094"
      },
      "source": [
        "suggest('the van')\n"
      ],
      "execution_count": null,
      "outputs": [
        {
          "output_type": "execute_result",
          "data": {
            "text/plain": [
              "['The suugesstion for gien book The Van',\n",
              " 'The Van by Roddy Doyle',\n",
              " 'On Genesis/A Refutation of the Manichees/The Unfinished Literal Meaning of Genesis (Works of St Augustine 1) by Augustine of Hippo/Boniface Ramsey/Edmund Hill',\n",
              " 'The Golden Tulip by Rosalind Laker',\n",
              " 'Active Literacy Across the Curriculum: Strategies for Reading  Writing  Speaking  and Listening by Heidi Hayes Jacobs',\n",
              " 'If the River Was Whiskey: Stories by T. Coraghessan Boyle',\n",
              " '4:50 from Paddington / A Pocket Full of Rye (BBC Presents: Two Miss Marple Dramas) by Agatha Christie']"
            ]
          },
          "metadata": {
            "tags": []
          },
          "execution_count": 138
        }
      ]
    },
    {
      "cell_type": "markdown",
      "metadata": {
        "id": "0eAlx49Jg4iI"
      },
      "source": [
        "dataset at lib\n"
      ]
    },
    {
      "cell_type": "code",
      "metadata": {
        "id": "rN6bJqEJg6zn"
      },
      "source": [
        "data_lib = pd.read_csv(\"/content/drive/MyDrive/chatbot python/Untitled spreadsheet - Sheet1.csv\", error_bad_lines = False)"
      ],
      "execution_count": null,
      "outputs": []
    },
    {
      "cell_type": "code",
      "metadata": {
        "id": "jctFD3B2rGDz"
      },
      "source": [
        "def before_check(ij):  \n",
        "  ij=ij.replace('check','')\n",
        "  return ij.strip()"
      ],
      "execution_count": null,
      "outputs": []
    },
    {
      "cell_type": "code",
      "metadata": {
        "id": "noCbJAG98lH9"
      },
      "source": [
        "def seperate(aa):\n",
        "  ap=''\n",
        "  for a in aa:\n",
        "    if a == '(':\n",
        "      aa=aa.split(\"(\")\n",
        "  if len(aa)==2:\n",
        "    ap=ap+aa[0]\n",
        "  if len(aa)!=2:\n",
        "    ap=aa\n",
        "\n",
        "  return ap.strip()  "
      ],
      "execution_count": null,
      "outputs": []
    },
    {
      "cell_type": "code",
      "metadata": {
        "id": "-n9jf-UJf1_v"
      },
      "source": [
        "def check(inp):\n",
        "  inp=before_check(inp)\n",
        "  mll=''\t\n",
        "  for u in data_lib['title']:\n",
        "    lo=u.lower().strip()\n",
        "    inp=inp.lower().strip()\n",
        "    api=inp.split()  \n",
        "    if lo==inp:\n",
        "      u=seperate(u)\n",
        "      print(u)\n",
        "      agg=data_lib[data_lib['title'].str.contains(u, na=False)]\n",
        "      agg=agg.head(1)\n",
        "      avai=agg['availability'].reset_index(drop=True)\n",
        "      due=agg['due'].reset_index(drop=True)\n",
        "      rack=agg['rack no'].reset_index(drop=True)\n",
        "      if avai[0].strip()=='yes':\n",
        "        print(\"the book was in rack\",rack[0])\n",
        "        srack=str(rack[0])\n",
        "        mll=mll+\"The book \"+u+ \"was in rack\"+srack[0]\n",
        "      if avai[0].strip()=='no':\n",
        "        print(\"the book will be return back within \",due[0],\"days\")\n",
        "        sdue=str(due[0])\n",
        "        mll=mll+\"sorry,the book\"+u+\" currently not available\"+\"The book will be return back within \"+sdue+\" days\"\n",
        "  return mll"
      ],
      "execution_count": null,
      "outputs": []
    },
    {
      "cell_type": "code",
      "metadata": {
        "id": "CCKwdJnfbxvj"
      },
      "source": [
        "def make_reply(input_book):\n",
        "  inpp=input_book.replace(\"-\",' tot ').replace(\"#\",'<').replace(\":\",'>').strip()\n",
        "  print(inpp)\n",
        "  reply=chatbot.get_response(inpp)\n",
        "  reply=reply.text\n",
        "  reply=reply.replace(' tot ',\"-\").replace(\"<\",' #').replace(\">\",':')\n",
        "  reply_sp=reply.split()\n",
        "  if reply_sp[0]=='suggest':\n",
        "    print(reply)\n",
        "    out=suggest(reply)\n",
        "  if reply_sp[0]=='check':\n",
        "    out=check(reply)\n",
        "  if reply=='sorry try some other books':\n",
        "    out='sorry,please try some other books'  \n",
        "  if out=='':\n",
        "    out='sorry,please try some other books'\n",
        "  return out"
      ],
      "execution_count": null,
      "outputs": []
    },
    {
      "cell_type": "code",
      "metadata": {
        "colab": {
          "base_uri": "https://localhost:8080/",
          "height": 35
        },
        "id": "mgTOBD9pZJFi",
        "outputId": "7a66c85d-9f20-44b7-e8ab-559696238681"
      },
      "source": [
        "lo=chatbot.get_response('can i get the book harry potter and the chamber of se')\n",
        "lo=lo.text\n",
        "lo=lo.replace(' tot ',\"-\").replace(\"<\",' #').replace(\">\",':')\n",
        "lo"
      ],
      "execution_count": null,
      "outputs": [
        {
          "output_type": "execute_result",
          "data": {
            "application/vnd.google.colaboratory.intrinsic+json": {
              "type": "string"
            },
            "text/plain": [
              "'check Harry Potter and the Chamber of Secrets (Harry Potter  #2)'"
            ]
          },
          "metadata": {
            "tags": []
          },
          "execution_count": 153
        }
      ]
    },
    {
      "cell_type": "code",
      "metadata": {
        "colab": {
          "base_uri": "https://localhost:8080/",
          "height": 86
        },
        "id": "myMnI1MFN3DN",
        "outputId": "eff31e42-9686-4cb5-b87d-57e43da7a1dc"
      },
      "source": [
        "make_reply(\"can i get the book the va\")"
      ],
      "execution_count": null,
      "outputs": [
        {
          "output_type": "stream",
          "text": [
            "can i get the book the va\n",
            "the book was in rack 111.0\n"
          ],
          "name": "stdout"
        },
        {
          "output_type": "execute_result",
          "data": {
            "application/vnd.google.colaboratory.intrinsic+json": {
              "type": "string"
            },
            "text/plain": [
              "'The book Unauthorized Harry Potter Book Seven News: \"Half-Blood Prince\" Analysis and Speculationwas in rack1'"
            ]
          },
          "metadata": {
            "tags": []
          },
          "execution_count": 42
        }
      ]
    },
    {
      "cell_type": "code",
      "metadata": {
        "colab": {
          "base_uri": "https://localhost:8080/",
          "height": 69
        },
        "id": "EdpUk3v_PcFM",
        "outputId": "f926ee93-62c7-4c66-fd86-58090332762a"
      },
      "source": [
        "check('The Van')"
      ],
      "execution_count": null,
      "outputs": [
        {
          "output_type": "stream",
          "text": [
            "\n",
            "the book was in rack 111.0\n"
          ],
          "name": "stdout"
        },
        {
          "output_type": "execute_result",
          "data": {
            "application/vnd.google.colaboratory.intrinsic+json": {
              "type": "string"
            },
            "text/plain": [
              "'The book was in rack1'"
            ]
          },
          "metadata": {
            "tags": []
          },
          "execution_count": 216
        }
      ]
    },
    {
      "cell_type": "markdown",
      "metadata": {
        "id": "iZf7gXOW2wdG"
      },
      "source": [
        "colab"
      ]
    },
    {
      "cell_type": "markdown",
      "metadata": {
        "id": "jKuzfpsZRiKN"
      },
      "source": [
        "telegram part"
      ]
    },
    {
      "cell_type": "code",
      "metadata": {
        "id": "I-EHpbNPMUaL"
      },
      "source": [
        "import requests\n",
        "import json\n",
        "import configparser as cfg\n",
        " \n",
        " \n",
        "class telegram_chatbot():\n",
        " \n",
        "    def __init__(self, config):\n",
        "        self.token = self.read_token_from_config_file(config)\n",
        "        self.base = \"https://api.telegram.org/bot{}/\".format(self.token)\n",
        " \n",
        "    def get_updates(self, offset=None):\n",
        "        url = self.base + \"getUpdates?timeout=100\"\n",
        "        if offset:\n",
        "            url = url + \"&offset={}\".format(offset + 1)\n",
        "        r = requests.get(url)\n",
        "        return json.loads(r.content)\n",
        "\n",
        "    def send_message(self, msg, chat_id):\n",
        "        url = self.base + \"sendMessage?chat_id={}&text={}\".format(chat_id, msg)\n",
        "        if msg is not None:\n",
        "            requests.get(url)\n",
        " \n",
        "    def read_token_from_config_file(self, config):\n",
        "        parser = cfg.ConfigParser()\n",
        "        parser.read(config)\n",
        "        return parser.get('creds', 'token')"
      ],
      "execution_count": null,
      "outputs": []
    },
    {
      "cell_type": "code",
      "metadata": {
        "id": "NNu6NgPrQh8N"
      },
      "source": [
        "bot = telegram_chatbot(\"/content/drive/My Drive/chatbot python/config.cfg\")"
      ],
      "execution_count": null,
      "outputs": []
    },
    {
      "cell_type": "code",
      "metadata": {
        "id": "4zzZfos3zXvS"
      },
      "source": [
        "ap=suggest(\"Exodus\")"
      ],
      "execution_count": null,
      "outputs": []
    },
    {
      "cell_type": "markdown",
      "metadata": {
        "id": "tp1YvzwjRlZk"
      },
      "source": [
        "telegram output"
      ]
    },
    {
      "cell_type": "code",
      "metadata": {
        "id": "U9KvH12-QhMR",
        "colab": {
          "base_uri": "https://localhost:8080/"
        },
        "outputId": "e20dd883-943e-43ea-e8d5-ec914fc5e1b1"
      },
      "source": [
        "update_id = None\n",
        "while True:\n",
        "  try:\n",
        "    updates = bot.get_updates(offset=update_id)\n",
        "    updates = updates[\"result\"]\n",
        "    if updates:\n",
        "        for item in updates:\n",
        "            update_id = item[\"update_id\"]\n",
        "            try:\n",
        "                message = str(item[\"message\"][\"text\"])\n",
        "                message = message.replace(\"/\",\"\")\n",
        "                print(message)\n",
        "            except:\n",
        "                message = None\n",
        "            from_ = item[\"message\"][\"chat\"][\"id\"]\n",
        "            print(message)\n",
        "            replyto= make_reply(message)\n",
        "            if len(replyto)==7:\n",
        "              for re in replyto:\n",
        "                bot.send_message(re, from_)\n",
        "            else:\n",
        "                  bot.send_message(replyto, from_) \n",
        "              \n",
        "            \n",
        "  except :\n",
        "    bot.send_message('The server is in maintence,please try after some times', from_)\n",
        "    print('stoped')\n",
        "    break"
      ],
      "execution_count": null,
      "outputs": [
        {
          "output_type": "stream",
          "text": [
            "Can i get the book harry potter and the order of phoneix\n",
            "Can i get the book harry potter and the order of phoneix\n",
            "Can i get the book harry potter and the order of phoneix\n",
            "Harry Potter and the Order of the Phoenix\n",
            "the book was in rack 111.0\n",
            "can i get the book the van\n",
            "can i get the book the van\n",
            "can i get the book the van\n",
            "The Van\n",
            "the book will be return back within  8.0 days\n",
            "can you suggest me some books like exodus\n",
            "can you suggest me some books like exodus\n",
            "can you suggest me some books like exodus\n",
            "suggest Exodus\n",
            "stoped\n"
          ],
          "name": "stdout"
        }
      ]
    },
    {
      "cell_type": "code",
      "metadata": {
        "colab": {
          "base_uri": "https://localhost:8080/"
        },
        "id": "l6xgFbnyVpQF",
        "outputId": "35e3bfca-49f6-48ca-812f-b437d6b058a2"
      },
      "source": [
        "len(replyto)"
      ],
      "execution_count": null,
      "outputs": [
        {
          "output_type": "execute_result",
          "data": {
            "text/plain": [
              "89"
            ]
          },
          "metadata": {
            "tags": []
          },
          "execution_count": 120
        }
      ]
    },
    {
      "cell_type": "markdown",
      "metadata": {
        "id": "lOBru1HTRoSF"
      },
      "source": [
        "dummy"
      ]
    },
    {
      "cell_type": "code",
      "metadata": {
        "id": "O_BwZzdgMO-1"
      },
      "source": [
        "f=input(\"enter the book name :\")\n",
        "z=0\n",
        "y=0 \n",
        "au=[]\n",
        "l=autocorrect(f,vocab, probs)\n",
        "temp=generateTitleCase(l)\n",
        "temp=temp.strip()\n",
        "agg = data[data['title'].str.contains(temp, na=False)]\n",
        "d=agg['title']\n",
        "if len(d)==1:\n",
        "  d=d.reset_index(drop=True)\n",
        "  print(\"the book was\",d[0])\n",
        "  book_sug,au=book_recommendation_engine(d[0])\n",
        "  print(\"\\nThe suugesstion for gien book\",d[0])\n",
        "  for x in book_sug:\n",
        "    print(x,\"by\",au[y])\n",
        "    y=y+1\n",
        "if len(d)>1:\n",
        "  s=np.random.choice(d)\n",
        "  print(\"the book was\",s)\n",
        "  book_sug,au=book_recommendation_engine(s)\n",
        "  print(\"\\nThe suugesstion for gien book\",s)\n",
        "  for x in book_sug:\n",
        "    print(x,\"by\",au[y])\n",
        "    y=y+1\n",
        "    \n",
        "\n",
        "else:\n",
        "  reply=make_reply_nlp(f)\n",
        "  print(reply)"
      ],
      "execution_count": null,
      "outputs": []
    },
    {
      "cell_type": "code",
      "metadata": {
        "id": "iZMaiWrf_a8w"
      },
      "source": [
        "\n",
        "def make_reply(f):\n",
        "  z=0\n",
        "  y=0\n",
        "  u=0\n",
        "  mll=[]\n",
        "  l=autocorrect(f,vocab, probs)\n",
        "  temp=generateTitleCase(l)\n",
        "  temp=temp.strip()\n",
        "  agg = data[data['title'].str.contains(temp, na=False)]\n",
        "  d=agg['title']\n",
        "  if len(d)==1:\n",
        "    d=d.reset_index(drop=True)\n",
        "    print(\"the book was\",d[0])\n",
        "    book_sug,au=book_recommendation_engine(d[0])\n",
        "    ss=\"The suugesstion for gien book\"+d[0]\n",
        "    mll.append((ss))\n",
        "    for x in book_sug:\n",
        "      m=x+\" by \"+au[y]\n",
        "      y=y+1\n",
        "      mll.append((m))\n",
        "  if len(d)>1:\n",
        "    s=np.random.choice(d)\n",
        "    print(\"the book was\",s)\n",
        "    book_sug,au=book_recommendation_engine(s)\n",
        "    print(\"\\nThe suugesstion for given book\",s)\n",
        "    ss=\"The suugesstion for gien book\"+s\n",
        "    mll.append((ss))\n",
        "    for x in book_sug:\n",
        "      m= x+\" by \"+au[y]\n",
        "      y=y+1\n",
        "      mll.append((m))\n",
        "  if len(d)==0:\n",
        "     mll=\"try  some other books\"\n",
        "  return mll\n",
        "  "
      ],
      "execution_count": null,
      "outputs": []
    },
    {
      "cell_type": "code",
      "metadata": {
        "id": "paKZVmSlSmjZ"
      },
      "source": [
        "make_reply(\"hobbbit\")"
      ],
      "execution_count": null,
      "outputs": []
    },
    {
      "cell_type": "code",
      "metadata": {
        "id": "t1GrUDqutx71"
      },
      "source": [
        "word=\"can i get some bookk like harry potter ?!\"\n",
        "word=word.split()\n",
        "word"
      ],
      "execution_count": null,
      "outputs": []
    },
    {
      "cell_type": "code",
      "metadata": {
        "id": "MWB7jovXuNNY"
      },
      "source": [
        "delete_l=[]\n",
        "split_l_for_sen = []\n",
        "split_l_for_sen = [(word[:i], word[i:]) for i in range(len(word))]\n",
        "delete_l = [s[0]+s[1][1:] for s in split_l_for_sen]"
      ],
      "execution_count": null,
      "outputs": []
    },
    {
      "cell_type": "code",
      "metadata": {
        "id": "hB6m-dSTutAf"
      },
      "source": [
        "split_l_for_sen\n"
      ],
      "execution_count": null,
      "outputs": []
    },
    {
      "cell_type": "code",
      "metadata": {
        "id": "Di_55xA_yfF9"
      },
      "source": [
        "delete_l[0]"
      ],
      "execution_count": null,
      "outputs": []
    },
    {
      "cell_type": "code",
      "metadata": {
        "id": "EnSQCcR4xR5F"
      },
      "source": [
        "for j in range(len(word)):\n",
        "  word_10=delete_l[j]\n",
        "  split_l_for_sen1 = [(word_1[:k], word_1[k:]) for k in range(len(word_10))]\n",
        "  for one in range(len(split_l_for_sen1[0])):\n",
        "    for two in range(len(split_l_for_sen1)):\n",
        "      if split_l_for_sen1[two][one] in file:\n",
        "        print(split_l_for_sen1[two][one])\n",
        "  "
      ],
      "execution_count": null,
      "outputs": []
    },
    {
      "cell_type": "code",
      "metadata": {
        "id": "XZcTDZSElbNz"
      },
      "source": [
        "len(split_l_for_sen1[])"
      ],
      "execution_count": null,
      "outputs": []
    },
    {
      "cell_type": "code",
      "metadata": {
        "id": "_qVz_t_Tzyzl"
      },
      "source": [
        "split_l_for_sen1"
      ],
      "execution_count": null,
      "outputs": []
    },
    {
      "cell_type": "code",
      "metadata": {
        "id": "7Qef7JQJ6Ny2"
      },
      "source": [
        "import yaml"
      ],
      "execution_count": null,
      "outputs": []
    },
    {
      "cell_type": "code",
      "metadata": {
        "id": "BN_TETX46OMl"
      },
      "source": [
        "with open('/content/drive/MyDrive/chatbot python/data/chatterbot_corpus/data/english/greetings.yml') as dataset:\n",
        "  dataset_yaml=yaml.load(dataset)"
      ],
      "execution_count": null,
      "outputs": []
    },
    {
      "cell_type": "code",
      "metadata": {
        "id": "hH9Cl64C7K5u"
      },
      "source": [
        "dataset_yaml"
      ],
      "execution_count": null,
      "outputs": []
    },
    {
      "cell_type": "code",
      "metadata": {
        "id": "Sk2eNz6O6OIm"
      },
      "source": [
        "new=,new]}"
      ],
      "execution_count": null,
      "outputs": []
    },
    {
      "cell_type": "code",
      "metadata": {
        "id": "R5UTTjZZ9dCe"
      },
      "source": [
        "dataset_yaml"
      ],
      "execution_count": null,
      "outputs": []
    },
    {
      "cell_type": "code",
      "metadata": {
        "id": "zzXvDHfAL7ML"
      },
      "source": [
        "for_dataset=data['title']"
      ],
      "execution_count": null,
      "outputs": []
    },
    {
      "cell_type": "code",
      "metadata": {
        "id": "vvPyPuBYG7hD"
      },
      "source": [
        "newfile=open('/content/drive/MyDrive/chatbot python/data/chatterbot_corpus/data/english/canyou_lower.yml','w')"
      ],
      "execution_count": null,
      "outputs": []
    },
    {
      "cell_type": "code",
      "metadata": {
        "id": "qsiVDWK6MCum"
      },
      "source": [
        "for fil in for_dataset:\n",
        "  fi=fil.replace(\"-\",\" to \").replace(\" #\",'').replace(\":\",'')\n",
        "  fi_l=fi.lower()\n",
        "  newfile.write('\\n- - show me similar books like '+fi_l+'\\n  - suggest '+fi)"
      ],
      "execution_count": null,
      "outputs": []
    },
    {
      "cell_type": "code",
      "metadata": {
        "id": "rroYpbE_btNq"
      },
      "source": [
        "import yaml"
      ],
      "execution_count": null,
      "outputs": []
    },
    {
      "cell_type": "code",
      "metadata": {
        "id": "5ju2dNPPhV6w"
      },
      "source": [
        "newd"
      ],
      "execution_count": null,
      "outputs": []
    },
    {
      "cell_type": "code",
      "metadata": {
        "id": "gmlNpeP0NpiX"
      },
      "source": [
        ""
      ],
      "execution_count": null,
      "outputs": []
    },
    {
      "cell_type": "code",
      "metadata": {
        "id": "8RJA-HO2MrPO"
      },
      "source": [
        ""
      ],
      "execution_count": null,
      "outputs": []
    },
    {
      "cell_type": "code",
      "metadata": {
        "id": "s6wb9qafz_C0"
      },
      "source": [
        "#def generateTitleCase(input_string):\n",
        "  \n",
        "    articles = [\"a\", \"an\", \"the\",'The']\n",
        "    conjunctions = [\"and\", \"but\",\"for\", \"nor\",\"or\", \"so\",\"yet\"]\n",
        "    prepositions = [\"in\", \"to\", \"for\", \"with\", \"on\", \"at\",\"from\", \"by\", \"about\",\"as\", \"into\", \"like\",\"through\", \"after\", \"over\",\"between\", \"out\", \"against\",\"during\", \"without\", \"before\",\"under\", \"around\", \"among\",\"of\"] \n",
        "    lower_case = articles + conjunctions + prepositions\n",
        "    output_string = \"\"\n",
        "    input_list = input_string.split(\" \")\n",
        "    for word in input_list:\n",
        "        if word in lower_case:\n",
        "            output_string += word + \" \"\n",
        "        else:\n",
        "            temp = word.title()\n",
        "            output_string += temp + \" \"\n",
        "    return output_string\n",
        "  "
      ],
      "execution_count": null,
      "outputs": []
    },
    {
      "cell_type": "code",
      "metadata": {
        "id": "7_c-XYGfNl6S"
      },
      "source": [
        ""
      ],
      "execution_count": null,
      "outputs": []
    }
  ]
}